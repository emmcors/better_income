{
 "cells": [
  {
   "cell_type": "markdown",
   "metadata": {
    "id": "3rYiDeEH0q0f"
   },
   "source": [
    "# Megaline - ¿Cuál es la mejor tarifa?\n",
    "\n",
    "La empresa Megaline ofrece a sus clientes dos tarifas de prepago, Surf y Ultimate. El departamento comercial quiere saber cuál de las tarifas genera más ingresos para poder ajustar el presupuesto de publicidad.\n",
    "\n",
    "Realizaremos un análisis preliminar de las tarifas basado en una selección de clientes relativamente pequeña.  \n",
    "Contamos con los datos de 500 clientes de Megaline:\n",
    "* Quiénes son los clientes\n",
    "* De dónde son\n",
    "* Qué tarifa usan\n",
    "* Cantidad de llamadas que hicieron\n",
    "* Mensajes de texto que enviaron en 2018  \n",
    "\n",
    "Nuestro trabajo será analizar el comportamiento de los clientes y determinar qué tarifa de prepago genera más ingresos."
   ]
  },
  {
   "cell_type": "markdown",
   "metadata": {
    "id": "VNddPNRQ0q0w"
   },
   "source": [
    "Este proyecto tiene como objetivo estudiar el comportamiento de los usuarios de una red telefónica para determinar cómo influye el plan al que están suscritos en su consumo y en los ingresos de la empresa."
   ]
  },
  {
   "cell_type": "markdown",
   "metadata": {
    "id": "MQi4IPy70q0y"
   },
   "source": [
    "## Inicialización"
   ]
  },
  {
   "cell_type": "code",
   "execution_count": 1,
   "metadata": {
    "id": "MtYIuBxu0q0z"
   },
   "outputs": [],
   "source": [
    "# Cargamos las librerías necesarias\n",
    "import pandas as pd\n",
    "import numpy as np\n",
    "import math as mt\n",
    "import seaborn as sns\n",
    "from matplotlib import pyplot as plt\n",
    "from scipy import stats as st"
   ]
  },
  {
   "cell_type": "markdown",
   "metadata": {
    "id": "4ysWWC5i0q00"
   },
   "source": [
    "## Cargar datos"
   ]
  },
  {
   "cell_type": "code",
   "execution_count": 2,
   "metadata": {
    "id": "CCqPW7rS0q01"
   },
   "outputs": [],
   "source": [
    "# Cargamos los archivos de datos en diferentes DataFrames\n",
    "df_calls = pd.read_csv('./datasets/megaline_calls.csv')\n",
    "df_internet = pd.read_csv('./datasets/megaline_internet.csv')\n",
    "df_messages = pd.read_csv('./datasets/megaline_messages.csv')\n",
    "df_plans = pd.read_csv('./datasets/megaline_plans.csv')\n",
    "df_users = pd.read_csv('./datasets/megaline_users.csv')"
   ]
  },
  {
   "cell_type": "markdown",
   "metadata": {
    "id": "69qqoJ3r0q01"
   },
   "source": [
    "## Preparar los datos"
   ]
  },
  {
   "cell_type": "markdown",
   "metadata": {
    "id": "ohBhimvH0q01"
   },
   "source": [
    "## Tarifas"
   ]
  },
  {
   "cell_type": "code",
   "execution_count": 3,
   "metadata": {
    "id": "GptqP3Q40q02"
   },
   "outputs": [
    {
     "name": "stdout",
     "output_type": "stream",
     "text": [
      "<class 'pandas.core.frame.DataFrame'>\n",
      "RangeIndex: 2 entries, 0 to 1\n",
      "Data columns (total 8 columns):\n",
      " #   Column                 Non-Null Count  Dtype  \n",
      "---  ------                 --------------  -----  \n",
      " 0   messages_included      2 non-null      int64  \n",
      " 1   mb_per_month_included  2 non-null      int64  \n",
      " 2   minutes_included       2 non-null      int64  \n",
      " 3   usd_monthly_pay        2 non-null      int64  \n",
      " 4   usd_per_gb             2 non-null      int64  \n",
      " 5   usd_per_message        2 non-null      float64\n",
      " 6   usd_per_minute         2 non-null      float64\n",
      " 7   plan_name              2 non-null      object \n",
      "dtypes: float64(2), int64(5), object(1)\n",
      "memory usage: 260.0+ bytes\n"
     ]
    }
   ],
   "source": [
    "# Imprimimos la información general sobre el DataFrame de las tarifas\n",
    "df_plans.info(show_counts=True)"
   ]
  },
  {
   "cell_type": "code",
   "execution_count": 4,
   "metadata": {
    "id": "64xzjwL70q02"
   },
   "outputs": [
    {
     "data": {
      "text/html": [
       "<div>\n",
       "<style scoped>\n",
       "    .dataframe tbody tr th:only-of-type {\n",
       "        vertical-align: middle;\n",
       "    }\n",
       "\n",
       "    .dataframe tbody tr th {\n",
       "        vertical-align: top;\n",
       "    }\n",
       "\n",
       "    .dataframe thead th {\n",
       "        text-align: right;\n",
       "    }\n",
       "</style>\n",
       "<table border=\"1\" class=\"dataframe\">\n",
       "  <thead>\n",
       "    <tr style=\"text-align: right;\">\n",
       "      <th></th>\n",
       "      <th>messages_included</th>\n",
       "      <th>mb_per_month_included</th>\n",
       "      <th>minutes_included</th>\n",
       "      <th>usd_monthly_pay</th>\n",
       "      <th>usd_per_gb</th>\n",
       "      <th>usd_per_message</th>\n",
       "      <th>usd_per_minute</th>\n",
       "      <th>plan_name</th>\n",
       "    </tr>\n",
       "  </thead>\n",
       "  <tbody>\n",
       "    <tr>\n",
       "      <th>0</th>\n",
       "      <td>50</td>\n",
       "      <td>15360</td>\n",
       "      <td>500</td>\n",
       "      <td>20</td>\n",
       "      <td>10</td>\n",
       "      <td>0.03</td>\n",
       "      <td>0.03</td>\n",
       "      <td>surf</td>\n",
       "    </tr>\n",
       "    <tr>\n",
       "      <th>1</th>\n",
       "      <td>1000</td>\n",
       "      <td>30720</td>\n",
       "      <td>3000</td>\n",
       "      <td>70</td>\n",
       "      <td>7</td>\n",
       "      <td>0.01</td>\n",
       "      <td>0.01</td>\n",
       "      <td>ultimate</td>\n",
       "    </tr>\n",
       "  </tbody>\n",
       "</table>\n",
       "</div>"
      ],
      "text/plain": [
       "   messages_included  mb_per_month_included  minutes_included  \\\n",
       "0                 50                  15360               500   \n",
       "1               1000                  30720              3000   \n",
       "\n",
       "   usd_monthly_pay  usd_per_gb  usd_per_message  usd_per_minute plan_name  \n",
       "0               20          10             0.03            0.03      surf  \n",
       "1               70           7             0.01            0.01  ultimate  "
      ]
     },
     "execution_count": 4,
     "metadata": {},
     "output_type": "execute_result"
    }
   ],
   "source": [
    "# Imprimimos una muestra de los datos para las tarifas\n",
    "df_plans"
   ]
  },
  {
   "cell_type": "markdown",
   "metadata": {
    "id": "mEc_3_hs0q02"
   },
   "source": [
    "Los datos sobre los planes, no contienen valores nulos. Los tipos de datos son correctos, aunque tal vez, se podría cambiar el tipo de dato a float para todas las columnas que hagan referencia a un precio. Sin embargo, no es realmente necesario, ya que los valores que almacenan esas columnas son todos enteros, al igual que no necesitan ser de tipo float para hacer operaciones con ellos."
   ]
  },
  {
   "cell_type": "markdown",
   "metadata": {
    "id": "R3C05i1l0q03"
   },
   "source": [
    "### Corregir datos"
   ]
  },
  {
   "cell_type": "markdown",
   "metadata": {
    "id": "bIi8StZI0q03"
   },
   "source": [
    "No hay problema con los datos de las tarifas."
   ]
  },
  {
   "cell_type": "markdown",
   "metadata": {
    "id": "LJir7bml0q03"
   },
   "source": [
    "### Enriquecer los datos"
   ]
  },
  {
   "cell_type": "markdown",
   "metadata": {
    "id": "eqADpCfg0q04"
   },
   "source": [
    "Es importante destacar que los datos incluidos en el plan, están en megabytes, sin embargo el precio especificado es por cada gigabyte, por lo que habrá que hacer una conversión."
   ]
  },
  {
   "cell_type": "code",
   "execution_count": 5,
   "metadata": {},
   "outputs": [
    {
     "data": {
      "text/html": [
       "<div>\n",
       "<style scoped>\n",
       "    .dataframe tbody tr th:only-of-type {\n",
       "        vertical-align: middle;\n",
       "    }\n",
       "\n",
       "    .dataframe tbody tr th {\n",
       "        vertical-align: top;\n",
       "    }\n",
       "\n",
       "    .dataframe thead th {\n",
       "        text-align: right;\n",
       "    }\n",
       "</style>\n",
       "<table border=\"1\" class=\"dataframe\">\n",
       "  <thead>\n",
       "    <tr style=\"text-align: right;\">\n",
       "      <th></th>\n",
       "      <th>messages_included</th>\n",
       "      <th>gb_per_month_included</th>\n",
       "      <th>minutes_included</th>\n",
       "      <th>usd_monthly_pay</th>\n",
       "      <th>usd_per_gb</th>\n",
       "      <th>usd_per_message</th>\n",
       "      <th>usd_per_minute</th>\n",
       "      <th>plan_name</th>\n",
       "    </tr>\n",
       "  </thead>\n",
       "  <tbody>\n",
       "    <tr>\n",
       "      <th>0</th>\n",
       "      <td>50</td>\n",
       "      <td>15.0</td>\n",
       "      <td>500</td>\n",
       "      <td>20</td>\n",
       "      <td>10</td>\n",
       "      <td>0.03</td>\n",
       "      <td>0.03</td>\n",
       "      <td>surf</td>\n",
       "    </tr>\n",
       "    <tr>\n",
       "      <th>1</th>\n",
       "      <td>1000</td>\n",
       "      <td>30.0</td>\n",
       "      <td>3000</td>\n",
       "      <td>70</td>\n",
       "      <td>7</td>\n",
       "      <td>0.01</td>\n",
       "      <td>0.01</td>\n",
       "      <td>ultimate</td>\n",
       "    </tr>\n",
       "  </tbody>\n",
       "</table>\n",
       "</div>"
      ],
      "text/plain": [
       "   messages_included  gb_per_month_included  minutes_included  \\\n",
       "0                 50                   15.0               500   \n",
       "1               1000                   30.0              3000   \n",
       "\n",
       "   usd_monthly_pay  usd_per_gb  usd_per_message  usd_per_minute plan_name  \n",
       "0               20          10             0.03            0.03      surf  \n",
       "1               70           7             0.01            0.01  ultimate  "
      ]
     },
     "execution_count": 5,
     "metadata": {},
     "output_type": "execute_result"
    }
   ],
   "source": [
    "# realizamos la conversión de los datos incluidos en cada plan, dividientdo los megabytes entre 1024\n",
    "df_plans['mb_per_month_included'] = df_plans['mb_per_month_included'].div(1024)\n",
    "df_plans.rename(columns={'mb_per_month_included': 'gb_per_month_included'}, inplace=True) # cambiamos el nombre de la columna\n",
    "df_plans"
   ]
  },
  {
   "cell_type": "markdown",
   "metadata": {
    "id": "1n2X6WXf0q04"
   },
   "source": [
    "## Usuarios/as"
   ]
  },
  {
   "cell_type": "code",
   "execution_count": 6,
   "metadata": {
    "id": "2NgjWFqx0q05"
   },
   "outputs": [
    {
     "name": "stdout",
     "output_type": "stream",
     "text": [
      "<class 'pandas.core.frame.DataFrame'>\n",
      "RangeIndex: 500 entries, 0 to 499\n",
      "Data columns (total 8 columns):\n",
      " #   Column      Non-Null Count  Dtype \n",
      "---  ------      --------------  ----- \n",
      " 0   user_id     500 non-null    int64 \n",
      " 1   first_name  500 non-null    object\n",
      " 2   last_name   500 non-null    object\n",
      " 3   age         500 non-null    int64 \n",
      " 4   city        500 non-null    object\n",
      " 5   reg_date    500 non-null    object\n",
      " 6   plan        500 non-null    object\n",
      " 7   churn_date  34 non-null     object\n",
      "dtypes: int64(2), object(6)\n",
      "memory usage: 31.4+ KB\n"
     ]
    }
   ],
   "source": [
    "# Imprimimos la información general sobre el DataFrame de usuarios\n",
    "df_users.info()"
   ]
  },
  {
   "cell_type": "code",
   "execution_count": 7,
   "metadata": {
    "id": "1IN1L9uh0q05"
   },
   "outputs": [
    {
     "data": {
      "text/html": [
       "<div>\n",
       "<style scoped>\n",
       "    .dataframe tbody tr th:only-of-type {\n",
       "        vertical-align: middle;\n",
       "    }\n",
       "\n",
       "    .dataframe tbody tr th {\n",
       "        vertical-align: top;\n",
       "    }\n",
       "\n",
       "    .dataframe thead th {\n",
       "        text-align: right;\n",
       "    }\n",
       "</style>\n",
       "<table border=\"1\" class=\"dataframe\">\n",
       "  <thead>\n",
       "    <tr style=\"text-align: right;\">\n",
       "      <th></th>\n",
       "      <th>user_id</th>\n",
       "      <th>first_name</th>\n",
       "      <th>last_name</th>\n",
       "      <th>age</th>\n",
       "      <th>city</th>\n",
       "      <th>reg_date</th>\n",
       "      <th>plan</th>\n",
       "      <th>churn_date</th>\n",
       "    </tr>\n",
       "  </thead>\n",
       "  <tbody>\n",
       "    <tr>\n",
       "      <th>0</th>\n",
       "      <td>1000</td>\n",
       "      <td>Anamaria</td>\n",
       "      <td>Bauer</td>\n",
       "      <td>45</td>\n",
       "      <td>Atlanta-Sandy Springs-Roswell, GA MSA</td>\n",
       "      <td>2018-12-24</td>\n",
       "      <td>ultimate</td>\n",
       "      <td>NaN</td>\n",
       "    </tr>\n",
       "    <tr>\n",
       "      <th>1</th>\n",
       "      <td>1001</td>\n",
       "      <td>Mickey</td>\n",
       "      <td>Wilkerson</td>\n",
       "      <td>28</td>\n",
       "      <td>Seattle-Tacoma-Bellevue, WA MSA</td>\n",
       "      <td>2018-08-13</td>\n",
       "      <td>surf</td>\n",
       "      <td>NaN</td>\n",
       "    </tr>\n",
       "    <tr>\n",
       "      <th>2</th>\n",
       "      <td>1002</td>\n",
       "      <td>Carlee</td>\n",
       "      <td>Hoffman</td>\n",
       "      <td>36</td>\n",
       "      <td>Las Vegas-Henderson-Paradise, NV MSA</td>\n",
       "      <td>2018-10-21</td>\n",
       "      <td>surf</td>\n",
       "      <td>NaN</td>\n",
       "    </tr>\n",
       "    <tr>\n",
       "      <th>3</th>\n",
       "      <td>1003</td>\n",
       "      <td>Reynaldo</td>\n",
       "      <td>Jenkins</td>\n",
       "      <td>52</td>\n",
       "      <td>Tulsa, OK MSA</td>\n",
       "      <td>2018-01-28</td>\n",
       "      <td>surf</td>\n",
       "      <td>NaN</td>\n",
       "    </tr>\n",
       "    <tr>\n",
       "      <th>4</th>\n",
       "      <td>1004</td>\n",
       "      <td>Leonila</td>\n",
       "      <td>Thompson</td>\n",
       "      <td>40</td>\n",
       "      <td>Seattle-Tacoma-Bellevue, WA MSA</td>\n",
       "      <td>2018-05-23</td>\n",
       "      <td>surf</td>\n",
       "      <td>NaN</td>\n",
       "    </tr>\n",
       "  </tbody>\n",
       "</table>\n",
       "</div>"
      ],
      "text/plain": [
       "   user_id first_name  last_name  age                                   city  \\\n",
       "0     1000   Anamaria      Bauer   45  Atlanta-Sandy Springs-Roswell, GA MSA   \n",
       "1     1001     Mickey  Wilkerson   28        Seattle-Tacoma-Bellevue, WA MSA   \n",
       "2     1002     Carlee    Hoffman   36   Las Vegas-Henderson-Paradise, NV MSA   \n",
       "3     1003   Reynaldo    Jenkins   52                          Tulsa, OK MSA   \n",
       "4     1004    Leonila   Thompson   40        Seattle-Tacoma-Bellevue, WA MSA   \n",
       "\n",
       "     reg_date      plan churn_date  \n",
       "0  2018-12-24  ultimate        NaN  \n",
       "1  2018-08-13      surf        NaN  \n",
       "2  2018-10-21      surf        NaN  \n",
       "3  2018-01-28      surf        NaN  \n",
       "4  2018-05-23      surf        NaN  "
      ]
     },
     "execution_count": 7,
     "metadata": {},
     "output_type": "execute_result"
    }
   ],
   "source": [
    "# Imprimimos una muestra de datos para usuarios\n",
    "df_users.head()"
   ]
  },
  {
   "cell_type": "markdown",
   "metadata": {
    "id": "dCZoUq4f0q06"
   },
   "source": [
    "Tenemos dos campos que contienen datos de fechas, la fecha de suscripción y la fecha en la que el usuario dejo de usar el servicio. Podemos cambiar el tipo de dato a datetime para poder extraer datos específicos, como el día o el año, con más facilidad.  \n",
    "Además, podemos observar que la mayoría de los usarios no tienen una fecha de abandono (churn_date)."
   ]
  },
  {
   "cell_type": "markdown",
   "metadata": {
    "id": "BX5FQh_I0q06"
   },
   "source": [
    "### Corregir los datos"
   ]
  },
  {
   "cell_type": "markdown",
   "metadata": {
    "id": "8OdKMwJv0q06"
   },
   "source": [
    "Cambiamos el tipo de dato para las columnas reg_date y churn_date."
   ]
  },
  {
   "cell_type": "code",
   "execution_count": 8,
   "metadata": {
    "id": "yUqX-K0C0q07"
   },
   "outputs": [
    {
     "name": "stdout",
     "output_type": "stream",
     "text": [
      "<class 'pandas.core.frame.DataFrame'>\n",
      "RangeIndex: 500 entries, 0 to 499\n",
      "Data columns (total 8 columns):\n",
      " #   Column      Non-Null Count  Dtype         \n",
      "---  ------      --------------  -----         \n",
      " 0   user_id     500 non-null    int64         \n",
      " 1   first_name  500 non-null    object        \n",
      " 2   last_name   500 non-null    object        \n",
      " 3   age         500 non-null    int64         \n",
      " 4   city        500 non-null    object        \n",
      " 5   reg_date    500 non-null    datetime64[ns]\n",
      " 6   plan        500 non-null    object        \n",
      " 7   churn_date  34 non-null     datetime64[ns]\n",
      "dtypes: datetime64[ns](2), int64(2), object(4)\n",
      "memory usage: 31.4+ KB\n"
     ]
    }
   ],
   "source": [
    "df_users['reg_date'] = pd.to_datetime(df_users['reg_date'], format='%Y-%m-%d')\n",
    "df_users['churn_date'] = pd.to_datetime(df_users['churn_date'], format='%Y-%m-%d')\n",
    "\n",
    "df_users.info()"
   ]
  },
  {
   "cell_type": "markdown",
   "metadata": {
    "id": "o7MeKCid0q08"
   },
   "source": [
    "## Llamadas"
   ]
  },
  {
   "cell_type": "code",
   "execution_count": 9,
   "metadata": {
    "id": "6dDlnoDm0q08"
   },
   "outputs": [
    {
     "name": "stdout",
     "output_type": "stream",
     "text": [
      "<class 'pandas.core.frame.DataFrame'>\n",
      "RangeIndex: 137735 entries, 0 to 137734\n",
      "Data columns (total 4 columns):\n",
      " #   Column     Non-Null Count   Dtype  \n",
      "---  ------     --------------   -----  \n",
      " 0   id         137735 non-null  object \n",
      " 1   user_id    137735 non-null  int64  \n",
      " 2   call_date  137735 non-null  object \n",
      " 3   duration   137735 non-null  float64\n",
      "dtypes: float64(1), int64(1), object(2)\n",
      "memory usage: 4.2+ MB\n"
     ]
    }
   ],
   "source": [
    "# Imprimimos la información general sobre el DataFrame de las llamadas\n",
    "\n",
    "df_calls.info()"
   ]
  },
  {
   "cell_type": "code",
   "execution_count": 10,
   "metadata": {
    "id": "kuh1vlNB0q09"
   },
   "outputs": [
    {
     "data": {
      "text/html": [
       "<div>\n",
       "<style scoped>\n",
       "    .dataframe tbody tr th:only-of-type {\n",
       "        vertical-align: middle;\n",
       "    }\n",
       "\n",
       "    .dataframe tbody tr th {\n",
       "        vertical-align: top;\n",
       "    }\n",
       "\n",
       "    .dataframe thead th {\n",
       "        text-align: right;\n",
       "    }\n",
       "</style>\n",
       "<table border=\"1\" class=\"dataframe\">\n",
       "  <thead>\n",
       "    <tr style=\"text-align: right;\">\n",
       "      <th></th>\n",
       "      <th>id</th>\n",
       "      <th>user_id</th>\n",
       "      <th>call_date</th>\n",
       "      <th>duration</th>\n",
       "    </tr>\n",
       "  </thead>\n",
       "  <tbody>\n",
       "    <tr>\n",
       "      <th>0</th>\n",
       "      <td>1000_93</td>\n",
       "      <td>1000</td>\n",
       "      <td>2018-12-27</td>\n",
       "      <td>8.52</td>\n",
       "    </tr>\n",
       "    <tr>\n",
       "      <th>1</th>\n",
       "      <td>1000_145</td>\n",
       "      <td>1000</td>\n",
       "      <td>2018-12-27</td>\n",
       "      <td>13.66</td>\n",
       "    </tr>\n",
       "    <tr>\n",
       "      <th>2</th>\n",
       "      <td>1000_247</td>\n",
       "      <td>1000</td>\n",
       "      <td>2018-12-27</td>\n",
       "      <td>14.48</td>\n",
       "    </tr>\n",
       "    <tr>\n",
       "      <th>3</th>\n",
       "      <td>1000_309</td>\n",
       "      <td>1000</td>\n",
       "      <td>2018-12-28</td>\n",
       "      <td>5.76</td>\n",
       "    </tr>\n",
       "    <tr>\n",
       "      <th>4</th>\n",
       "      <td>1000_380</td>\n",
       "      <td>1000</td>\n",
       "      <td>2018-12-30</td>\n",
       "      <td>4.22</td>\n",
       "    </tr>\n",
       "  </tbody>\n",
       "</table>\n",
       "</div>"
      ],
      "text/plain": [
       "         id  user_id   call_date  duration\n",
       "0   1000_93     1000  2018-12-27      8.52\n",
       "1  1000_145     1000  2018-12-27     13.66\n",
       "2  1000_247     1000  2018-12-27     14.48\n",
       "3  1000_309     1000  2018-12-28      5.76\n",
       "4  1000_380     1000  2018-12-30      4.22"
      ]
     },
     "execution_count": 10,
     "metadata": {},
     "output_type": "execute_result"
    }
   ],
   "source": [
    "# Imprimimos una muestra de datos para las llamadas\n",
    "\n",
    "df_calls.head()"
   ]
  },
  {
   "cell_type": "markdown",
   "metadata": {
    "id": "DOAxYJSx0q09"
   },
   "source": [
    "Podemos cambiar el tipo de dato para las fechas de las llamadas (call_date) a datetime."
   ]
  },
  {
   "cell_type": "code",
   "execution_count": 11,
   "metadata": {},
   "outputs": [
    {
     "data": {
      "text/html": [
       "<div>\n",
       "<style scoped>\n",
       "    .dataframe tbody tr th:only-of-type {\n",
       "        vertical-align: middle;\n",
       "    }\n",
       "\n",
       "    .dataframe tbody tr th {\n",
       "        vertical-align: top;\n",
       "    }\n",
       "\n",
       "    .dataframe thead th {\n",
       "        text-align: right;\n",
       "    }\n",
       "</style>\n",
       "<table border=\"1\" class=\"dataframe\">\n",
       "  <thead>\n",
       "    <tr style=\"text-align: right;\">\n",
       "      <th></th>\n",
       "      <th>id</th>\n",
       "      <th>user_id</th>\n",
       "      <th>call_date</th>\n",
       "      <th>duration</th>\n",
       "    </tr>\n",
       "  </thead>\n",
       "  <tbody>\n",
       "    <tr>\n",
       "      <th>19</th>\n",
       "      <td>1001_4</td>\n",
       "      <td>1001</td>\n",
       "      <td>2018-12-05</td>\n",
       "      <td>0.0</td>\n",
       "    </tr>\n",
       "    <tr>\n",
       "      <th>25</th>\n",
       "      <td>1001_13</td>\n",
       "      <td>1001</td>\n",
       "      <td>2018-12-24</td>\n",
       "      <td>0.0</td>\n",
       "    </tr>\n",
       "    <tr>\n",
       "      <th>31</th>\n",
       "      <td>1001_30</td>\n",
       "      <td>1001</td>\n",
       "      <td>2018-10-17</td>\n",
       "      <td>0.0</td>\n",
       "    </tr>\n",
       "    <tr>\n",
       "      <th>32</th>\n",
       "      <td>1001_31</td>\n",
       "      <td>1001</td>\n",
       "      <td>2018-11-03</td>\n",
       "      <td>0.0</td>\n",
       "    </tr>\n",
       "    <tr>\n",
       "      <th>34</th>\n",
       "      <td>1001_35</td>\n",
       "      <td>1001</td>\n",
       "      <td>2018-12-21</td>\n",
       "      <td>0.0</td>\n",
       "    </tr>\n",
       "    <tr>\n",
       "      <th>...</th>\n",
       "      <td>...</td>\n",
       "      <td>...</td>\n",
       "      <td>...</td>\n",
       "      <td>...</td>\n",
       "    </tr>\n",
       "    <tr>\n",
       "      <th>137714</th>\n",
       "      <td>1499_183</td>\n",
       "      <td>1499</td>\n",
       "      <td>2018-11-10</td>\n",
       "      <td>0.0</td>\n",
       "    </tr>\n",
       "    <tr>\n",
       "      <th>137715</th>\n",
       "      <td>1499_184</td>\n",
       "      <td>1499</td>\n",
       "      <td>2018-09-15</td>\n",
       "      <td>0.0</td>\n",
       "    </tr>\n",
       "    <tr>\n",
       "      <th>137720</th>\n",
       "      <td>1499_189</td>\n",
       "      <td>1499</td>\n",
       "      <td>2018-12-27</td>\n",
       "      <td>0.0</td>\n",
       "    </tr>\n",
       "    <tr>\n",
       "      <th>137722</th>\n",
       "      <td>1499_191</td>\n",
       "      <td>1499</td>\n",
       "      <td>2018-12-24</td>\n",
       "      <td>0.0</td>\n",
       "    </tr>\n",
       "    <tr>\n",
       "      <th>137725</th>\n",
       "      <td>1499_194</td>\n",
       "      <td>1499</td>\n",
       "      <td>2018-10-31</td>\n",
       "      <td>0.0</td>\n",
       "    </tr>\n",
       "  </tbody>\n",
       "</table>\n",
       "<p>26834 rows × 4 columns</p>\n",
       "</div>"
      ],
      "text/plain": [
       "              id  user_id   call_date  duration\n",
       "19        1001_4     1001  2018-12-05       0.0\n",
       "25       1001_13     1001  2018-12-24       0.0\n",
       "31       1001_30     1001  2018-10-17       0.0\n",
       "32       1001_31     1001  2018-11-03       0.0\n",
       "34       1001_35     1001  2018-12-21       0.0\n",
       "...          ...      ...         ...       ...\n",
       "137714  1499_183     1499  2018-11-10       0.0\n",
       "137715  1499_184     1499  2018-09-15       0.0\n",
       "137720  1499_189     1499  2018-12-27       0.0\n",
       "137722  1499_191     1499  2018-12-24       0.0\n",
       "137725  1499_194     1499  2018-10-31       0.0\n",
       "\n",
       "[26834 rows x 4 columns]"
      ]
     },
     "execution_count": 11,
     "metadata": {},
     "output_type": "execute_result"
    }
   ],
   "source": [
    "# Buscamos anomalías dentro de la duración de las llamadas\n",
    "df_calls[df_calls.duration==0]"
   ]
  },
  {
   "cell_type": "markdown",
   "metadata": {},
   "source": [
    "Podemos eliminar las llamadas que tengan una duración igual a cero. Estas llamadas no deberían cobrarse al usuario, ya que posiblemente se traten de errores en el sistema o llamadas que no fueron contestadas."
   ]
  },
  {
   "cell_type": "markdown",
   "metadata": {
    "id": "S7hzxmbX0q0-"
   },
   "source": [
    "### Corregir los datos"
   ]
  },
  {
   "cell_type": "markdown",
   "metadata": {
    "id": "YxWyAjD20q0-"
   },
   "source": [
    "Cambiamos el tipo de dato de 'call_date', de 'object' a 'datetime'"
   ]
  },
  {
   "cell_type": "code",
   "execution_count": 12,
   "metadata": {
    "id": "S2r8xA4f0q0-"
   },
   "outputs": [
    {
     "name": "stdout",
     "output_type": "stream",
     "text": [
      "<class 'pandas.core.frame.DataFrame'>\n",
      "RangeIndex: 137735 entries, 0 to 137734\n",
      "Data columns (total 4 columns):\n",
      " #   Column     Non-Null Count   Dtype         \n",
      "---  ------     --------------   -----         \n",
      " 0   id         137735 non-null  object        \n",
      " 1   user_id    137735 non-null  int64         \n",
      " 2   call_date  137735 non-null  datetime64[ns]\n",
      " 3   duration   137735 non-null  float64       \n",
      "dtypes: datetime64[ns](1), float64(1), int64(1), object(1)\n",
      "memory usage: 4.2+ MB\n"
     ]
    }
   ],
   "source": [
    "df_calls['call_date'] = pd.to_datetime(df_calls['call_date'], format='%Y-%m-%d')\n",
    "df_calls.info()"
   ]
  },
  {
   "cell_type": "markdown",
   "metadata": {},
   "source": [
    "Eliminamos las llamadas con una duración igual a cero."
   ]
  },
  {
   "cell_type": "code",
   "execution_count": 13,
   "metadata": {
    "scrolled": false
   },
   "outputs": [
    {
     "data": {
      "text/html": [
       "<div>\n",
       "<style scoped>\n",
       "    .dataframe tbody tr th:only-of-type {\n",
       "        vertical-align: middle;\n",
       "    }\n",
       "\n",
       "    .dataframe tbody tr th {\n",
       "        vertical-align: top;\n",
       "    }\n",
       "\n",
       "    .dataframe thead th {\n",
       "        text-align: right;\n",
       "    }\n",
       "</style>\n",
       "<table border=\"1\" class=\"dataframe\">\n",
       "  <thead>\n",
       "    <tr style=\"text-align: right;\">\n",
       "      <th></th>\n",
       "      <th>id</th>\n",
       "      <th>user_id</th>\n",
       "      <th>call_date</th>\n",
       "      <th>duration</th>\n",
       "    </tr>\n",
       "  </thead>\n",
       "  <tbody>\n",
       "  </tbody>\n",
       "</table>\n",
       "</div>"
      ],
      "text/plain": [
       "Empty DataFrame\n",
       "Columns: [id, user_id, call_date, duration]\n",
       "Index: []"
      ]
     },
     "execution_count": 13,
     "metadata": {},
     "output_type": "execute_result"
    }
   ],
   "source": [
    "df_calls = df_calls[df_calls['duration']!=0]\n",
    "df_calls[df_calls['duration']==0]"
   ]
  },
  {
   "cell_type": "markdown",
   "metadata": {
    "id": "KrMgTrlG0q0_"
   },
   "source": [
    "### Enriquecer los datos"
   ]
  },
  {
   "cell_type": "markdown",
   "metadata": {
    "id": "a9MbmEvE0q0_"
   },
   "source": [
    "Agregamos una columna que nos indique el número del mes de la llamada, lo cual nos será de utilidad más adelante."
   ]
  },
  {
   "cell_type": "code",
   "execution_count": 14,
   "metadata": {
    "id": "iZ1avpA_0q0_",
    "scrolled": true
   },
   "outputs": [
    {
     "name": "stdout",
     "output_type": "stream",
     "text": [
      "              id  user_id  call_date  duration  month\n",
      "0        1000_93     1000 2018-12-27      8.52     12\n",
      "1       1000_145     1000 2018-12-27     13.66     12\n",
      "2       1000_247     1000 2018-12-27     14.48     12\n",
      "3       1000_309     1000 2018-12-28      5.76     12\n",
      "4       1000_380     1000 2018-12-30      4.22     12\n",
      "...          ...      ...        ...       ...    ...\n",
      "137730  1499_199     1499 2018-11-21      8.72     11\n",
      "137731  1499_200     1499 2018-10-20     10.89     10\n",
      "137732  1499_201     1499 2018-09-21      8.12      9\n",
      "137733  1499_202     1499 2018-10-10      0.37     10\n",
      "137734  1499_203     1499 2018-12-29     13.86     12\n",
      "\n",
      "[110901 rows x 5 columns]\n"
     ]
    }
   ],
   "source": [
    "df_calls['month'] = df_calls['call_date'].dt.month\n",
    "print(df_calls)"
   ]
  },
  {
   "cell_type": "markdown",
   "metadata": {
    "id": "mOUZSi180q0_"
   },
   "source": [
    "## Mensajes"
   ]
  },
  {
   "cell_type": "code",
   "execution_count": 15,
   "metadata": {
    "id": "R-bYJpdV0q1A"
   },
   "outputs": [
    {
     "name": "stdout",
     "output_type": "stream",
     "text": [
      "<class 'pandas.core.frame.DataFrame'>\n",
      "RangeIndex: 76051 entries, 0 to 76050\n",
      "Data columns (total 3 columns):\n",
      " #   Column        Non-Null Count  Dtype \n",
      "---  ------        --------------  ----- \n",
      " 0   id            76051 non-null  object\n",
      " 1   user_id       76051 non-null  int64 \n",
      " 2   message_date  76051 non-null  object\n",
      "dtypes: int64(1), object(2)\n",
      "memory usage: 1.7+ MB\n"
     ]
    }
   ],
   "source": [
    "# Imprimimos la información general sobre el DataFrame de los mensajes\n",
    "\n",
    "df_messages.info()"
   ]
  },
  {
   "cell_type": "code",
   "execution_count": 16,
   "metadata": {
    "id": "mCEl2iGE0q1A"
   },
   "outputs": [
    {
     "data": {
      "text/html": [
       "<div>\n",
       "<style scoped>\n",
       "    .dataframe tbody tr th:only-of-type {\n",
       "        vertical-align: middle;\n",
       "    }\n",
       "\n",
       "    .dataframe tbody tr th {\n",
       "        vertical-align: top;\n",
       "    }\n",
       "\n",
       "    .dataframe thead th {\n",
       "        text-align: right;\n",
       "    }\n",
       "</style>\n",
       "<table border=\"1\" class=\"dataframe\">\n",
       "  <thead>\n",
       "    <tr style=\"text-align: right;\">\n",
       "      <th></th>\n",
       "      <th>id</th>\n",
       "      <th>user_id</th>\n",
       "      <th>message_date</th>\n",
       "    </tr>\n",
       "  </thead>\n",
       "  <tbody>\n",
       "    <tr>\n",
       "      <th>0</th>\n",
       "      <td>1000_125</td>\n",
       "      <td>1000</td>\n",
       "      <td>2018-12-27</td>\n",
       "    </tr>\n",
       "    <tr>\n",
       "      <th>1</th>\n",
       "      <td>1000_160</td>\n",
       "      <td>1000</td>\n",
       "      <td>2018-12-31</td>\n",
       "    </tr>\n",
       "    <tr>\n",
       "      <th>2</th>\n",
       "      <td>1000_223</td>\n",
       "      <td>1000</td>\n",
       "      <td>2018-12-31</td>\n",
       "    </tr>\n",
       "    <tr>\n",
       "      <th>3</th>\n",
       "      <td>1000_251</td>\n",
       "      <td>1000</td>\n",
       "      <td>2018-12-27</td>\n",
       "    </tr>\n",
       "    <tr>\n",
       "      <th>4</th>\n",
       "      <td>1000_255</td>\n",
       "      <td>1000</td>\n",
       "      <td>2018-12-26</td>\n",
       "    </tr>\n",
       "  </tbody>\n",
       "</table>\n",
       "</div>"
      ],
      "text/plain": [
       "         id  user_id message_date\n",
       "0  1000_125     1000   2018-12-27\n",
       "1  1000_160     1000   2018-12-31\n",
       "2  1000_223     1000   2018-12-31\n",
       "3  1000_251     1000   2018-12-27\n",
       "4  1000_255     1000   2018-12-26"
      ]
     },
     "execution_count": 16,
     "metadata": {},
     "output_type": "execute_result"
    }
   ],
   "source": [
    "# Imprimimos una muestra de datos para los mensajes\n",
    "\n",
    "df_messages.head()"
   ]
  },
  {
   "cell_type": "markdown",
   "metadata": {
    "id": "04xDj7KH0q1A"
   },
   "source": [
    "Puede ser útil cambiar el tipo de datos para las fechas a datatime."
   ]
  },
  {
   "cell_type": "markdown",
   "metadata": {
    "id": "Sprfak900q1B"
   },
   "source": [
    "### Corregir los datos"
   ]
  },
  {
   "cell_type": "markdown",
   "metadata": {
    "id": "eGw7d9j10q1B"
   },
   "source": [
    "Cambiamos el tipo de dato para la fecha de los mensajes."
   ]
  },
  {
   "cell_type": "code",
   "execution_count": 17,
   "metadata": {
    "id": "vsllvkoa0q1B"
   },
   "outputs": [
    {
     "name": "stdout",
     "output_type": "stream",
     "text": [
      "<class 'pandas.core.frame.DataFrame'>\n",
      "RangeIndex: 76051 entries, 0 to 76050\n",
      "Data columns (total 3 columns):\n",
      " #   Column        Non-Null Count  Dtype         \n",
      "---  ------        --------------  -----         \n",
      " 0   id            76051 non-null  object        \n",
      " 1   user_id       76051 non-null  int64         \n",
      " 2   message_date  76051 non-null  datetime64[ns]\n",
      "dtypes: datetime64[ns](1), int64(1), object(1)\n",
      "memory usage: 1.7+ MB\n"
     ]
    }
   ],
   "source": [
    "df_messages['message_date'] = pd.to_datetime(df_messages['message_date'], format='%Y-%m-%d')\n",
    "df_messages.info()"
   ]
  },
  {
   "cell_type": "markdown",
   "metadata": {
    "id": "HvLid7iD0q1B"
   },
   "source": [
    "### Enriquecer los datos"
   ]
  },
  {
   "cell_type": "markdown",
   "metadata": {
    "id": "8nhPFKIe0q1C"
   },
   "source": [
    "Agregamos una columna que indica el número del mes del mensaje."
   ]
  },
  {
   "cell_type": "code",
   "execution_count": 18,
   "metadata": {
    "id": "zYEXZac10q1C"
   },
   "outputs": [
    {
     "name": "stdout",
     "output_type": "stream",
     "text": [
      "             id  user_id message_date  month\n",
      "0      1000_125     1000   2018-12-27     12\n",
      "1      1000_160     1000   2018-12-31     12\n",
      "2      1000_223     1000   2018-12-31     12\n",
      "3      1000_251     1000   2018-12-27     12\n",
      "4      1000_255     1000   2018-12-26     12\n",
      "...         ...      ...          ...    ...\n",
      "76046  1497_526     1497   2018-12-24     12\n",
      "76047  1497_536     1497   2018-12-24     12\n",
      "76048  1497_547     1497   2018-12-31     12\n",
      "76049  1497_558     1497   2018-12-24     12\n",
      "76050  1497_613     1497   2018-12-23     12\n",
      "\n",
      "[76051 rows x 4 columns]\n"
     ]
    }
   ],
   "source": [
    "df_messages['month'] = df_messages['message_date'].dt.month\n",
    "print(df_messages)"
   ]
  },
  {
   "cell_type": "markdown",
   "metadata": {
    "id": "bStkaxn40q1C"
   },
   "source": [
    "## Internet"
   ]
  },
  {
   "cell_type": "code",
   "execution_count": 19,
   "metadata": {
    "id": "e-Uz5qyn0q1C"
   },
   "outputs": [
    {
     "name": "stdout",
     "output_type": "stream",
     "text": [
      "<class 'pandas.core.frame.DataFrame'>\n",
      "RangeIndex: 104825 entries, 0 to 104824\n",
      "Data columns (total 4 columns):\n",
      " #   Column        Non-Null Count   Dtype  \n",
      "---  ------        --------------   -----  \n",
      " 0   id            104825 non-null  object \n",
      " 1   user_id       104825 non-null  int64  \n",
      " 2   session_date  104825 non-null  object \n",
      " 3   mb_used       104825 non-null  float64\n",
      "dtypes: float64(1), int64(1), object(2)\n",
      "memory usage: 3.2+ MB\n"
     ]
    }
   ],
   "source": [
    "# Imprimimos la información general sobre el DataFrame de internet\n",
    "\n",
    "df_internet.info()"
   ]
  },
  {
   "cell_type": "code",
   "execution_count": 20,
   "metadata": {
    "id": "9r3x_XLw0q1C"
   },
   "outputs": [
    {
     "data": {
      "text/html": [
       "<div>\n",
       "<style scoped>\n",
       "    .dataframe tbody tr th:only-of-type {\n",
       "        vertical-align: middle;\n",
       "    }\n",
       "\n",
       "    .dataframe tbody tr th {\n",
       "        vertical-align: top;\n",
       "    }\n",
       "\n",
       "    .dataframe thead th {\n",
       "        text-align: right;\n",
       "    }\n",
       "</style>\n",
       "<table border=\"1\" class=\"dataframe\">\n",
       "  <thead>\n",
       "    <tr style=\"text-align: right;\">\n",
       "      <th></th>\n",
       "      <th>id</th>\n",
       "      <th>user_id</th>\n",
       "      <th>session_date</th>\n",
       "      <th>mb_used</th>\n",
       "    </tr>\n",
       "  </thead>\n",
       "  <tbody>\n",
       "    <tr>\n",
       "      <th>0</th>\n",
       "      <td>1000_13</td>\n",
       "      <td>1000</td>\n",
       "      <td>2018-12-29</td>\n",
       "      <td>89.86</td>\n",
       "    </tr>\n",
       "    <tr>\n",
       "      <th>1</th>\n",
       "      <td>1000_204</td>\n",
       "      <td>1000</td>\n",
       "      <td>2018-12-31</td>\n",
       "      <td>0.00</td>\n",
       "    </tr>\n",
       "    <tr>\n",
       "      <th>2</th>\n",
       "      <td>1000_379</td>\n",
       "      <td>1000</td>\n",
       "      <td>2018-12-28</td>\n",
       "      <td>660.40</td>\n",
       "    </tr>\n",
       "    <tr>\n",
       "      <th>3</th>\n",
       "      <td>1000_413</td>\n",
       "      <td>1000</td>\n",
       "      <td>2018-12-26</td>\n",
       "      <td>270.99</td>\n",
       "    </tr>\n",
       "    <tr>\n",
       "      <th>4</th>\n",
       "      <td>1000_442</td>\n",
       "      <td>1000</td>\n",
       "      <td>2018-12-27</td>\n",
       "      <td>880.22</td>\n",
       "    </tr>\n",
       "  </tbody>\n",
       "</table>\n",
       "</div>"
      ],
      "text/plain": [
       "         id  user_id session_date  mb_used\n",
       "0   1000_13     1000   2018-12-29    89.86\n",
       "1  1000_204     1000   2018-12-31     0.00\n",
       "2  1000_379     1000   2018-12-28   660.40\n",
       "3  1000_413     1000   2018-12-26   270.99\n",
       "4  1000_442     1000   2018-12-27   880.22"
      ]
     },
     "execution_count": 20,
     "metadata": {},
     "output_type": "execute_result"
    }
   ],
   "source": [
    "# Imprimimos una muestra de datos para el tráfico de internet\n",
    "\n",
    "df_internet.head()"
   ]
  },
  {
   "cell_type": "markdown",
   "metadata": {
    "id": "EzOG5ik30q1D"
   },
   "source": [
    "Las fechas para la sesión son más accesibles cuando son de tipo datetime, así que cambiaremos el tipo de dato."
   ]
  },
  {
   "cell_type": "markdown",
   "metadata": {
    "id": "yA0tkPFg0q1D"
   },
   "source": [
    "### Corregir los datos"
   ]
  },
  {
   "cell_type": "markdown",
   "metadata": {
    "id": "zlZMuIEK0q1D"
   },
   "source": [
    "Cambiamos el tipo de dato de las fechas de las sesiones."
   ]
  },
  {
   "cell_type": "code",
   "execution_count": 21,
   "metadata": {
    "id": "zVeanzdd0q1E"
   },
   "outputs": [
    {
     "name": "stdout",
     "output_type": "stream",
     "text": [
      "<class 'pandas.core.frame.DataFrame'>\n",
      "RangeIndex: 104825 entries, 0 to 104824\n",
      "Data columns (total 4 columns):\n",
      " #   Column        Non-Null Count   Dtype         \n",
      "---  ------        --------------   -----         \n",
      " 0   id            104825 non-null  object        \n",
      " 1   user_id       104825 non-null  int64         \n",
      " 2   session_date  104825 non-null  datetime64[ns]\n",
      " 3   mb_used       104825 non-null  float64       \n",
      "dtypes: datetime64[ns](1), float64(1), int64(1), object(1)\n",
      "memory usage: 3.2+ MB\n"
     ]
    }
   ],
   "source": [
    "df_internet['session_date'] = pd.to_datetime(df_internet['session_date'], format='%Y-%m-%d')\n",
    "df_internet.info()"
   ]
  },
  {
   "cell_type": "markdown",
   "metadata": {
    "id": "e8_mLF4a0q1E"
   },
   "source": [
    "### Enriquecer los datos"
   ]
  },
  {
   "cell_type": "markdown",
   "metadata": {
    "id": "xhNdn2tE0q1E"
   },
   "source": [
    "Agregamos una columna para los meses de cada sesión."
   ]
  },
  {
   "cell_type": "code",
   "execution_count": 22,
   "metadata": {
    "id": "ESiYPIEK0q1E"
   },
   "outputs": [
    {
     "name": "stdout",
     "output_type": "stream",
     "text": [
      "              id  user_id session_date  mb_used  month\n",
      "0        1000_13     1000   2018-12-29    89.86     12\n",
      "1       1000_204     1000   2018-12-31     0.00     12\n",
      "2       1000_379     1000   2018-12-28   660.40     12\n",
      "3       1000_413     1000   2018-12-26   270.99     12\n",
      "4       1000_442     1000   2018-12-27   880.22     12\n",
      "...          ...      ...          ...      ...    ...\n",
      "104820  1499_215     1499   2018-10-20   218.06     10\n",
      "104821  1499_216     1499   2018-12-30   304.72     12\n",
      "104822  1499_217     1499   2018-09-22   292.75      9\n",
      "104823  1499_218     1499   2018-12-07     0.00     12\n",
      "104824  1499_219     1499   2018-12-24   758.31     12\n",
      "\n",
      "[104825 rows x 5 columns]\n"
     ]
    }
   ],
   "source": [
    "df_internet['month'] = df_internet['session_date'].dt.month\n",
    "print(df_internet)"
   ]
  },
  {
   "cell_type": "markdown",
   "metadata": {},
   "source": [
    "### Nota\n",
    "Debido a que los megabytes utilizados se redondean a gigabytes, así como los segundos se redondean a minutos, necesitaremos hacer una conversión y posteriormente un redondeo, antes de hacer cualquier operación con datos de las sesiones o llamadas. Pero no podremos hacerlo hasta obtener el consumo total de cada usuario durante el mes."
   ]
  },
  {
   "cell_type": "markdown",
   "metadata": {
    "id": "3UA2cqIW0q1E"
   },
   "source": [
    "## Estudiar las condiciones de las tarifas"
   ]
  },
  {
   "cell_type": "markdown",
   "metadata": {
    "id": "T86Sqltq0q1F"
   },
   "source": [
    "Volvamos a revisar las condiciones de los planes"
   ]
  },
  {
   "cell_type": "code",
   "execution_count": 23,
   "metadata": {
    "id": "i409op8p0q1F"
   },
   "outputs": [
    {
     "data": {
      "text/html": [
       "<div>\n",
       "<style scoped>\n",
       "    .dataframe tbody tr th:only-of-type {\n",
       "        vertical-align: middle;\n",
       "    }\n",
       "\n",
       "    .dataframe tbody tr th {\n",
       "        vertical-align: top;\n",
       "    }\n",
       "\n",
       "    .dataframe thead th {\n",
       "        text-align: right;\n",
       "    }\n",
       "</style>\n",
       "<table border=\"1\" class=\"dataframe\">\n",
       "  <thead>\n",
       "    <tr style=\"text-align: right;\">\n",
       "      <th></th>\n",
       "      <th>messages_included</th>\n",
       "      <th>gb_per_month_included</th>\n",
       "      <th>minutes_included</th>\n",
       "      <th>usd_monthly_pay</th>\n",
       "      <th>usd_per_gb</th>\n",
       "      <th>usd_per_message</th>\n",
       "      <th>usd_per_minute</th>\n",
       "      <th>plan_name</th>\n",
       "    </tr>\n",
       "  </thead>\n",
       "  <tbody>\n",
       "    <tr>\n",
       "      <th>0</th>\n",
       "      <td>50</td>\n",
       "      <td>15.0</td>\n",
       "      <td>500</td>\n",
       "      <td>20</td>\n",
       "      <td>10</td>\n",
       "      <td>0.03</td>\n",
       "      <td>0.03</td>\n",
       "      <td>surf</td>\n",
       "    </tr>\n",
       "    <tr>\n",
       "      <th>1</th>\n",
       "      <td>1000</td>\n",
       "      <td>30.0</td>\n",
       "      <td>3000</td>\n",
       "      <td>70</td>\n",
       "      <td>7</td>\n",
       "      <td>0.01</td>\n",
       "      <td>0.01</td>\n",
       "      <td>ultimate</td>\n",
       "    </tr>\n",
       "  </tbody>\n",
       "</table>\n",
       "</div>"
      ],
      "text/plain": [
       "   messages_included  gb_per_month_included  minutes_included  \\\n",
       "0                 50                   15.0               500   \n",
       "1               1000                   30.0              3000   \n",
       "\n",
       "   usd_monthly_pay  usd_per_gb  usd_per_message  usd_per_minute plan_name  \n",
       "0               20          10             0.03            0.03      surf  \n",
       "1               70           7             0.01            0.01  ultimate  "
      ]
     },
     "execution_count": 23,
     "metadata": {},
     "output_type": "execute_result"
    }
   ],
   "source": [
    "df_plans"
   ]
  },
  {
   "cell_type": "markdown",
   "metadata": {},
   "source": [
    "El plan SURF incluye 50 mensajes, 15 gb, 500 minutos por $20 USD al mes. Al superar estos límites, se pagará:\n",
    "* $0.03 USD por cada mensaje extra\n",
    "* $10 USD por cada gb extra\n",
    "* $0.03 USD por cada minuto extra\n",
    "\n",
    "Por su parte, el plan ULTIMATE incluye 1000 mensajes, 30 gb, 3000 minutos por $70 USD al mes.\n",
    "* $0.01 USD por cada mensaje extra\n",
    "* $7 USD por cada gb extra\n",
    "* $0.01 USD por cada minuto extra"
   ]
  },
  {
   "cell_type": "markdown",
   "metadata": {
    "id": "hMR1tP5d0q1F"
   },
   "source": [
    "## Agregar datos por usuario\n",
    "\n",
    "Agruparemos los datos para obtener un resumen del consumo mensual de cada usuario."
   ]
  },
  {
   "cell_type": "code",
   "execution_count": 24,
   "metadata": {},
   "outputs": [
    {
     "name": "stdout",
     "output_type": "stream",
     "text": [
      "      user_id  month  id\n",
      "0        1000     12  16\n",
      "1        1001      8  22\n",
      "2        1001      9  38\n",
      "3        1001     10  47\n",
      "4        1001     11  49\n",
      "...       ...    ...  ..\n",
      "2251     1498     12  32\n",
      "2252     1499      9  35\n",
      "2253     1499     10  41\n",
      "2254     1499     11  39\n",
      "2255     1499     12  56\n",
      "\n",
      "[2256 rows x 3 columns]\n"
     ]
    }
   ],
   "source": [
    "# Obtenemos el número de llamadas hechas por cada usuario al mes.\n",
    "df_calls_monthly=df_calls.groupby(['user_id','month'])['id'].count().reset_index()\n",
    "print(df_calls_monthly)"
   ]
  },
  {
   "cell_type": "code",
   "execution_count": 25,
   "metadata": {},
   "outputs": [],
   "source": [
    "# Calculamos el número total de minutos y el número de llamadas hechas por cada usuario al mes.\n",
    "#pivot_calls = df_calls.pivot_table(index=['user_id', 'month'],\n",
    "#                                   values=['duration'],\n",
    "#                                   aggfunc=['sum','count']).reset_index()\n",
    "#pivot_calls"
   ]
  },
  {
   "cell_type": "code",
   "execution_count": 26,
   "metadata": {},
   "outputs": [],
   "source": [
    "#pivot_calls['sum','duration'] = pivot_calls['sum','duration'].apply(mt.ceil) #redondemos el número de minutos hacia arriba "
   ]
  },
  {
   "cell_type": "code",
   "execution_count": 27,
   "metadata": {
    "id": "aw2cmuql0q1G"
   },
   "outputs": [
    {
     "name": "stdout",
     "output_type": "stream",
     "text": [
      "      user_id  month  duration\n",
      "0        1000     12       117\n",
      "1        1001      8       172\n",
      "2        1001      9       298\n",
      "3        1001     10       375\n",
      "4        1001     11       405\n",
      "...       ...    ...       ...\n",
      "2251     1498     12       325\n",
      "2252     1499      9       331\n",
      "2253     1499     10       364\n",
      "2254     1499     11       289\n",
      "2255     1499     12       469\n",
      "\n",
      "[2256 rows x 3 columns]\n"
     ]
    }
   ],
   "source": [
    "# Obtenemos la cantidad de minutos usados por cada usuario al mes. \n",
    "\n",
    "df_duration_monthly=df_calls.groupby(['user_id','month'])['duration'].sum().reset_index()\n",
    "df_duration_monthly['duration']= df_duration_monthly['duration'].apply(mt.ceil) #redondemos el número de minutos hacia arriba \n",
    "print(df_duration_monthly)"
   ]
  },
  {
   "cell_type": "code",
   "execution_count": 28,
   "metadata": {
    "id": "CcQvNHn60q1G"
   },
   "outputs": [
    {
     "name": "stdout",
     "output_type": "stream",
     "text": [
      "      user_id  month  id\n",
      "0        1000     12  11\n",
      "1        1001      8  30\n",
      "2        1001      9  44\n",
      "3        1001     10  53\n",
      "4        1001     11  36\n",
      "...       ...    ...  ..\n",
      "1801     1496      9  21\n",
      "1802     1496     10  18\n",
      "1803     1496     11  13\n",
      "1804     1496     12  11\n",
      "1805     1497     12  50\n",
      "\n",
      "[1806 rows x 3 columns]\n"
     ]
    }
   ],
   "source": [
    "# Obtenemos el número de mensajes enviados por cada usuario al mes. \n",
    "df_messages_monthly=df_messages.groupby(['user_id','month'])['id'].count().reset_index()\n",
    "print(df_messages_monthly)"
   ]
  },
  {
   "cell_type": "code",
   "execution_count": 29,
   "metadata": {
    "id": "H1AqN2eG0q1H"
   },
   "outputs": [
    {
     "name": "stdout",
     "output_type": "stream",
     "text": [
      "      user_id  month   mb_used\n",
      "0        1000     12   1901.47\n",
      "1        1001      8   6919.15\n",
      "2        1001      9  13314.82\n",
      "3        1001     10  22330.49\n",
      "4        1001     11  18504.30\n",
      "...       ...    ...       ...\n",
      "2272     1498     12  23137.69\n",
      "2273     1499      9  12984.76\n",
      "2274     1499     10  19492.43\n",
      "2275     1499     11  16813.83\n",
      "2276     1499     12  22059.21\n",
      "\n",
      "[2277 rows x 3 columns]\n"
     ]
    }
   ],
   "source": [
    "# Obtenemos el volumen del tráfico de Internet usado por cada usuario al mes. \n",
    "\n",
    "df_traffic_monthly = df_internet.groupby(['user_id','month'])['mb_used'].sum().reset_index()\n",
    "print(df_traffic_monthly)"
   ]
  },
  {
   "cell_type": "markdown",
   "metadata": {},
   "source": [
    "Ahora que tenemos el total de megabytes que el usuario consumió durante el mes, haremos la conversión a gigabytes y el redondeo hacia arriba."
   ]
  },
  {
   "cell_type": "code",
   "execution_count": 30,
   "metadata": {},
   "outputs": [
    {
     "name": "stdout",
     "output_type": "stream",
     "text": [
      "      user_id  month  gb_used\n",
      "0        1000     12        2\n",
      "1        1001      8        7\n",
      "2        1001      9       14\n",
      "3        1001     10       22\n",
      "4        1001     11       19\n",
      "...       ...    ...      ...\n",
      "2272     1498     12       23\n",
      "2273     1499      9       13\n",
      "2274     1499     10       20\n",
      "2275     1499     11       17\n",
      "2276     1499     12       22\n",
      "\n",
      "[2277 rows x 3 columns]\n"
     ]
    }
   ],
   "source": [
    "df_traffic_monthly['mb_used'] = df_traffic_monthly['mb_used'].div(1024).apply(mt.ceil)\n",
    "df_traffic_monthly.rename(columns={'mb_used': 'gb_used'}, inplace=True)\n",
    "print(df_traffic_monthly)"
   ]
  },
  {
   "cell_type": "markdown",
   "metadata": {
    "id": "VDfYXnj80q1H"
   },
   "source": [
    "Vamos a consolidar los datos de todos los DataFrames generados para obtener el consumo de llamadas, mensajes e internet de cada usuario en un solo DataFrame."
   ]
  },
  {
   "cell_type": "code",
   "execution_count": 31,
   "metadata": {},
   "outputs": [
    {
     "name": "stdout",
     "output_type": "stream",
     "text": [
      "user_id       0\n",
      "month         0\n",
      "id_x         37\n",
      "duration     37\n",
      "id_y        487\n",
      "gb_used      16\n",
      "dtype: int64\n",
      "      user_id  month  id_x  duration  id_y  gb_used\n",
      "0        1000     12  16.0     117.0  11.0      2.0\n",
      "1        1001      8  22.0     172.0  30.0      7.0\n",
      "2        1001      9  38.0     298.0  44.0     14.0\n",
      "3        1001     10  47.0     375.0  53.0     22.0\n",
      "4        1001     11  49.0     405.0  36.0     19.0\n",
      "...       ...    ...   ...       ...   ...      ...\n",
      "2288     1498     12  32.0     325.0   NaN     23.0\n",
      "2289     1499      9  35.0     331.0   NaN     13.0\n",
      "2290     1499     10  41.0     364.0   NaN     20.0\n",
      "2291     1499     11  39.0     289.0   NaN     17.0\n",
      "2292     1499     12  56.0     469.0   NaN     22.0\n",
      "\n",
      "[2293 rows x 6 columns]\n"
     ]
    }
   ],
   "source": [
    "# Cruzamos la información en un solo dataframe por user_id y mes\n",
    "df_user_consumption = df_calls_monthly.merge( # mezclamos las llamadas mensuales con los minutos por llamada\n",
    "    df_duration_monthly,\n",
    "    on=['user_id','month'],\n",
    "    how='outer',\n",
    ")\n",
    "\n",
    "#df_user_consumption = pivot_calls.merge( # mezclamos llamadas mensuales y los minutos por llamada con los mensajes enviados\n",
    "df_user_consumption = df_user_consumption.merge( # mezclamos el df resultante con los mensajes enviados\n",
    "    df_messages_monthly,\n",
    "    on=['user_id','month'],\n",
    "    how='outer',\n",
    ")\n",
    "\n",
    "df_user_consumption = df_user_consumption.merge( # mezclamos el df resultante con el consumos de datos\n",
    "    df_traffic_monthly,\n",
    "    on=['user_id','month'],\n",
    "    how='outer',\n",
    ")\n",
    "\n",
    "print(df_user_consumption.isna().sum())\n",
    "\n",
    "print(df_user_consumption)\n"
   ]
  },
  {
   "cell_type": "code",
   "execution_count": 32,
   "metadata": {},
   "outputs": [
    {
     "name": "stdout",
     "output_type": "stream",
     "text": [
      "user_id        0\n",
      "plan_name      0\n",
      "month          0\n",
      "calls         37\n",
      "minutes       37\n",
      "messages     487\n",
      "gb            16\n",
      "dtype: int64\n",
      "      user_id plan_name  month  calls  minutes  messages    gb\n",
      "0        1000  ultimate     12   16.0    117.0      11.0   2.0\n",
      "1        1001      surf      8   22.0    172.0      30.0   7.0\n",
      "2        1001      surf      9   38.0    298.0      44.0  14.0\n",
      "3        1001      surf     10   47.0    375.0      53.0  22.0\n",
      "4        1001      surf     11   49.0    405.0      36.0  19.0\n",
      "...       ...       ...    ...    ...      ...       ...   ...\n",
      "2288     1498      surf     12   32.0    325.0       NaN  23.0\n",
      "2289     1499      surf      9   35.0    331.0       NaN  13.0\n",
      "2290     1499      surf     10   41.0    364.0       NaN  20.0\n",
      "2291     1499      surf     11   39.0    289.0       NaN  17.0\n",
      "2292     1499      surf     12   56.0    469.0       NaN  22.0\n",
      "\n",
      "[2293 rows x 7 columns]\n"
     ]
    }
   ],
   "source": [
    "# Obtenemos los nombres de los planes\n",
    "df_user_consumption = df_users[['user_id','plan']].merge(\n",
    "    df_user_consumption,\n",
    "    on='user_id',\n",
    "    how='right',\n",
    ")\n",
    "\n",
    "df_user_consumption.columns =['user_id','plan_name','month','calls','minutes','messages','gb'] # Renombramos las columnas\n",
    "\n",
    "print(df_user_consumption.isna().sum())\n",
    "print(df_user_consumption)"
   ]
  },
  {
   "cell_type": "code",
   "execution_count": 33,
   "metadata": {},
   "outputs": [
    {
     "name": "stdout",
     "output_type": "stream",
     "text": [
      "<class 'pandas.core.frame.DataFrame'>\n",
      "RangeIndex: 2293 entries, 0 to 2292\n",
      "Data columns (total 7 columns):\n",
      " #   Column     Non-Null Count  Dtype  \n",
      "---  ------     --------------  -----  \n",
      " 0   user_id    2293 non-null   int64  \n",
      " 1   plan_name  2293 non-null   object \n",
      " 2   month      2293 non-null   int32  \n",
      " 3   calls      2256 non-null   float64\n",
      " 4   minutes    2256 non-null   float64\n",
      " 5   messages   1806 non-null   float64\n",
      " 6   gb         2277 non-null   float64\n",
      "dtypes: float64(4), int32(1), int64(1), object(1)\n",
      "memory usage: 116.6+ KB\n"
     ]
    }
   ],
   "source": [
    "df_user_consumption.info()"
   ]
  },
  {
   "cell_type": "markdown",
   "metadata": {},
   "source": [
    "El procesos anterior se hizo de esta manera por lo siguiente.  \n",
    "Supongamos que hemos cruzado del df que contiene el número de llamadas con los campos 'user_id' y 'plan' del df de usuarios, como resultado tenemos un df con las columnas 'user_id','plan','month' y 'calls'.  \n",
    "Ahora, queremos cruzar el df anterior con el df que contiene el número de mensajes. Pero, si hay un mensaje el cuál no coincida en 'user_id' y 'month', ya que el usuario no hizo ninguna llamada ese mes, la información se perderá, por eso el parametro 'how' es 'outer', para que no se descarten datos.  \n",
    "Sin embargo, hay algo más que debemos considerar, los datos que no coincidan, tendrán un valor ausente en el campo donde va el nombre del plan. Es por esto que los dataframes originales también deben tener este campo por defecto."
   ]
  },
  {
   "cell_type": "code",
   "execution_count": 34,
   "metadata": {
    "id": "0dNOXHag0q1H"
   },
   "outputs": [
    {
     "name": "stdout",
     "output_type": "stream",
     "text": [
      "      user_id plan_name  month  calls  minutes  messages    gb  \\\n",
      "0        1000  ultimate     12   16.0    117.0      11.0   2.0   \n",
      "1        1001      surf      8   22.0    172.0      30.0   7.0   \n",
      "2        1001      surf      9   38.0    298.0      44.0  14.0   \n",
      "3        1001      surf     10   47.0    375.0      53.0  22.0   \n",
      "4        1001      surf     11   49.0    405.0      36.0  19.0   \n",
      "...       ...       ...    ...    ...      ...       ...   ...   \n",
      "2288     1498      surf     12   32.0    325.0       NaN  23.0   \n",
      "2289     1499      surf      9   35.0    331.0       NaN  13.0   \n",
      "2290     1499      surf     10   41.0    364.0       NaN  20.0   \n",
      "2291     1499      surf     11   39.0    289.0       NaN  17.0   \n",
      "2292     1499      surf     12   56.0    469.0       NaN  22.0   \n",
      "\n",
      "      messages_included  gb_per_month_included  minutes_included  \\\n",
      "0                  1000                   30.0              3000   \n",
      "1                    50                   15.0               500   \n",
      "2                    50                   15.0               500   \n",
      "3                    50                   15.0               500   \n",
      "4                    50                   15.0               500   \n",
      "...                 ...                    ...               ...   \n",
      "2288                 50                   15.0               500   \n",
      "2289                 50                   15.0               500   \n",
      "2290                 50                   15.0               500   \n",
      "2291                 50                   15.0               500   \n",
      "2292                 50                   15.0               500   \n",
      "\n",
      "      usd_monthly_pay  usd_per_gb  usd_per_message  usd_per_minute  \n",
      "0                  70           7             0.01            0.01  \n",
      "1                  20          10             0.03            0.03  \n",
      "2                  20          10             0.03            0.03  \n",
      "3                  20          10             0.03            0.03  \n",
      "4                  20          10             0.03            0.03  \n",
      "...               ...         ...              ...             ...  \n",
      "2288               20          10             0.03            0.03  \n",
      "2289               20          10             0.03            0.03  \n",
      "2290               20          10             0.03            0.03  \n",
      "2291               20          10             0.03            0.03  \n",
      "2292               20          10             0.03            0.03  \n",
      "\n",
      "[2293 rows x 14 columns]\n"
     ]
    }
   ],
   "source": [
    "# Añade la información de la tarifa\n",
    "\n",
    "df_user_consumption = df_user_consumption.merge( # agregamos la información de la tarifa según el plan de cada usuario\n",
    "    df_plans,\n",
    "    on='plan_name',\n",
    "    how='left',\n",
    ")\n",
    "\n",
    "#df_user_consumption=df_user_consumption.drop('plan_name', axis='columns')\n",
    "print(df_user_consumption)"
   ]
  },
  {
   "cell_type": "code",
   "execution_count": 35,
   "metadata": {},
   "outputs": [
    {
     "name": "stdout",
     "output_type": "stream",
     "text": [
      "<class 'pandas.core.frame.DataFrame'>\n",
      "RangeIndex: 2293 entries, 0 to 2292\n",
      "Data columns (total 14 columns):\n",
      " #   Column                 Non-Null Count  Dtype  \n",
      "---  ------                 --------------  -----  \n",
      " 0   user_id                2293 non-null   int64  \n",
      " 1   plan_name              2293 non-null   object \n",
      " 2   month                  2293 non-null   int32  \n",
      " 3   calls                  2256 non-null   float64\n",
      " 4   minutes                2256 non-null   float64\n",
      " 5   messages               1806 non-null   float64\n",
      " 6   gb                     2277 non-null   float64\n",
      " 7   messages_included      2293 non-null   int64  \n",
      " 8   gb_per_month_included  2293 non-null   float64\n",
      " 9   minutes_included       2293 non-null   int64  \n",
      " 10  usd_monthly_pay        2293 non-null   int64  \n",
      " 11  usd_per_gb             2293 non-null   int64  \n",
      " 12  usd_per_message        2293 non-null   float64\n",
      " 13  usd_per_minute         2293 non-null   float64\n",
      "dtypes: float64(7), int32(1), int64(5), object(1)\n",
      "memory usage: 242.0+ KB\n"
     ]
    }
   ],
   "source": [
    "df_user_consumption.info()"
   ]
  },
  {
   "cell_type": "markdown",
   "metadata": {
    "id": "1IwGo4wg0q1I"
   },
   "source": [
    "Calculamos el pago mensual que debe hacer cada usario con respecto a los mensajes, llamadas y datos que consumió durante el mes."
   ]
  },
  {
   "cell_type": "code",
   "execution_count": 36,
   "metadata": {
    "id": "5FGCf_c60q1I"
   },
   "outputs": [
    {
     "name": "stdout",
     "output_type": "stream",
     "text": [
      "0        70.00\n",
      "1        20.00\n",
      "2        20.00\n",
      "3        90.09\n",
      "4        60.00\n",
      "         ...  \n",
      "2288    100.00\n",
      "2289     20.00\n",
      "2290     70.00\n",
      "2291     40.00\n",
      "2292     90.00\n",
      "Name: monthly_rate, Length: 2293, dtype: float64\n"
     ]
    }
   ],
   "source": [
    "# Calcula el ingreso mensual para cada usuario\n",
    "\n",
    "# Esta función comprueba que no haya números negativos al restar los servicios incluidos a los servicios consumidos\n",
    "def less_zero(x):\n",
    "    if x<0:\n",
    "        return 0\n",
    "    else:\n",
    "        return x\n",
    "    \n",
    "# Llenamos con ceros los valores ausentes en mensajes, minutos y mb para poder hacer cálculos\n",
    "df_user_consumption[['gb','minutes','messages']] = df_user_consumption[['gb','minutes','messages']].fillna(0)\n",
    "\n",
    "# minutos extras\n",
    "df_user_consumption['monthly_rate'] = (df_user_consumption['minutes']-df_user_consumption['minutes_included'])*df_user_consumption['usd_per_minute']\n",
    "df_user_consumption['monthly_rate'] = df_user_consumption['monthly_rate'].apply(less_zero) # si el usuario no consumió todos sus minutos \n",
    "\n",
    "# mensajes extras\n",
    "df_user_consumption['monthly_rate'] += (df_user_consumption['messages']-df_user_consumption['messages_included'])*df_user_consumption['usd_per_message']\n",
    "df_user_consumption['monthly_rate'] = df_user_consumption['monthly_rate'].apply(less_zero) # si el usuario no consumió todos sus mensajes\n",
    "\n",
    "# gigabytes extras\n",
    "df_user_consumption['monthly_rate'] += (df_user_consumption['gb']-df_user_consumption['gb_per_month_included'])* df_user_consumption['usd_per_gb']\n",
    "df_user_consumption['monthly_rate'] = df_user_consumption['monthly_rate'].apply(less_zero) # si el usuario no consumió todos sus gb\n",
    "\n",
    "#sumamos el precio mensual del plan \n",
    "df_user_consumption['monthly_rate']+=df_user_consumption['usd_monthly_pay']\n",
    "\n",
    "print(df_user_consumption['monthly_rate'])"
   ]
  },
  {
   "cell_type": "markdown",
   "metadata": {
    "id": "-jtyHzJb0q1I"
   },
   "source": [
    "## Estudia el comportamiento de usuario"
   ]
  },
  {
   "cell_type": "markdown",
   "metadata": {
    "id": "AxU3Y0N70q1J"
   },
   "source": [
    "Estudiaremos el comportamiento de los usuarios en diferentes escenarios."
   ]
  },
  {
   "cell_type": "markdown",
   "metadata": {
    "id": "vtW4CJEe0q1J"
   },
   "source": [
    "### Llamadas\n",
    "Comparamos la duración mensual promedio de llamadas por cada plan."
   ]
  },
  {
   "cell_type": "code",
   "execution_count": null,
   "metadata": {
    "id": "Jf5v5--k0q1J"
   },
   "outputs": [
    {
     "name": "stdout",
     "output_type": "stream",
     "text": [
      "    month plan_name     minutes\n",
      "0       1      surf  193.000000\n",
      "1       1  ultimate  183.750000\n",
      "2       2      surf  281.333333\n",
      "3       2  ultimate  380.428571\n",
      "4       3      surf  311.434783\n",
      "5       3  ultimate  286.166667\n",
      "6       4      surf  332.920000\n",
      "7       4  ultimate  317.095238\n",
      "8       5      surf  377.532468\n",
      "9       5  ultimate  384.206897\n",
      "10      6      surf  407.690722\n",
      "11      6  ultimate  350.340426\n",
      "12      7      surf  424.991736\n",
      "13      7  ultimate  404.271186\n",
      "14      8      surf  387.660494\n",
      "15      8  ultimate  397.788732\n",
      "16      9      surf  391.453608\n",
      "17      9  ultimate  413.779070\n",
      "18     10      surf  406.202532\n",
      "19     10  ultimate  425.688679\n",
      "20     11      surf  400.063604\n",
      "21     11  ultimate  420.944882\n",
      "22     12      surf  447.981132\n",
      "23     12  ultimate  433.549669\n"
     ]
    }
   ],
   "source": [
    "# Agrupamos los datos por mes y por plan y obtenemos la duración promedio\n",
    "mean_minutes_per_plan = df_user_consumption.groupby(['month','plan_name'])['minutes'].mean().reset_index()\n",
    "print(mean_minutes_per_plan)"
   ]
  },
  {
   "cell_type": "code",
   "execution_count": null,
   "metadata": {},
   "outputs": [
    {
     "name": "stdout",
     "output_type": "stream",
     "text": [
      "plan_name        surf    ultimate\n",
      "month                            \n",
      "1          193.000000  183.750000\n",
      "2          281.333333  380.428571\n",
      "3          311.434783  286.166667\n",
      "4          332.920000  317.095238\n",
      "5          377.532468  384.206897\n",
      "6          407.690722  350.340426\n",
      "7          424.991736  404.271186\n",
      "8          387.660494  397.788732\n",
      "9          391.453608  413.779070\n",
      "10         406.202532  425.688679\n",
      "11         400.063604  420.944882\n",
      "12         447.981132  433.549669\n"
     ]
    }
   ],
   "source": [
    "# Transformamos los meses en indices y los 2 planes en columnas para poder gráficar adecuadamente\n",
    "mean_minutes_per_plan = mean_minutes_per_plan.pivot_table(index='month', columns='plan_name', values='minutes')\n",
    "print(mean_minutes_per_plan)"
   ]
  },
  {
   "cell_type": "code",
   "execution_count": 45,
   "metadata": {},
   "outputs": [
    {
     "data": {
      "text/plain": [
       "<matplotlib.legend.Legend at 0x2029e47dc50>"
      ]
     },
     "execution_count": 45,
     "metadata": {},
     "output_type": "execute_result"
    },
    {
     "data": {
      "image/png": "[encoded data removed]",
      "text/plain": [
       "<Figure size 640x480 with 1 Axes>"
      ]
     },
     "metadata": {},
     "output_type": "display_data"
    }
   ],
   "source": [
    "#months = ['January', 'February', 'March', 'April', 'May', 'June', 'July', 'August', 'September', 'October', 'November', 'December']\n",
    "\n",
    "mean_minutes_per_plan.plot(\n",
    "    kind='bar',\n",
    "    title='Mean minutes per plan',\n",
    "    xlabel='Month',\n",
    "    ylabel='Minutes',\n",
    ")\n",
    "plt.legend(title='Plan')\n",
    "\n",
    "#plt.xticks(range(len(months)), months)"
   ]
  },
  {
   "cell_type": "markdown",
   "metadata": {},
   "source": [
    "Observamos que en febrero, los usuarios pasanron más tiempo en llamadas para el plan ultimate. El resto del año, la duración promedio de llamadas de ambos planes, siguen una distribución bastate similar. "
   ]
  },
  {
   "cell_type": "markdown",
   "metadata": {},
   "source": [
    "Ahora, comparemos el número total de minutos mensuales que necesitan los usuarios de cada plan."
   ]
  },
  {
   "cell_type": "code",
   "execution_count": null,
   "metadata": {},
   "outputs": [
    {
     "name": "stdout",
     "output_type": "stream",
     "text": [
      "      user_id  month plan_name  minutes\n",
      "0        1000     12  ultimate    117.0\n",
      "1        1001      8      surf    172.0\n",
      "2        1001      9      surf    298.0\n",
      "3        1001     10      surf    375.0\n",
      "4        1001     11      surf    405.0\n",
      "...       ...    ...       ...      ...\n",
      "2288     1498     12      surf    325.0\n",
      "2289     1499      9      surf    331.0\n",
      "2290     1499     10      surf    364.0\n",
      "2291     1499     11      surf    289.0\n",
      "2292     1499     12      surf    469.0\n",
      "\n",
      "[2293 rows x 4 columns]\n"
     ]
    }
   ],
   "source": [
    "# Obtenemos el número total de minutos mensuales que consume cada usuario por mes en cada plan.\n",
    "sum_minutes_per_user_id = df_user_consumption.groupby(['user_id','month','plan_name'])['minutes'].sum().reset_index()\n",
    "print(sum_minutes_per_user_id)"
   ]
  },
  {
   "cell_type": "code",
   "execution_count": 48,
   "metadata": {},
   "outputs": [
    {
     "name": "stdout",
     "output_type": "stream",
     "text": [
      "0       117.0\n",
      "19       10.0\n",
      "20       55.0\n",
      "26      451.0\n",
      "27      423.0\n",
      "        ...  \n",
      "2258    506.0\n",
      "2259    425.0\n",
      "2260    473.0\n",
      "2261    447.0\n",
      "2277    277.0\n",
      "Name: minutes, Length: 720, dtype: float64\n",
      "1       172.0\n",
      "2       298.0\n",
      "3       375.0\n",
      "4       405.0\n",
      "5       393.0\n",
      "        ...  \n",
      "2288    325.0\n",
      "2289    331.0\n",
      "2290    364.0\n",
      "2291    289.0\n",
      "2292    469.0\n",
      "Name: minutes, Length: 1573, dtype: float64\n"
     ]
    }
   ],
   "source": [
    "# Separamos los usuarios por plan\n",
    "ultimate = sum_minutes_per_user_id[sum_minutes_per_user_id['plan_name']=='ultimate']['minutes']\n",
    "surf = sum_minutes_per_user_id[sum_minutes_per_user_id['plan_name']=='surf']['minutes']\n",
    "print(ultimate)\n",
    "print(surf)"
   ]
  },
  {
   "cell_type": "code",
   "execution_count": 49,
   "metadata": {
    "id": "QoLqW1S_0q1J"
   },
   "outputs": [
    {
     "data": {
      "text/plain": [
       "<matplotlib.legend.Legend at 0x2029ed3d010>"
      ]
     },
     "execution_count": 49,
     "metadata": {},
     "output_type": "execute_result"
    },
    {
     "data": {
      "image/png": "[encoded data removed]",
      "text/plain": [
       "<Figure size 640x480 with 1 Axes>"
      ]
     },
     "metadata": {},
     "output_type": "display_data"
    }
   ],
   "source": [
    "# Creamos un histograma con los dos segmentos para ver las diferencias\n",
    "surf.plot(kind='hist',bins=50)\n",
    "ultimate.plot(kind='hist',bins=50, alpha=0.8)\n",
    "plt.legend(['surf', 'ultimate']) "
   ]
  },
  {
   "cell_type": "markdown",
   "metadata": {
    "id": "bLS9T8OH0q1K"
   },
   "source": [
    "En general, las llamadas de los usuarios de ambos planes, suelen durar entre 200 y 600 minutos al mes."
   ]
  },
  {
   "cell_type": "code",
   "execution_count": null,
   "metadata": {
    "id": "oSndbAnt0q1K"
   },
   "outputs": [
    {
     "name": "stdout",
     "output_type": "stream",
     "text": [
      "Media para el plan SURF: 53121.333333333336\n",
      "Media para el plan ULTIMATE: 24402.333333333332\n",
      "\n",
      "Varianza para el plan SURF: 1968123932.3888886\n",
      "Varianza para el plan ULTIMATE: 427173695.72222227\n"
     ]
    }
   ],
   "source": [
    "# Calculamos la media y la varianza de la duración mensual de llamadas para cada plan.\n",
    "\n",
    "minutes_per_plan = df_user_consumption.groupby(['month','plan_name'])['minutes'].sum().reset_index()\n",
    "\n",
    "minutes_plan_surf = minutes_per_plan[minutes_per_plan['plan_name']=='surf']['minutes']\n",
    "minutes_plan_ultimate = minutes_per_plan[minutes_per_plan['plan_name']=='ultimate']['minutes']\n",
    "\n",
    "print('Media para el plan SURF:',minutes_plan_surf.mean())\n",
    "print('Media para el plan ULTIMATE:',minutes_plan_ultimate.mean())\n",
    "print()\n",
    "print('Varianza para el plan SURF:',np.var(minutes_plan_surf))\n",
    "print('Varianza para el plan ULTIMATE:',np.var(minutes_plan_ultimate))"
   ]
  },
  {
   "cell_type": "code",
   "execution_count": 51,
   "metadata": {},
   "outputs": [
    {
     "data": {
      "text/html": [
       "<div>\n",
       "<style scoped>\n",
       "    .dataframe tbody tr th:only-of-type {\n",
       "        vertical-align: middle;\n",
       "    }\n",
       "\n",
       "    .dataframe tbody tr th {\n",
       "        vertical-align: top;\n",
       "    }\n",
       "\n",
       "    .dataframe thead th {\n",
       "        text-align: right;\n",
       "    }\n",
       "</style>\n",
       "<table border=\"1\" class=\"dataframe\">\n",
       "  <thead>\n",
       "    <tr style=\"text-align: right;\">\n",
       "      <th></th>\n",
       "      <th>month</th>\n",
       "      <th>plan_name</th>\n",
       "      <th>minutes</th>\n",
       "    </tr>\n",
       "  </thead>\n",
       "  <tbody>\n",
       "    <tr>\n",
       "      <th>0</th>\n",
       "      <td>1</td>\n",
       "      <td>surf</td>\n",
       "      <td>386.0</td>\n",
       "    </tr>\n",
       "    <tr>\n",
       "      <th>1</th>\n",
       "      <td>1</td>\n",
       "      <td>ultimate</td>\n",
       "      <td>735.0</td>\n",
       "    </tr>\n",
       "    <tr>\n",
       "      <th>2</th>\n",
       "      <td>2</td>\n",
       "      <td>surf</td>\n",
       "      <td>2532.0</td>\n",
       "    </tr>\n",
       "    <tr>\n",
       "      <th>3</th>\n",
       "      <td>2</td>\n",
       "      <td>ultimate</td>\n",
       "      <td>2663.0</td>\n",
       "    </tr>\n",
       "    <tr>\n",
       "      <th>4</th>\n",
       "      <td>3</td>\n",
       "      <td>surf</td>\n",
       "      <td>7163.0</td>\n",
       "    </tr>\n",
       "    <tr>\n",
       "      <th>5</th>\n",
       "      <td>3</td>\n",
       "      <td>ultimate</td>\n",
       "      <td>3434.0</td>\n",
       "    </tr>\n",
       "    <tr>\n",
       "      <th>6</th>\n",
       "      <td>4</td>\n",
       "      <td>surf</td>\n",
       "      <td>16646.0</td>\n",
       "    </tr>\n",
       "    <tr>\n",
       "      <th>7</th>\n",
       "      <td>4</td>\n",
       "      <td>ultimate</td>\n",
       "      <td>6659.0</td>\n",
       "    </tr>\n",
       "    <tr>\n",
       "      <th>8</th>\n",
       "      <td>5</td>\n",
       "      <td>surf</td>\n",
       "      <td>29070.0</td>\n",
       "    </tr>\n",
       "    <tr>\n",
       "      <th>9</th>\n",
       "      <td>5</td>\n",
       "      <td>ultimate</td>\n",
       "      <td>11142.0</td>\n",
       "    </tr>\n",
       "    <tr>\n",
       "      <th>10</th>\n",
       "      <td>6</td>\n",
       "      <td>surf</td>\n",
       "      <td>39546.0</td>\n",
       "    </tr>\n",
       "    <tr>\n",
       "      <th>11</th>\n",
       "      <td>6</td>\n",
       "      <td>ultimate</td>\n",
       "      <td>16466.0</td>\n",
       "    </tr>\n",
       "    <tr>\n",
       "      <th>12</th>\n",
       "      <td>7</td>\n",
       "      <td>surf</td>\n",
       "      <td>51424.0</td>\n",
       "    </tr>\n",
       "    <tr>\n",
       "      <th>13</th>\n",
       "      <td>7</td>\n",
       "      <td>ultimate</td>\n",
       "      <td>23852.0</td>\n",
       "    </tr>\n",
       "    <tr>\n",
       "      <th>14</th>\n",
       "      <td>8</td>\n",
       "      <td>surf</td>\n",
       "      <td>62801.0</td>\n",
       "    </tr>\n",
       "    <tr>\n",
       "      <th>15</th>\n",
       "      <td>8</td>\n",
       "      <td>ultimate</td>\n",
       "      <td>28243.0</td>\n",
       "    </tr>\n",
       "    <tr>\n",
       "      <th>16</th>\n",
       "      <td>9</td>\n",
       "      <td>surf</td>\n",
       "      <td>75942.0</td>\n",
       "    </tr>\n",
       "    <tr>\n",
       "      <th>17</th>\n",
       "      <td>9</td>\n",
       "      <td>ultimate</td>\n",
       "      <td>35585.0</td>\n",
       "    </tr>\n",
       "    <tr>\n",
       "      <th>18</th>\n",
       "      <td>10</td>\n",
       "      <td>surf</td>\n",
       "      <td>96270.0</td>\n",
       "    </tr>\n",
       "    <tr>\n",
       "      <th>19</th>\n",
       "      <td>10</td>\n",
       "      <td>ultimate</td>\n",
       "      <td>45123.0</td>\n",
       "    </tr>\n",
       "    <tr>\n",
       "      <th>20</th>\n",
       "      <td>11</td>\n",
       "      <td>surf</td>\n",
       "      <td>113218.0</td>\n",
       "    </tr>\n",
       "    <tr>\n",
       "      <th>21</th>\n",
       "      <td>11</td>\n",
       "      <td>ultimate</td>\n",
       "      <td>53460.0</td>\n",
       "    </tr>\n",
       "    <tr>\n",
       "      <th>22</th>\n",
       "      <td>12</td>\n",
       "      <td>surf</td>\n",
       "      <td>142458.0</td>\n",
       "    </tr>\n",
       "    <tr>\n",
       "      <th>23</th>\n",
       "      <td>12</td>\n",
       "      <td>ultimate</td>\n",
       "      <td>65466.0</td>\n",
       "    </tr>\n",
       "  </tbody>\n",
       "</table>\n",
       "</div>"
      ],
      "text/plain": [
       "    month plan_name   minutes\n",
       "0       1      surf     386.0\n",
       "1       1  ultimate     735.0\n",
       "2       2      surf    2532.0\n",
       "3       2  ultimate    2663.0\n",
       "4       3      surf    7163.0\n",
       "5       3  ultimate    3434.0\n",
       "6       4      surf   16646.0\n",
       "7       4  ultimate    6659.0\n",
       "8       5      surf   29070.0\n",
       "9       5  ultimate   11142.0\n",
       "10      6      surf   39546.0\n",
       "11      6  ultimate   16466.0\n",
       "12      7      surf   51424.0\n",
       "13      7  ultimate   23852.0\n",
       "14      8      surf   62801.0\n",
       "15      8  ultimate   28243.0\n",
       "16      9      surf   75942.0\n",
       "17      9  ultimate   35585.0\n",
       "18     10      surf   96270.0\n",
       "19     10  ultimate   45123.0\n",
       "20     11      surf  113218.0\n",
       "21     11  ultimate   53460.0\n",
       "22     12      surf  142458.0\n",
       "23     12  ultimate   65466.0"
      ]
     },
     "execution_count": 51,
     "metadata": {},
     "output_type": "execute_result"
    }
   ],
   "source": [
    "minutes_per_plan"
   ]
  },
  {
   "cell_type": "code",
   "execution_count": 73,
   "metadata": {
    "id": "nZzoRUKc0q1K"
   },
   "outputs": [
    {
     "name": "stdout",
     "output_type": "stream",
     "text": [
      "count        12.000000\n",
      "mean      53121.333333\n",
      "std       46336.209274\n",
      "min         386.000000\n",
      "25%       14275.250000\n",
      "50%       45485.000000\n",
      "75%       81024.000000\n",
      "max      142458.000000\n",
      "Name: minutes, dtype: float64\n"
     ]
    },
    {
     "data": {
      "image/png": "[encoded data removed]",
      "text/plain": [
       "<Figure size 640x480 with 1 Axes>"
      ]
     },
     "metadata": {},
     "output_type": "display_data"
    },
    {
     "name": "stdout",
     "output_type": "stream",
     "text": [
      "count       12.000000\n",
      "mean     24402.333333\n",
      "std      21587.210752\n",
      "min        735.000000\n",
      "25%       5852.750000\n",
      "50%      20159.000000\n",
      "75%      37969.500000\n",
      "max      65466.000000\n",
      "Name: minutes, dtype: float64\n"
     ]
    },
    {
     "data": {
      "image/png": "[encoded data removed]",
      "text/plain": [
       "<Figure size 640x480 with 1 Axes>"
      ]
     },
     "metadata": {},
     "output_type": "display_data"
    }
   ],
   "source": [
    "# Trazamos dos diagramas de caja para visualizar las distribuciones de la duración mensual de llamadas en ambos planes\n",
    "\n",
    "print(minutes_plan_surf.describe())\n",
    "surf_plt= sns.boxplot(x=minutes_plan_surf)\n",
    "surf_plt.set_title('Plan Surf')\n",
    "plt.show()\n",
    "\n",
    "print(minutes_plan_ultimate.describe())\n",
    "ultimate_plt=sns.boxplot(x=minutes_plan_ultimate)\n",
    "ultimate_plt.set_title('Plan Ultimate')\n",
    "plt.show()"
   ]
  },
  {
   "cell_type": "markdown",
   "metadata": {
    "id": "r627zBO50q1K"
   },
   "source": [
    "Sabemos que por cada mes, los minutos para el plan Surf, van desde 386 hasta 142 mil. Es un rango muy amplio, sin embargo, gracias a que la mediana es una medida de posición estructural que no se ve afectada por los valores atípicos, sabemos que el 50% de los datos está por debajo de 45 mil minutos. Además, el 75% de los datos está por debajo de 81 mil minutos.\n",
    "\n",
    "Para el plan Ultimate, tenemos que el valor minimo es 735 minutos y el máximo 65,466. El rango de valores es menor al plan Surf. así como el valor máximo, Más aún, gracias al diagrama de caja, sabemos que el 50% de los datos está por debajo de 20 mil minutos y el 75% está por debajo de 38 mil minutos.  \n",
    "\n",
    "Tambien es importante señalar que el intervalo intercuartílico (Q3-Q1) que indica el 50% medio de los datos, para el plan Surf es apróximadamente de 66,700 minutos; mientras que para el el plan Ultimate es de apróximadamente 32 mil minutos.\n",
    "\n",
    "Por todo lo anterior, podemos concluir que los usuarios del plan Surf pasan casi 50% más de tiempo en llamadas, por mes, que los usuarios del plan Ultimate."
   ]
  },
  {
   "cell_type": "markdown",
   "metadata": {
    "id": "8idKy8Wh0q1L"
   },
   "source": [
    "### Mensajes\n",
    "Comparemos los mensajes mensuales promedio por cada plan."
   ]
  },
  {
   "cell_type": "code",
   "execution_count": null,
   "metadata": {
    "id": "NXLxiTit0q1L"
   },
   "outputs": [
    {
     "name": "stdout",
     "output_type": "stream",
     "text": [
      "plan_name       surf   ultimate\n",
      "month                          \n",
      "1          10.500000  15.500000\n",
      "2          12.000000  21.571429\n",
      "3          15.260870  20.250000\n",
      "4          17.400000  22.047619\n",
      "5          24.012987  32.103448\n",
      "6          25.298969  29.340426\n",
      "7          27.033058  32.830508\n",
      "8          28.777778  38.478873\n",
      "9          30.762887  37.895349\n",
      "10         33.839662  39.443396\n",
      "11         32.385159  38.606299\n",
      "12         38.600629  45.006623\n"
     ]
    },
    {
     "data": {
      "text/plain": [
       "<matplotlib.legend.Legend at 0x2029ea53f10>"
      ]
     },
     "execution_count": 53,
     "metadata": {},
     "output_type": "execute_result"
    },
    {
     "data": {
      "image/png": "[encoded data removed]",
      "text/plain": [
       "<Figure size 640x480 with 1 Axes>"
      ]
     },
     "metadata": {},
     "output_type": "display_data"
    }
   ],
   "source": [
    "# months = ['January', 'February', 'March', 'April', 'May', 'June', 'July', 'August', 'September', 'October', 'November', 'December']\n",
    "\n",
    "mean_messages_per_plan = df_user_consumption.groupby(['month','plan_name'])['messages'].mean().reset_index()\n",
    "mean_messages_per_plan = mean_messages_per_plan.pivot_table(index='month', columns='plan_name', values='messages')\n",
    "print(mean_messages_per_plan)\n",
    "\n",
    "mean_messages_per_plan.plot(\n",
    "    kind='bar',\n",
    "    title='Mean messages per plan',\n",
    "    xlabel='plan',\n",
    "    ylabel='messages',\n",
    ")\n",
    "plt.legend(title='Plan')\n",
    "# plt.xticks(range(len(months)), months)\n",
    "\n"
   ]
  },
  {
   "cell_type": "markdown",
   "metadata": {},
   "source": [
    "Podemos ver que la distribución con respecto a los mensajes mensuales, es bastante similar. El número de mensajes va incrementando mes con mes en ambos planes.\n",
    "\n",
    "Comprara el número de mensajes que tienden a enviar cada mes los usuarios de cada plan"
   ]
  },
  {
   "cell_type": "code",
   "execution_count": null,
   "metadata": {
    "id": "GRI_R7xF0q1L"
   },
   "outputs": [
    {
     "data": {
      "text/plain": [
       "<matplotlib.legend.Legend at 0x2029ef7f390>"
      ]
     },
     "execution_count": 54,
     "metadata": {},
     "output_type": "execute_result"
    },
    {
     "data": {
      "image/png": "[encoded data removed]",
      "text/plain": [
       "<Figure size 640x480 with 1 Axes>"
      ]
     },
     "metadata": {},
     "output_type": "display_data"
    }
   ],
   "source": [
    "sum_messages_per_user_id = df_user_consumption.groupby(['user_id','month','plan_name'])['messages'].sum().reset_index()\n",
    "\n",
    "messages_surf = sum_messages_per_user_id[sum_messages_per_user_id['plan_name']=='surf']['messages']\n",
    "messages_ultimate = sum_messages_per_user_id[sum_messages_per_user_id['plan_name']=='ultimate']['messages']\n",
    "\n",
    "messages_surf.plot(kind='hist',bins=50)\n",
    "messages_ultimate.plot(kind='hist',bins=50, alpha=0.8)\n",
    "plt.legend(['surf', 'ultimate']) "
   ]
  },
  {
   "cell_type": "markdown",
   "metadata": {},
   "source": [
    "Una cantidad importante de usuarios no envía mensajes y la distribución de la frecuencia se encuentra en el rango de 0 a 50 mensajes mensuales en su mayoría."
   ]
  },
  {
   "cell_type": "code",
   "execution_count": 72,
   "metadata": {
    "id": "dtFwCGAp0q1M",
    "scrolled": false
   },
   "outputs": [
    {
     "name": "stdout",
     "output_type": "stream",
     "text": [
      "count    1573.000000\n",
      "mean       31.159568\n",
      "std        33.566717\n",
      "min         0.000000\n",
      "25%         3.000000\n",
      "50%        24.000000\n",
      "75%        47.000000\n",
      "max       266.000000\n",
      "Name: messages, dtype: float64\n"
     ]
    },
    {
     "data": {
      "image/png": "[encoded data removed]",
      "text/plain": [
       "<Figure size 640x480 with 1 Axes>"
      ]
     },
     "metadata": {},
     "output_type": "display_data"
    },
    {
     "name": "stdout",
     "output_type": "stream",
     "text": [
      "count    720.000000\n",
      "mean      37.551389\n",
      "std       34.767179\n",
      "min        0.000000\n",
      "25%        7.000000\n",
      "50%       30.000000\n",
      "75%       61.000000\n",
      "max      166.000000\n",
      "Name: messages, dtype: float64\n"
     ]
    },
    {
     "data": {
      "image/png": "[encoded data removed]",
      "text/plain": [
       "<Figure size 640x480 with 1 Axes>"
      ]
     },
     "metadata": {},
     "output_type": "display_data"
    }
   ],
   "source": [
    "# Diagrama de caja para visualizar la distribución de la duración mensual de llamadas\n",
    "\n",
    "print(messages_surf.describe())\n",
    "surf_plt= sns.boxplot(x=messages_surf)\n",
    "surf_plt.set_title('Plan Surf')\n",
    "plt.show()\n",
    "\n",
    "print(messages_ultimate.describe())\n",
    "ultimate_plt=sns.boxplot(x=messages_ultimate)\n",
    "ultimate_plt.set_title('Plan Ultimate')\n",
    "plt.show()"
   ]
  },
  {
   "cell_type": "markdown",
   "metadata": {
    "id": "390SSL480q1M"
   },
   "source": [
    "Por los gráficos anteriores sabemos que existen algunos valores atípicos que se desvían del patrón general de los datos.  \n",
    "También podemos ver que para el primer gráfico, que hace referencia al plan Surf, los datos son relativamente simétricos, mientras que para el plan Ultimate, están ligeramente sesgados a la derecha.  \n",
    "Para el plan Surf, el 75% de los datos están por debajo de 47 mensajes y el IQR es de 44 mensajes.  \n",
    "Para el plan Ultimate, el 75% de los datos están por debajo de 61 mensajes y el IQR es de 54 mensajes.  \n",
    "De lo anterior, se puede decir que los usuarios del plan Ultimate suelen mandar más mensajes de texto al mes."
   ]
  },
  {
   "cell_type": "markdown",
   "metadata": {
    "id": "42YSypXz0q1M"
   },
   "source": [
    "### Internet"
   ]
  },
  {
   "cell_type": "code",
   "execution_count": 64,
   "metadata": {
    "id": "lSuKPtjh0q1M"
   },
   "outputs": [
    {
     "name": "stdout",
     "output_type": "stream",
     "text": [
      "plan_name       surf   ultimate\n",
      "month                          \n",
      "1           5.000000   7.250000\n",
      "2          12.222222  17.285714\n",
      "3          13.565217  18.416667\n",
      "4          12.220000  16.333333\n",
      "5          14.116883  16.862069\n",
      "6          15.484536  15.425532\n",
      "7          16.876033  16.491525\n",
      "8          16.882716  17.845070\n",
      "9          16.690722  17.011628\n",
      "10         17.409283  17.716981\n",
      "11         16.431095  17.118110\n",
      "12         18.238994  18.397351\n"
     ]
    },
    {
     "data": {
      "text/plain": [
       "<matplotlib.legend.Legend at 0x2029f115c50>"
      ]
     },
     "execution_count": 64,
     "metadata": {},
     "output_type": "execute_result"
    },
    {
     "data": {
      "image/png": "[encoded data removed]",
      "text/plain": [
       "<Figure size 640x480 with 1 Axes>"
      ]
     },
     "metadata": {},
     "output_type": "display_data"
    }
   ],
   "source": [
    "# Compara los gb promedio por cada plan y por cada mes.\n",
    "mean_gb_per_plan = df_user_consumption.groupby(['month','plan_name'])['gb'].mean().reset_index()\n",
    "mean_gb_per_plan = mean_gb_per_plan.pivot_table(index='month', columns='plan_name', values='gb')\n",
    "print(mean_gb_per_plan)\n",
    "\n",
    "mean_gb_per_plan.plot(\n",
    "    kind='bar',\n",
    "    title='Mean gigbytes per plan',\n",
    "    xlabel='plan',\n",
    "    ylabel='gigbytes',\n",
    ")\n",
    "plt.legend(title='Plan')\n",
    "\n",
    "# months = ['January', 'February', 'March', 'April', 'May', 'June', 'July', 'August', 'September', 'October', 'November', 'December']\n",
    "# plt.xticks(range(len(months)), months)"
   ]
  },
  {
   "cell_type": "markdown",
   "metadata": {},
   "source": [
    "Aquí podemos ver una diferencia notable, en los primeros meses del año los usuarios del plan Ultimate usaron más gigabytes que el resto del año.\n",
    "\n",
    "Compraremos el número de gigabytes mensuales que tienden a usar los usuarios de los planes."
   ]
  },
  {
   "cell_type": "code",
   "execution_count": 65,
   "metadata": {
    "id": "wnh8jYXi0q1N"
   },
   "outputs": [
    {
     "data": {
      "text/plain": [
       "<matplotlib.legend.Legend at 0x2029f3ead10>"
      ]
     },
     "execution_count": 65,
     "metadata": {},
     "output_type": "execute_result"
    },
    {
     "data": {
      "image/png": "[encoded data removed]",
      "text/plain": [
       "<Figure size 640x480 with 1 Axes>"
      ]
     },
     "metadata": {},
     "output_type": "display_data"
    }
   ],
   "source": [
    "sum_gb_per_user_id = df_user_consumption.groupby(['user_id','month','plan_name'])['gb'].sum().reset_index()\n",
    "\n",
    "gb_surf = sum_gb_per_user_id[sum_gb_per_user_id['plan_name']=='surf']['gb']\n",
    "gb_ultimate = sum_gb_per_user_id[sum_gb_per_user_id['plan_name']=='ultimate']['gb']\n",
    "\n",
    "gb_surf.plot(kind='hist',bins=50)\n",
    "gb_ultimate.plot(kind='hist',bins=50, alpha=0.8)\n",
    "\n",
    "plt.legend(['surf', 'ultimate'])"
   ]
  },
  {
   "cell_type": "markdown",
   "metadata": {},
   "source": [
    "Los datos siguen una distribución similar. Por lo general, los usuarios consumen entre 10 y 20.5 gb mensualmente, en ambos planes."
   ]
  },
  {
   "cell_type": "code",
   "execution_count": 71,
   "metadata": {
    "id": "5VlyJ9ry0q1N"
   },
   "outputs": [
    {
     "name": "stdout",
     "output_type": "stream",
     "text": [
      "count    1573.000000\n",
      "mean       16.670693\n",
      "std         7.847522\n",
      "min         0.000000\n",
      "25%        12.000000\n",
      "50%        17.000000\n",
      "75%        21.000000\n",
      "max        70.000000\n",
      "Name: gb, dtype: float64\n"
     ]
    },
    {
     "data": {
      "image/png": "[encoded data removed]",
      "text/plain": [
       "<Figure size 640x480 with 1 Axes>"
      ]
     },
     "metadata": {},
     "output_type": "display_data"
    },
    {
     "name": "stdout",
     "output_type": "stream",
     "text": [
      "count    720.000000\n",
      "mean      17.306944\n",
      "std        7.670108\n",
      "min        0.000000\n",
      "25%       13.000000\n",
      "50%       17.000000\n",
      "75%       21.000000\n",
      "max       46.000000\n",
      "Name: gb, dtype: float64\n"
     ]
    },
    {
     "data": {
      "image/png": "[encoded data removed]",
      "text/plain": [
       "<Figure size 640x480 with 1 Axes>"
      ]
     },
     "metadata": {},
     "output_type": "display_data"
    }
   ],
   "source": [
    "# Diagrama de caja para visualizar la distribución del consumo mensual de gigabytes\n",
    "print(gb_surf.describe())\n",
    "surf_plt= sns.boxplot(x=gb_surf)\n",
    "surf_plt.set_title('Plan Surf')\n",
    "plt.show()\n",
    "\n",
    "print(gb_ultimate.describe())\n",
    "ultimate_plt=sns.boxplot(x=gb_ultimate)\n",
    "ultimate_plt.set_title('Plan Ultimate')\n",
    "plt.show()"
   ]
  },
  {
   "cell_type": "markdown",
   "metadata": {
    "id": "UN9zwuMP0q1N"
   },
   "source": [
    "Para el plan Surf, el 75% de los meses tiene un consumo de 21 gb, con un rango intercuartil (IQR) de 9 gb. En contraste, para el plan Ultimate, el 75% del consumo mensual no supera los 21 gb, con un IQR de alrededor de 8 gb.  \n",
    "En resumen, ambos planes parecen tener un consumo promedio similar, pero el plan Ultimate muestra una menor dispersión en los datos."
   ]
  },
  {
   "cell_type": "markdown",
   "metadata": {
    "id": "tCijq3260q1N"
   },
   "source": [
    "## Ingreso"
   ]
  },
  {
   "cell_type": "markdown",
   "metadata": {
    "id": "9nq5IAcy0q1O"
   },
   "source": [
    "Obtendremos el ingreso promedio de los usuarios de forma mensual para cada plan."
   ]
  },
  {
   "cell_type": "code",
   "execution_count": 67,
   "metadata": {
    "id": "tz-dq_V00q1O"
   },
   "outputs": [
    {
     "name": "stdout",
     "output_type": "stream",
     "text": [
      "plan_name       surf   ultimate\n",
      "month                          \n",
      "1          20.000000  70.000000\n",
      "2          33.333333  70.000000\n",
      "3          45.756087  74.666667\n",
      "4          39.985000  73.000000\n",
      "5          46.820519  70.724138\n",
      "6          48.574536  71.638298\n",
      "7          61.656033  71.898305\n",
      "8          63.061481  72.859155\n",
      "9          57.400515  72.034884\n",
      "10         64.614388  72.311321\n",
      "11         57.031237  71.708661\n",
      "12         69.447138  73.291391\n"
     ]
    },
    {
     "data": {
      "text/plain": [
       "<matplotlib.legend.Legend at 0x2029ea93c50>"
      ]
     },
     "execution_count": 67,
     "metadata": {},
     "output_type": "execute_result"
    },
    {
     "data": {
      "image/png": "[encoded data removed]",
      "text/plain": [
       "<Figure size 640x480 with 1 Axes>"
      ]
     },
     "metadata": {},
     "output_type": "display_data"
    }
   ],
   "source": [
    "mean_income_per_plan = df_user_consumption.groupby(['month','plan_name'])['monthly_rate'].mean().reset_index()\n",
    "mean_income_per_plan = mean_income_per_plan.pivot_table(index='month', columns='plan_name', values='monthly_rate')\n",
    "print(mean_income_per_plan)\n",
    "\n",
    "mean_income_per_plan.plot(\n",
    "    kind='bar',\n",
    "    title='Mean income per plan',\n",
    "    xlabel='plan',\n",
    "    ylabel='income',\n",
    ")\n",
    "plt.legend(title='Plan')\n",
    "\n",
    "# months = ['January', 'February', 'March', 'April', 'May', 'June', 'July', 'August', 'September', 'October', 'November', 'December']\n",
    "# plt.xticks(range(len(months)), months)\n",
    "\n",
    "\n"
   ]
  },
  {
   "cell_type": "markdown",
   "metadata": {},
   "source": [
    "El promedio del ingreso mensual es mayor y más constante por parte de los usuarios con plan Ultimate, a comparación de los usuarios con plan Surf.\n",
    "\n",
    "Compraremps el ingreso mensual de los usuarios de cada plan."
   ]
  },
  {
   "cell_type": "code",
   "execution_count": 68,
   "metadata": {
    "id": "0Y1v8ZUz0q1P",
    "scrolled": false
   },
   "outputs": [
    {
     "data": {
      "text/plain": [
       "<matplotlib.legend.Legend at 0x2029f4778d0>"
      ]
     },
     "execution_count": 68,
     "metadata": {},
     "output_type": "execute_result"
    },
    {
     "data": {
      "image/png": "[encoded data removed]",
      "text/plain": [
       "<Figure size 640x480 with 1 Axes>"
      ]
     },
     "metadata": {},
     "output_type": "display_data"
    }
   ],
   "source": [
    "sum_rate_per_user_id = df_user_consumption.groupby(['user_id','month','plan_name'])['monthly_rate'].sum().reset_index()\n",
    "\n",
    "rate_surf = sum_rate_per_user_id[sum_rate_per_user_id['plan_name']=='surf']['monthly_rate']\n",
    "rate_ultimate = sum_rate_per_user_id[sum_rate_per_user_id['plan_name']=='ultimate']['monthly_rate']\n",
    "\n",
    "rate_surf.plot(kind='hist',bins=50)\n",
    "rate_ultimate.plot(kind='hist',bins=10, alpha=0.8)\n",
    "plt.legend(['surf', 'ultimate'])"
   ]
  },
  {
   "cell_type": "markdown",
   "metadata": {},
   "source": [
    "Los usuarios del plan Ultimate rara vez exceden los límites de su paquete, a diferencia de los usuarios del plan Surf, que lo hacen con mayor frecuencia"
   ]
  },
  {
   "cell_type": "code",
   "execution_count": 70,
   "metadata": {
    "id": "bYmwxyVh0q1P"
   },
   "outputs": [
    {
     "name": "stdout",
     "output_type": "stream",
     "text": [
      "count    1573.000000\n",
      "mean       59.795442\n",
      "std        55.434944\n",
      "min        20.000000\n",
      "25%        20.000000\n",
      "50%        40.000000\n",
      "75%        80.000000\n",
      "max       588.660000\n",
      "Name: monthly_rate, dtype: float64\n"
     ]
    },
    {
     "data": {
      "image/png": "[encoded data removed]",
      "text/plain": [
       "<Figure size 640x480 with 1 Axes>"
      ]
     },
     "metadata": {},
     "output_type": "display_data"
    },
    {
     "name": "stdout",
     "output_type": "stream",
     "text": [
      "count    720.000000\n",
      "mean      72.313889\n",
      "std       11.395108\n",
      "min       70.000000\n",
      "25%       70.000000\n",
      "50%       70.000000\n",
      "75%       70.000000\n",
      "max      182.000000\n",
      "Name: monthly_rate, dtype: float64\n"
     ]
    },
    {
     "data": {
      "image/png": "[encoded data removed]",
      "text/plain": [
       "<Figure size 640x480 with 1 Axes>"
      ]
     },
     "metadata": {},
     "output_type": "display_data"
    }
   ],
   "source": [
    "# Diagrama de caja para visualizar la distribución de los ingresos de cada plan\n",
    "print(rate_surf.describe())\n",
    "surf_plt= sns.boxplot(x=rate_surf)\n",
    "surf_plt.set_title('Plan Surf')\n",
    "plt.show()\n",
    "\n",
    "print(rate_ultimate.describe())\n",
    "ultimate_plt=sns.boxplot(x=rate_ultimate)\n",
    "ultimate_plt.set_title('Plan Ultimate')\n",
    "plt.show()"
   ]
  },
  {
   "cell_type": "markdown",
   "metadata": {
    "id": "KAFidcXZ0q1P"
   },
   "source": [
    "Hay que hacer enfasis en que, para el plan Ultimate, los cuartiles Q1, Q2 y Q3 son iguales, es decir, los valores están igualmente distribuidos alrededor de la mediana. El IQR es igual a 0 y el 50% medio de los datos son iguales a 70. Ademas, el 75% de los datos, son menores a 70 y el resto son valores atípicos.  \n",
    "En contraste, para el plan Surf, el 75% de los datos está por debajo de 80, y el IQR es de 60.  \n",
    "Por lo tanto podemos concluir que, los usuarios del plan Surf tienden a tener un consumo ligeramente mayor que los usuarios del plan Ultimate. Sin embargo, el plan Ultimate muestra una distribución más uniforme de los datos alrededor de la mediana, mientras que el plan Surf tiene una mayor variabilidad."
   ]
  },
  {
   "cell_type": "markdown",
   "metadata": {
    "id": "ajJ7VKeI0q1Q"
   },
   "source": [
    "## Prueba las hipótesis estadísticas"
   ]
  },
  {
   "cell_type": "markdown",
   "metadata": {
    "id": "IQwa_hsh0q1Q"
   },
   "source": [
    "Queremos comprobar si son diferentes los ingresos promedio procedentes de los usuarios de los planes de llamada Ultimate y Surf.  \n",
    "Como la función ttest_ind, solo comprueba igualdades, partimos de la siguiente hipotesis nula:  \n",
    "\"La media de los ingresos procedentes de los usarios con planes Ultimate, es igual a la media de los ingresos procedentes de los usarios con planes Surf\".  \n",
    "Por lo que la hipotesis alternativa sería:  \n",
    "\"La media de los ingresos procedentes de los usarios con planes Ultimate, no es igual a la media de los ingresos procedentes de los usarios con planes Surf\"."
   ]
  },
  {
   "cell_type": "code",
   "execution_count": null,
   "metadata": {},
   "outputs": [
    {
     "name": "stdout",
     "output_type": "stream",
     "text": [
      "varianza 1: 3772.334671877551\n",
      "varianza 2: 66.5\n"
     ]
    }
   ],
   "source": [
    "# Extraemos una muestra de 50 elementos de los ingresos mensuales para cada usuario por plan\n",
    "sample_1 = rate_surf.sample(n=50)\n",
    "sample_2 = rate_ultimate.sample(n=50)\n",
    "\n",
    "# Comprobamos si las varianzas son aproximadamente iguales\n",
    "print('varianza 1:', sample_1.var())\n",
    "print('varianza 2:', sample_2.var())"
   ]
  },
  {
   "cell_type": "code",
   "execution_count": null,
   "metadata": {
    "id": "nFoPNlPq0q1R"
   },
   "outputs": [
    {
     "name": "stdout",
     "output_type": "stream",
     "text": [
      "valor p:  0.8404203201891958\n",
      "No podemos rechazar la hipótesis nula\n"
     ]
    }
   ],
   "source": [
    "\n",
    "alpha = 0.05  # establecemos el nivel de significancia estadística crítica en 5%\n",
    "\n",
    "results = st.ttest_ind(sample_1, sample_2, equal_var = False) # las varianzas son diferentes, entonces configuramos equal_var = False\n",
    "\n",
    "print('valor p: ', results.pvalue) # extraemos el valor p\n",
    "\n",
    "if results.pvalue < alpha: # comparamos el valor p con el nivel de significancia\n",
    "    print(\"Rechazamos la hipótesis nula\")\n",
    "else:\n",
    "    print(\"No podemos rechazar la hipótesis nula\")\n"
   ]
  },
  {
   "cell_type": "markdown",
   "metadata": {},
   "source": [
    "Debido a que el valor p, que indica la probabilidad de que las medias sean iguales, es bastante alta, no podemos rechazar la hipotesis núla. De esta forma, podemos decir que es probable que las medias de ambas probabilidades sean iguales o por lo menos muy similares, por lo tanto, no se puede confirmar que sean diferentes los ingresos promedio de ambos planes.  \n",
    "\n"
   ]
  },
  {
   "cell_type": "markdown",
   "metadata": {
    "id": "LsBgitqj0q1R"
   },
   "source": [
    "Queremos comprobar que el ingreso promedio de los usuarios del área NY-NJ es diferente al de los usuarios de otras regiones.  \n",
    "Para esto, estableceremos la siguiente hipótesis nula:  \n",
    "\"La media de los ingresos procedentes de los usarios del área NY-NJ , es igual a la media de los ingresos procedentes de los usarios de otras regiones\".  \n",
    "La hipotesis alternativa sería la siguiente:  \n",
    "\"La media de los ingresos procedentes de los usarios del área NY-NJ , no es igual a la media de los ingresos procedentes de los usarios de otras regiones\".  "
   ]
  },
  {
   "cell_type": "code",
   "execution_count": 76,
   "metadata": {},
   "outputs": [
    {
     "name": "stdout",
     "output_type": "stream",
     "text": [
      "   user_id plan_name  month  calls  minutes  messages    gb  \\\n",
      "0     1000  ultimate   12.0   16.0    117.0      11.0   2.0   \n",
      "1     1001      surf    8.0   22.0    172.0      30.0   7.0   \n",
      "2     1001      surf    9.0   38.0    298.0      44.0  14.0   \n",
      "3     1001      surf   10.0   47.0    375.0      53.0  22.0   \n",
      "4     1001      surf   11.0   49.0    405.0      36.0  19.0   \n",
      "\n",
      "   messages_included  gb_per_month_included  minutes_included  \\\n",
      "0             1000.0                   30.0            3000.0   \n",
      "1               50.0                   15.0             500.0   \n",
      "2               50.0                   15.0             500.0   \n",
      "3               50.0                   15.0             500.0   \n",
      "4               50.0                   15.0             500.0   \n",
      "\n",
      "   usd_monthly_pay  usd_per_gb  usd_per_message  usd_per_minute  monthly_rate  \\\n",
      "0             70.0         7.0             0.01            0.01         70.00   \n",
      "1             20.0        10.0             0.03            0.03         20.00   \n",
      "2             20.0        10.0             0.03            0.03         20.00   \n",
      "3             20.0        10.0             0.03            0.03         90.09   \n",
      "4             20.0        10.0             0.03            0.03         60.00   \n",
      "\n",
      "                                    city  \n",
      "0  Atlanta-Sandy Springs-Roswell, GA MSA  \n",
      "1        Seattle-Tacoma-Bellevue, WA MSA  \n",
      "2        Seattle-Tacoma-Bellevue, WA MSA  \n",
      "3        Seattle-Tacoma-Bellevue, WA MSA  \n",
      "4        Seattle-Tacoma-Bellevue, WA MSA  \n"
     ]
    }
   ],
   "source": [
    "# Agregamos la columna 'city' al dataframe del consumo del usuario\n",
    "df_city = df_user_consumption.merge(\n",
    "    df_users[['user_id','city']],\n",
    "    on='user_id',\n",
    "    how='right',\n",
    ")\n",
    "print(df_city.head(5))"
   ]
  },
  {
   "cell_type": "code",
   "execution_count": 77,
   "metadata": {},
   "outputs": [
    {
     "name": "stdout",
     "output_type": "stream",
     "text": [
      "varianza 1: 1439.6943046530612\n",
      "varianza 2: 66.5\n"
     ]
    }
   ],
   "source": [
    "# Extraemos los usarios del área NY-NJ y de el resto de regiones\n",
    "df_NY_NJ = df_city[df_city['city']=='New York-Newark-Jersey City, NY-NJ-PA MSA']\n",
    "df_other_areas = df_city[df_city['city']!='New York-Newark-Jersey City, NY-NJ-PA MSA']\n",
    "\n",
    "# Obtenemos una agrupación por usuario y mes\n",
    "group_df_NY_NJ = df_NY_NJ.groupby(['user_id','month'])['monthly_rate'].sum().reset_index()\n",
    "group_df_other_areas = df_other_areas.groupby(['user_id','month'])['monthly_rate'].sum().reset_index()\n",
    "# Obtenemos muestras de 50 elementos\n",
    "sample_NY_NJ = group_df_NY_NJ['monthly_rate'].sample(n=50)\n",
    "sample_other_areas = group_df_other_areas['monthly_rate'].sample(n=50)\n",
    "\n",
    "# comprobamos si las varianzas son aproximadamente iguales\n",
    "print('varianza 1:', sample_NY_NJ.var())\n",
    "print('varianza 2:', sample_2.var())"
   ]
  },
  {
   "cell_type": "code",
   "execution_count": 78,
   "metadata": {
    "id": "Cqcj7wrZ0q1S",
    "scrolled": false
   },
   "outputs": [
    {
     "name": "stdout",
     "output_type": "stream",
     "text": [
      "valor p:  0.42582926334071824\n",
      "No podemos rechazar la hipótesis nula\n"
     ]
    }
   ],
   "source": [
    "# Prueba las hipótesis\n",
    "alpha = 0.05  # establecemos el nivel de significancia estadística crítica en 5%\n",
    "\n",
    "results_2 = st.ttest_ind(sample_NY_NJ, sample_other_areas, equal_var = False) # las varianzas son diferentes, entonces ponemos equal_var = false\n",
    "\n",
    "print('valor p: ', results_2.pvalue) # extraer el valor p\n",
    "\n",
    "if results_2.pvalue < alpha: # comparar el valor p con el nivel de significancia\n",
    "    print(\"Rechazamos la hipótesis nula\")\n",
    "else:\n",
    "    print(\"No podemos rechazar la hipótesis nula\")"
   ]
  },
  {
   "cell_type": "markdown",
   "metadata": {},
   "source": [
    "Parece que la probabilidad de que el ingreso promedio, proveniente de los usuarios del área NY-NJ, sea igual al de otras regiones, es más alta que el 5%, por lo que no podemos rechazar la hipótesis nula y no podemos decir que hay una diferencia significativa de ingresos, con respecto al resto de las regiones"
   ]
  },
  {
   "cell_type": "markdown",
   "metadata": {
    "id": "bbTR8UQO0q1T"
   },
   "source": [
    "## Conclusión general\n",
    "\n",
    "La comprobación de una hipótesis nos permite determinar si una condición se cumple. Además, es crucial preparar los datos adecuadamente para realizar un procesamiento preciso y evitar obtener resultados erróneos o engañosos que podrían ser contraproducentes.  \n",
    "Según los resultados obtenidos durante el proyecto, existe una alta probabilidad de que el plan Ultimate sea más rentable para la empresa. A pesar de tener menos usuarios suscritos a este plan y de que los usuarios no superen con tanta frecuencia los límites del mismo, los ingresos son constantes y altos debido al costo del plan."
   ]
  }
 ],
 "metadata": {
  "ExecuteTimeLog": [
   {
    "duration": 828,
    "start_time": "2021-11-16T09:21:11.304Z"
   },
   {
    "duration": 893,
    "start_time": "2021-11-16T09:21:17.728Z"
   },
   {
    "duration": 1150,
    "start_time": "2021-11-16T09:21:29.568Z"
   },
   {
    "duration": 3,
    "start_time": "2021-11-16T09:24:14.495Z"
   },
   {
    "duration": 120,
    "start_time": "2021-11-16T09:24:46.630Z"
   },
   {
    "duration": 3,
    "start_time": "2021-11-16T09:28:27.882Z"
   },
   {
    "duration": 4,
    "start_time": "2021-11-16T09:29:54.281Z"
   },
   {
    "duration": 3,
    "start_time": "2021-11-16T09:30:45.936Z"
   },
   {
    "duration": 4,
    "start_time": "2021-11-16T09:31:06.300Z"
   },
   {
    "duration": 113,
    "start_time": "2021-11-16T09:31:37.208Z"
   },
   {
    "duration": 143,
    "start_time": "2021-11-16T09:31:48.656Z"
   },
   {
    "duration": 98,
    "start_time": "2021-11-16T09:31:55.678Z"
   },
   {
    "duration": 3,
    "start_time": "2021-11-16T09:32:08.535Z"
   },
   {
    "duration": 111,
    "start_time": "2021-11-16T09:32:10.120Z"
   },
   {
    "duration": 3,
    "start_time": "2021-11-16T09:32:15.732Z"
   },
   {
    "duration": 4,
    "start_time": "2021-11-16T09:32:29.423Z"
   },
   {
    "duration": 3,
    "start_time": "2021-11-16T10:03:03.074Z"
   },
   {
    "duration": 3,
    "start_time": "2021-11-16T10:10:01.288Z"
   },
   {
    "duration": 3,
    "start_time": "2021-11-16T10:10:46.923Z"
   },
   {
    "duration": 121,
    "start_time": "2021-11-16T10:37:46.494Z"
   },
   {
    "duration": 125,
    "start_time": "2021-11-16T10:38:20.632Z"
   },
   {
    "duration": 112,
    "start_time": "2021-11-16T10:46:53.001Z"
   },
   {
    "duration": 110,
    "start_time": "2021-11-16T10:48:25.775Z"
   },
   {
    "duration": 3,
    "start_time": "2021-11-16T10:50:18.720Z"
   },
   {
    "duration": 4,
    "start_time": "2021-11-16T10:50:37.649Z"
   },
   {
    "duration": 2,
    "start_time": "2021-11-16T10:50:51.884Z"
   },
   {
    "duration": 3,
    "start_time": "2021-11-16T10:51:56.237Z"
   },
   {
    "duration": 101,
    "start_time": "2021-11-16T10:53:13.791Z"
   },
   {
    "duration": 3,
    "start_time": "2021-11-16T10:55:59.186Z"
   },
   {
    "duration": 3,
    "start_time": "2021-11-16T10:56:10.751Z"
   },
   {
    "duration": 3,
    "start_time": "2021-11-16T10:56:49.038Z"
   },
   {
    "duration": 3,
    "start_time": "2021-11-16T10:56:49.174Z"
   },
   {
    "duration": 4,
    "start_time": "2021-11-16T10:56:49.414Z"
   },
   {
    "duration": 3,
    "start_time": "2021-11-16T10:56:49.680Z"
   },
   {
    "duration": 3,
    "start_time": "2021-11-16T10:56:50.370Z"
   },
   {
    "duration": 114,
    "start_time": "2021-11-16T10:59:34.518Z"
   },
   {
    "duration": 3,
    "start_time": "2021-11-16T11:01:41.201Z"
   },
   {
    "duration": 116,
    "start_time": "2021-11-16T11:01:48.754Z"
   },
   {
    "duration": 3,
    "start_time": "2021-11-16T11:02:16.685Z"
   },
   {
    "duration": 3,
    "start_time": "2021-11-16T11:02:19.479Z"
   },
   {
    "duration": 3,
    "start_time": "2021-11-16T11:02:47.067Z"
   },
   {
    "duration": 3,
    "start_time": "2021-11-16T11:02:49.353Z"
   },
   {
    "duration": 3,
    "start_time": "2021-11-16T11:03:07.835Z"
   },
   {
    "duration": 3,
    "start_time": "2021-11-16T11:03:07.953Z"
   },
   {
    "duration": 112,
    "start_time": "2021-11-16T11:07:52.072Z"
   },
   {
    "duration": 187,
    "start_time": "2021-11-16T11:09:23.468Z"
   },
   {
    "duration": 4,
    "start_time": "2021-11-16T11:10:01.455Z"
   },
   {
    "duration": 3,
    "start_time": "2021-11-16T11:10:05.069Z"
   },
   {
    "duration": 4,
    "start_time": "2021-11-16T11:10:13.376Z"
   },
   {
    "duration": 3,
    "start_time": "2021-11-16T11:10:14.434Z"
   },
   {
    "duration": 3,
    "start_time": "2021-11-16T11:10:22.853Z"
   },
   {
    "duration": 4,
    "start_time": "2021-11-16T11:27:29.279Z"
   },
   {
    "duration": 4,
    "start_time": "2021-11-16T11:29:08.919Z"
   },
   {
    "duration": 118,
    "start_time": "2021-11-16T11:29:46.703Z"
   },
   {
    "duration": 437,
    "start_time": "2021-11-16T11:36:02.181Z"
   },
   {
    "duration": 157,
    "start_time": "2021-11-16T11:36:14.388Z"
   },
   {
    "duration": 207,
    "start_time": "2021-11-16T11:47:15.898Z"
   },
   {
    "duration": 3,
    "start_time": "2021-11-16T11:53:52.092Z"
   },
   {
    "duration": 3,
    "start_time": "2021-11-16T11:53:52.236Z"
   },
   {
    "duration": 3,
    "start_time": "2021-11-16T11:59:12.005Z"
   },
   {
    "duration": 112,
    "start_time": "2021-11-16T12:00:33.446Z"
   },
   {
    "duration": 3,
    "start_time": "2021-11-16T12:02:14.453Z"
   },
   {
    "duration": 3,
    "start_time": "2021-11-16T12:02:39.512Z"
   },
   {
    "duration": 106,
    "start_time": "2021-11-16T12:03:03.460Z"
   },
   {
    "duration": 3,
    "start_time": "2021-11-17T20:37:21.139Z"
   },
   {
    "duration": 3,
    "start_time": "2021-11-17T20:37:22.229Z"
   },
   {
    "duration": 3,
    "start_time": "2021-11-17T20:38:38.806Z"
   },
   {
    "duration": 3,
    "start_time": "2021-11-17T20:38:41.958Z"
   },
   {
    "duration": 3,
    "start_time": "2021-11-17T20:43:46.551Z"
   },
   {
    "duration": 4,
    "start_time": "2021-11-17T20:58:21.835Z"
   },
   {
    "duration": 3,
    "start_time": "2021-11-17T20:59:21.872Z"
   },
   {
    "duration": 4,
    "start_time": "2021-11-17T20:59:45.352Z"
   },
   {
    "duration": 4,
    "start_time": "2021-11-17T20:59:49.646Z"
   },
   {
    "duration": 159,
    "start_time": "2021-11-17T21:02:26.949Z"
   },
   {
    "duration": 3,
    "start_time": "2021-11-17T21:03:53.461Z"
   },
   {
    "duration": 3,
    "start_time": "2021-11-17T21:03:53.694Z"
   },
   {
    "duration": 3,
    "start_time": "2021-11-17T21:05:28.145Z"
   },
   {
    "duration": 116,
    "start_time": "2021-11-17T21:05:57.787Z"
   },
   {
    "duration": 3,
    "start_time": "2021-11-17T21:06:37.993Z"
   },
   {
    "duration": 3,
    "start_time": "2021-11-17T21:06:38.261Z"
   },
   {
    "duration": 3,
    "start_time": "2021-11-17T21:11:54.358Z"
   },
   {
    "duration": 3,
    "start_time": "2021-11-17T21:12:43.846Z"
   },
   {
    "duration": 4,
    "start_time": "2021-11-17T21:13:08.773Z"
   },
   {
    "duration": 3,
    "start_time": "2021-11-17T21:14:44.441Z"
   },
   {
    "duration": 3,
    "start_time": "2021-11-17T21:15:42.059Z"
   },
   {
    "duration": 4,
    "start_time": "2021-11-17T21:15:51.995Z"
   },
   {
    "duration": 3,
    "start_time": "2021-11-17T21:15:53.923Z"
   },
   {
    "duration": 3,
    "start_time": "2021-11-17T21:15:55.282Z"
   },
   {
    "duration": 3,
    "start_time": "2021-11-17T21:16:28.492Z"
   },
   {
    "duration": 3,
    "start_time": "2021-11-17T21:16:32.603Z"
   },
   {
    "duration": 3,
    "start_time": "2021-11-17T21:17:06.941Z"
   },
   {
    "duration": 98,
    "start_time": "2021-11-17T21:18:05.733Z"
   },
   {
    "duration": 4,
    "start_time": "2021-11-17T21:21:35.255Z"
   },
   {
    "duration": 3,
    "start_time": "2021-11-17T21:21:37.804Z"
   },
   {
    "duration": 4,
    "start_time": "2021-11-17T21:23:06.071Z"
   },
   {
    "duration": 3,
    "start_time": "2021-11-17T21:23:24.799Z"
   },
   {
    "duration": 3,
    "start_time": "2021-11-17T21:23:32.591Z"
   },
   {
    "duration": 98,
    "start_time": "2021-11-17T21:28:31.559Z"
   },
   {
    "duration": 3,
    "start_time": "2021-11-17T21:28:45.448Z"
   },
   {
    "duration": 3,
    "start_time": "2021-11-17T21:29:17.303Z"
   },
   {
    "duration": 3,
    "start_time": "2021-11-17T21:29:29.617Z"
   },
   {
    "duration": 3,
    "start_time": "2021-11-17T21:29:32.681Z"
   },
   {
    "duration": 3,
    "start_time": "2021-11-17T21:36:11.474Z"
   },
   {
    "duration": 3,
    "start_time": "2021-11-17T21:36:14.791Z"
   },
   {
    "duration": 3,
    "start_time": "2021-11-17T21:36:53.943Z"
   },
   {
    "duration": 3,
    "start_time": "2021-11-17T21:36:56.165Z"
   },
   {
    "duration": 4,
    "start_time": "2021-11-17T21:37:16.590Z"
   },
   {
    "duration": 3,
    "start_time": "2021-11-17T21:37:22.702Z"
   },
   {
    "duration": 4,
    "start_time": "2021-11-17T21:38:03.479Z"
   },
   {
    "duration": 3,
    "start_time": "2021-11-17T21:38:08.601Z"
   },
   {
    "duration": 3,
    "start_time": "2021-11-17T21:38:12.928Z"
   },
   {
    "duration": 3,
    "start_time": "2021-11-17T21:38:48.896Z"
   },
   {
    "duration": 2,
    "start_time": "2021-11-17T21:38:49.171Z"
   },
   {
    "duration": 4,
    "start_time": "2021-11-17T21:39:57.889Z"
   },
   {
    "duration": 3,
    "start_time": "2021-11-17T21:39:58.057Z"
   },
   {
    "duration": 3,
    "start_time": "2021-11-17T21:41:20.108Z"
   },
   {
    "duration": 3,
    "start_time": "2021-11-17T21:41:20.629Z"
   },
   {
    "duration": 3,
    "start_time": "2021-11-17T21:42:49.136Z"
   },
   {
    "duration": 3,
    "start_time": "2021-11-17T21:43:15.137Z"
   },
   {
    "duration": 4,
    "start_time": "2021-11-17T21:43:16.766Z"
   },
   {
    "duration": 4,
    "start_time": "2021-11-17T21:43:31.711Z"
   },
   {
    "duration": 3,
    "start_time": "2021-11-17T21:43:36.312Z"
   },
   {
    "duration": 4,
    "start_time": "2021-11-17T21:45:08.825Z"
   },
   {
    "duration": 4,
    "start_time": "2021-11-17T21:45:10.119Z"
   },
   {
    "duration": 4,
    "start_time": "2021-11-17T21:45:13.748Z"
   },
   {
    "duration": 3,
    "start_time": "2021-11-17T21:45:22.219Z"
   },
   {
    "duration": 3,
    "start_time": "2021-11-17T21:45:33.412Z"
   },
   {
    "duration": 2,
    "start_time": "2021-11-17T21:46:01.885Z"
   },
   {
    "duration": 3,
    "start_time": "2021-11-17T21:46:03.628Z"
   },
   {
    "duration": 107,
    "start_time": "2021-11-17T21:47:32.512Z"
   },
   {
    "duration": 103,
    "start_time": "2021-11-17T21:50:36.243Z"
   },
   {
    "duration": 3,
    "start_time": "2021-11-18T06:28:31.440Z"
   },
   {
    "duration": 3,
    "start_time": "2021-11-18T06:29:00.168Z"
   },
   {
    "duration": 3,
    "start_time": "2021-11-18T06:31:27.008Z"
   },
   {
    "duration": 2,
    "start_time": "2021-11-18T06:35:34.288Z"
   },
   {
    "duration": 2,
    "start_time": "2021-11-18T06:38:04.527Z"
   },
   {
    "duration": 5620,
    "start_time": "2024-06-06T23:21:37.068Z"
   },
   {
    "duration": 1788,
    "start_time": "2024-06-06T23:24:52.384Z"
   },
   {
    "duration": 326,
    "start_time": "2024-06-06T23:25:13.120Z"
   },
   {
    "duration": 32,
    "start_time": "2024-06-06T23:26:28.868Z"
   },
   {
    "duration": 16,
    "start_time": "2024-06-06T23:27:58.681Z"
   },
   {
    "duration": 17,
    "start_time": "2024-06-06T23:30:08.775Z"
   },
   {
    "duration": 15,
    "start_time": "2024-06-06T23:31:58.497Z"
   },
   {
    "duration": 20,
    "start_time": "2024-06-06T23:32:09.140Z"
   },
   {
    "duration": 19,
    "start_time": "2024-06-06T23:32:29.102Z"
   },
   {
    "duration": 25,
    "start_time": "2024-06-06T23:32:49.610Z"
   },
   {
    "duration": 78,
    "start_time": "2024-06-06T23:33:27.553Z"
   },
   {
    "duration": 86,
    "start_time": "2024-06-06T23:33:35.386Z"
   },
   {
    "duration": 77,
    "start_time": "2024-06-06T23:33:44.264Z"
   },
   {
    "duration": 92,
    "start_time": "2024-06-06T23:33:59.721Z"
   },
   {
    "duration": 13,
    "start_time": "2024-06-06T23:35:34.055Z"
   },
   {
    "duration": 8,
    "start_time": "2024-06-06T23:35:38.129Z"
   },
   {
    "duration": 15,
    "start_time": "2024-06-06T23:35:54.893Z"
   },
   {
    "duration": 9,
    "start_time": "2024-06-06T23:35:55.886Z"
   },
   {
    "duration": 12,
    "start_time": "2024-06-06T23:36:42.559Z"
   },
   {
    "duration": 394,
    "start_time": "2024-06-07T00:45:16.841Z"
   },
   {
    "duration": 5228,
    "start_time": "2024-06-07T00:45:33.658Z"
   },
   {
    "duration": 449,
    "start_time": "2024-06-07T00:45:38.890Z"
   },
   {
    "duration": 22,
    "start_time": "2024-06-07T00:45:42.494Z"
   },
   {
    "duration": 10,
    "start_time": "2024-06-07T00:45:44.565Z"
   },
   {
    "duration": 19,
    "start_time": "2024-06-07T00:45:50.349Z"
   },
   {
    "duration": 32,
    "start_time": "2024-06-07T00:46:00.417Z"
   },
   {
    "duration": 15,
    "start_time": "2024-06-07T00:55:56.316Z"
   },
   {
    "duration": 25,
    "start_time": "2024-06-07T00:57:18.829Z"
   },
   {
    "duration": 13,
    "start_time": "2024-06-07T00:57:31.266Z"
   },
   {
    "duration": 20,
    "start_time": "2024-06-07T00:58:38.804Z"
   },
   {
    "duration": 10,
    "start_time": "2024-06-07T00:58:50.673Z"
   },
   {
    "duration": 22,
    "start_time": "2024-06-07T00:59:51.808Z"
   },
   {
    "duration": 16,
    "start_time": "2024-06-07T01:00:01.963Z"
   },
   {
    "duration": 16,
    "start_time": "2024-06-07T01:06:04.168Z"
   },
   {
    "duration": 123,
    "start_time": "2024-06-07T01:06:31.868Z"
   },
   {
    "duration": 13,
    "start_time": "2024-06-07T01:06:35.575Z"
   },
   {
    "duration": 20,
    "start_time": "2024-06-07T01:06:57.197Z"
   },
   {
    "duration": 18,
    "start_time": "2024-06-07T01:32:45.045Z"
   },
   {
    "duration": 4899,
    "start_time": "2024-06-07T20:42:46.111Z"
   },
   {
    "duration": 343,
    "start_time": "2024-06-07T20:42:51.014Z"
   },
   {
    "duration": 17,
    "start_time": "2024-06-07T20:42:51.360Z"
   },
   {
    "duration": 24,
    "start_time": "2024-06-07T20:42:51.380Z"
   },
   {
    "duration": 15,
    "start_time": "2024-06-07T20:42:51.409Z"
   },
   {
    "duration": 15,
    "start_time": "2024-06-07T20:42:51.427Z"
   },
   {
    "duration": 55,
    "start_time": "2024-06-07T20:42:51.445Z"
   },
   {
    "duration": 25,
    "start_time": "2024-06-07T20:42:51.504Z"
   },
   {
    "duration": 13,
    "start_time": "2024-06-07T20:42:51.533Z"
   },
   {
    "duration": 62,
    "start_time": "2024-06-07T20:42:51.550Z"
   },
   {
    "duration": 11,
    "start_time": "2024-06-07T20:42:51.616Z"
   },
   {
    "duration": 25,
    "start_time": "2024-06-07T20:42:51.630Z"
   },
   {
    "duration": 44,
    "start_time": "2024-06-07T20:42:51.658Z"
   },
   {
    "duration": 12,
    "start_time": "2024-06-07T20:42:51.708Z"
   },
   {
    "duration": 15,
    "start_time": "2024-06-07T20:42:51.723Z"
   },
   {
    "duration": 4,
    "start_time": "2024-06-07T20:42:51.741Z"
   },
   {
    "duration": 3,
    "start_time": "2024-06-07T20:42:51.749Z"
   },
   {
    "duration": 4,
    "start_time": "2024-06-07T20:42:51.802Z"
   },
   {
    "duration": 3,
    "start_time": "2024-06-07T20:42:51.810Z"
   },
   {
    "duration": 6,
    "start_time": "2024-06-07T20:42:51.816Z"
   },
   {
    "duration": 4,
    "start_time": "2024-06-07T20:42:51.824Z"
   },
   {
    "duration": 4,
    "start_time": "2024-06-07T20:42:51.831Z"
   },
   {
    "duration": 3,
    "start_time": "2024-06-07T20:42:51.839Z"
   },
   {
    "duration": 55,
    "start_time": "2024-06-07T20:42:51.846Z"
   },
   {
    "duration": 3,
    "start_time": "2024-06-07T20:42:51.904Z"
   },
   {
    "duration": 5,
    "start_time": "2024-06-07T20:42:51.911Z"
   },
   {
    "duration": 4,
    "start_time": "2024-06-07T20:42:51.919Z"
   },
   {
    "duration": 3,
    "start_time": "2024-06-07T20:42:51.927Z"
   },
   {
    "duration": 3,
    "start_time": "2024-06-07T20:42:51.934Z"
   },
   {
    "duration": 10,
    "start_time": "2024-06-07T20:44:33.577Z"
   },
   {
    "duration": 7,
    "start_time": "2024-06-07T20:46:27.862Z"
   },
   {
    "duration": 10,
    "start_time": "2024-06-07T20:46:38.020Z"
   },
   {
    "duration": 429,
    "start_time": "2024-06-07T20:53:43.532Z"
   },
   {
    "duration": 23,
    "start_time": "2024-06-07T20:53:49.059Z"
   },
   {
    "duration": 14,
    "start_time": "2024-06-07T20:54:04.843Z"
   },
   {
    "duration": 12,
    "start_time": "2024-06-07T20:54:16.995Z"
   },
   {
    "duration": 12,
    "start_time": "2024-06-07T20:54:29.298Z"
   },
   {
    "duration": 31,
    "start_time": "2024-06-07T20:55:23.850Z"
   },
   {
    "duration": 4,
    "start_time": "2024-06-07T20:57:07.952Z"
   },
   {
    "duration": 5,
    "start_time": "2024-06-07T20:57:18.885Z"
   },
   {
    "duration": 28,
    "start_time": "2024-06-07T20:57:33.941Z"
   },
   {
    "duration": 29,
    "start_time": "2024-06-07T21:07:08.759Z"
   },
   {
    "duration": 11,
    "start_time": "2024-06-07T21:07:20.790Z"
   },
   {
    "duration": 10,
    "start_time": "2024-06-07T21:07:33.006Z"
   },
   {
    "duration": 10,
    "start_time": "2024-06-07T21:07:40.317Z"
   },
   {
    "duration": 16,
    "start_time": "2024-06-07T21:17:32.529Z"
   },
   {
    "duration": 13,
    "start_time": "2024-06-07T21:22:33.856Z"
   },
   {
    "duration": 7,
    "start_time": "2024-06-07T21:26:47.415Z"
   },
   {
    "duration": 6,
    "start_time": "2024-06-07T21:27:45.840Z"
   },
   {
    "duration": 10,
    "start_time": "2024-06-07T21:28:12.307Z"
   },
   {
    "duration": 26,
    "start_time": "2024-06-07T21:29:34.610Z"
   },
   {
    "duration": 28,
    "start_time": "2024-06-07T21:29:43.965Z"
   },
   {
    "duration": 15,
    "start_time": "2024-06-07T21:30:05.028Z"
   },
   {
    "duration": 10,
    "start_time": "2024-06-07T21:30:23.845Z"
   },
   {
    "duration": 9,
    "start_time": "2024-06-07T21:30:53.707Z"
   },
   {
    "duration": 28,
    "start_time": "2024-06-07T21:31:13.082Z"
   },
   {
    "duration": 9,
    "start_time": "2024-06-07T21:31:20.475Z"
   },
   {
    "duration": 17,
    "start_time": "2024-06-07T21:42:04.732Z"
   },
   {
    "duration": 782,
    "start_time": "2024-06-07T21:42:49.122Z"
   },
   {
    "duration": 97,
    "start_time": "2024-06-07T21:43:05.287Z"
   },
   {
    "duration": 14,
    "start_time": "2024-06-07T21:43:17.585Z"
   },
   {
    "duration": 11,
    "start_time": "2024-06-07T21:43:23.419Z"
   },
   {
    "duration": 12,
    "start_time": "2024-06-07T21:43:31.464Z"
   },
   {
    "duration": 11,
    "start_time": "2024-06-07T21:43:59.274Z"
   },
   {
    "duration": 16,
    "start_time": "2024-06-07T21:44:06.379Z"
   },
   {
    "duration": 13,
    "start_time": "2024-06-07T21:44:19.503Z"
   },
   {
    "duration": 15,
    "start_time": "2024-06-07T21:44:23.311Z"
   },
   {
    "duration": 16,
    "start_time": "2024-06-07T21:50:32.696Z"
   },
   {
    "duration": 15,
    "start_time": "2024-06-07T21:50:43.367Z"
   },
   {
    "duration": 18,
    "start_time": "2024-06-07T21:56:31.980Z"
   },
   {
    "duration": 7,
    "start_time": "2024-06-07T21:58:56.113Z"
   },
   {
    "duration": 5,
    "start_time": "2024-06-07T21:59:06.130Z"
   },
   {
    "duration": 18,
    "start_time": "2024-06-07T21:59:11.600Z"
   },
   {
    "duration": 17,
    "start_time": "2024-06-07T21:59:23.812Z"
   },
   {
    "duration": 736,
    "start_time": "2024-06-07T21:59:39.656Z"
   },
   {
    "duration": 18,
    "start_time": "2024-06-07T22:00:06.839Z"
   },
   {
    "duration": 84,
    "start_time": "2024-06-07T22:00:38.252Z"
   },
   {
    "duration": 16,
    "start_time": "2024-06-07T22:00:42.384Z"
   },
   {
    "duration": 17,
    "start_time": "2024-06-07T22:01:00.816Z"
   },
   {
    "duration": 20,
    "start_time": "2024-06-07T22:01:34.415Z"
   },
   {
    "duration": 21,
    "start_time": "2024-06-07T22:02:24.537Z"
   },
   {
    "duration": 125,
    "start_time": "2024-06-07T22:04:05.016Z"
   },
   {
    "duration": 28,
    "start_time": "2024-06-07T22:04:27.243Z"
   },
   {
    "duration": 15,
    "start_time": "2024-06-07T22:06:17.825Z"
   },
   {
    "duration": 14,
    "start_time": "2024-06-07T22:07:11.276Z"
   },
   {
    "duration": 20,
    "start_time": "2024-06-07T22:07:56.691Z"
   },
   {
    "duration": 22,
    "start_time": "2024-06-07T22:08:48.042Z"
   },
   {
    "duration": 22,
    "start_time": "2024-06-07T22:15:45.634Z"
   },
   {
    "duration": 22,
    "start_time": "2024-06-07T22:17:07.959Z"
   },
   {
    "duration": 23,
    "start_time": "2024-06-07T22:17:24.437Z"
   },
   {
    "duration": 23,
    "start_time": "2024-06-07T22:19:11.067Z"
   },
   {
    "duration": 20,
    "start_time": "2024-06-07T22:19:54.706Z"
   },
   {
    "duration": 11,
    "start_time": "2024-06-07T22:19:59.071Z"
   },
   {
    "duration": 88,
    "start_time": "2024-06-07T22:27:33.893Z"
   },
   {
    "duration": 86,
    "start_time": "2024-06-07T22:28:11.652Z"
   },
   {
    "duration": 133,
    "start_time": "2024-06-07T22:31:22.471Z"
   },
   {
    "duration": 306,
    "start_time": "2024-06-07T22:32:38.215Z"
   },
   {
    "duration": 24,
    "start_time": "2024-06-07T22:37:07.474Z"
   },
   {
    "duration": 21,
    "start_time": "2024-06-07T22:45:56.161Z"
   },
   {
    "duration": 779,
    "start_time": "2024-06-07T22:47:54.232Z"
   },
   {
    "duration": 27,
    "start_time": "2024-06-07T22:48:40.196Z"
   },
   {
    "duration": 35,
    "start_time": "2024-06-07T22:48:50.811Z"
   },
   {
    "duration": 34,
    "start_time": "2024-06-07T22:48:56.385Z"
   },
   {
    "duration": 1151,
    "start_time": "2024-06-07T22:49:12.964Z"
   },
   {
    "duration": 276,
    "start_time": "2024-06-07T22:49:14.119Z"
   },
   {
    "duration": 21,
    "start_time": "2024-06-07T22:49:14.399Z"
   },
   {
    "duration": 22,
    "start_time": "2024-06-07T22:49:14.425Z"
   },
   {
    "duration": 16,
    "start_time": "2024-06-07T22:49:14.450Z"
   },
   {
    "duration": 15,
    "start_time": "2024-06-07T22:49:14.502Z"
   },
   {
    "duration": 14,
    "start_time": "2024-06-07T22:49:14.521Z"
   },
   {
    "duration": 64,
    "start_time": "2024-06-07T22:49:14.539Z"
   },
   {
    "duration": 15,
    "start_time": "2024-06-07T22:49:14.606Z"
   },
   {
    "duration": 20,
    "start_time": "2024-06-07T22:49:14.627Z"
   },
   {
    "duration": 10,
    "start_time": "2024-06-07T22:49:14.650Z"
   },
   {
    "duration": 59,
    "start_time": "2024-06-07T22:49:14.663Z"
   },
   {
    "duration": 11,
    "start_time": "2024-06-07T22:49:14.726Z"
   },
   {
    "duration": 12,
    "start_time": "2024-06-07T22:49:14.740Z"
   },
   {
    "duration": 53,
    "start_time": "2024-06-07T22:49:14.755Z"
   },
   {
    "duration": 12,
    "start_time": "2024-06-07T22:49:14.811Z"
   },
   {
    "duration": 11,
    "start_time": "2024-06-07T22:49:14.826Z"
   },
   {
    "duration": 12,
    "start_time": "2024-06-07T22:49:14.839Z"
   },
   {
    "duration": 67,
    "start_time": "2024-06-07T22:49:14.854Z"
   },
   {
    "duration": 20,
    "start_time": "2024-06-07T22:49:14.924Z"
   },
   {
    "duration": 3,
    "start_time": "2024-06-07T22:49:14.947Z"
   },
   {
    "duration": 3,
    "start_time": "2024-06-07T22:49:14.954Z"
   },
   {
    "duration": 43,
    "start_time": "2024-06-07T22:49:14.960Z"
   },
   {
    "duration": 3,
    "start_time": "2024-06-07T22:49:15.007Z"
   },
   {
    "duration": 3,
    "start_time": "2024-06-07T22:49:15.013Z"
   },
   {
    "duration": 4,
    "start_time": "2024-06-07T22:49:15.019Z"
   },
   {
    "duration": 7,
    "start_time": "2024-06-07T22:49:15.026Z"
   },
   {
    "duration": 3,
    "start_time": "2024-06-07T22:49:15.039Z"
   },
   {
    "duration": 4,
    "start_time": "2024-06-07T22:49:15.044Z"
   },
   {
    "duration": 453,
    "start_time": "2024-06-07T23:03:55.773Z"
   },
   {
    "duration": 8,
    "start_time": "2024-06-07T23:04:19.196Z"
   },
   {
    "duration": 7,
    "start_time": "2024-06-07T23:08:15.246Z"
   },
   {
    "duration": 8,
    "start_time": "2024-06-07T23:08:21.008Z"
   },
   {
    "duration": 8,
    "start_time": "2024-06-07T23:21:07.459Z"
   },
   {
    "duration": 6,
    "start_time": "2024-06-07T23:24:59.916Z"
   },
   {
    "duration": 7,
    "start_time": "2024-06-07T23:26:12.874Z"
   },
   {
    "duration": 6,
    "start_time": "2024-06-07T23:26:59.874Z"
   },
   {
    "duration": 8,
    "start_time": "2024-06-07T23:27:56.195Z"
   },
   {
    "duration": 6,
    "start_time": "2024-06-07T23:28:32.632Z"
   },
   {
    "duration": 6,
    "start_time": "2024-06-07T23:29:17.743Z"
   },
   {
    "duration": 6,
    "start_time": "2024-06-07T23:29:28.462Z"
   },
   {
    "duration": 9,
    "start_time": "2024-06-07T23:31:26.392Z"
   },
   {
    "duration": 7,
    "start_time": "2024-06-07T23:33:47.086Z"
   },
   {
    "duration": 6,
    "start_time": "2024-06-07T23:34:18.262Z"
   },
   {
    "duration": 6,
    "start_time": "2024-06-07T23:37:18.353Z"
   },
   {
    "duration": 7,
    "start_time": "2024-06-07T23:37:34.008Z"
   },
   {
    "duration": 9,
    "start_time": "2024-06-07T23:38:17.005Z"
   },
   {
    "duration": 9,
    "start_time": "2024-06-07T23:38:21.319Z"
   },
   {
    "duration": 8,
    "start_time": "2024-06-07T23:38:26.461Z"
   },
   {
    "duration": 8,
    "start_time": "2024-06-07T23:38:34.879Z"
   },
   {
    "duration": 8,
    "start_time": "2024-06-07T23:38:38.446Z"
   },
   {
    "duration": 27,
    "start_time": "2024-06-07T23:39:36.994Z"
   },
   {
    "duration": 20,
    "start_time": "2024-06-07T23:41:58.707Z"
   },
   {
    "duration": 12,
    "start_time": "2024-06-07T23:42:26.952Z"
   },
   {
    "duration": 8,
    "start_time": "2024-06-07T23:42:43.479Z"
   },
   {
    "duration": 6,
    "start_time": "2024-06-07T23:42:51.664Z"
   },
   {
    "duration": 14,
    "start_time": "2024-06-07T23:43:23.562Z"
   },
   {
    "duration": 10,
    "start_time": "2024-06-07T23:43:43.809Z"
   },
   {
    "duration": 9,
    "start_time": "2024-06-08T00:00:31.824Z"
   },
   {
    "duration": 23,
    "start_time": "2024-06-08T00:00:39.053Z"
   },
   {
    "duration": 20,
    "start_time": "2024-06-08T00:00:41.589Z"
   },
   {
    "duration": 26,
    "start_time": "2024-06-08T00:01:53.035Z"
   },
   {
    "duration": 41,
    "start_time": "2024-06-08T00:01:56.211Z"
   },
   {
    "duration": 12,
    "start_time": "2024-06-08T00:06:34.060Z"
   },
   {
    "duration": 10,
    "start_time": "2024-06-08T00:06:58.899Z"
   },
   {
    "duration": 11,
    "start_time": "2024-06-08T00:07:34.207Z"
   },
   {
    "duration": 11,
    "start_time": "2024-06-08T00:07:40.257Z"
   },
   {
    "duration": 13,
    "start_time": "2024-06-08T00:08:04.708Z"
   },
   {
    "duration": 12,
    "start_time": "2024-06-08T00:11:52.246Z"
   },
   {
    "duration": 17,
    "start_time": "2024-06-08T00:15:03.094Z"
   },
   {
    "duration": 16,
    "start_time": "2024-06-08T00:15:22.523Z"
   },
   {
    "duration": 16,
    "start_time": "2024-06-08T00:15:32.190Z"
   },
   {
    "duration": 15,
    "start_time": "2024-06-08T00:19:03.496Z"
   },
   {
    "duration": 21,
    "start_time": "2024-06-08T00:22:33.477Z"
   },
   {
    "duration": 4873,
    "start_time": "2024-06-08T01:13:23.083Z"
   },
   {
    "duration": 369,
    "start_time": "2024-06-08T01:13:27.961Z"
   },
   {
    "duration": 18,
    "start_time": "2024-06-08T01:13:28.333Z"
   },
   {
    "duration": 17,
    "start_time": "2024-06-08T01:13:28.354Z"
   },
   {
    "duration": 32,
    "start_time": "2024-06-08T01:13:28.378Z"
   },
   {
    "duration": 14,
    "start_time": "2024-06-08T01:13:28.413Z"
   },
   {
    "duration": 15,
    "start_time": "2024-06-08T01:13:28.430Z"
   },
   {
    "duration": 64,
    "start_time": "2024-06-08T01:13:28.448Z"
   },
   {
    "duration": 12,
    "start_time": "2024-06-08T01:13:28.515Z"
   },
   {
    "duration": 20,
    "start_time": "2024-06-08T01:13:28.531Z"
   },
   {
    "duration": 11,
    "start_time": "2024-06-08T01:13:28.554Z"
   },
   {
    "duration": 24,
    "start_time": "2024-06-08T01:13:28.604Z"
   },
   {
    "duration": 11,
    "start_time": "2024-06-08T01:13:28.631Z"
   },
   {
    "duration": 13,
    "start_time": "2024-06-08T01:13:28.648Z"
   },
   {
    "duration": 16,
    "start_time": "2024-06-08T01:13:28.703Z"
   },
   {
    "duration": 12,
    "start_time": "2024-06-08T01:13:28.722Z"
   },
   {
    "duration": 11,
    "start_time": "2024-06-08T01:13:28.736Z"
   },
   {
    "duration": 53,
    "start_time": "2024-06-08T01:13:28.750Z"
   },
   {
    "duration": 29,
    "start_time": "2024-06-08T01:13:28.806Z"
   },
   {
    "duration": 25,
    "start_time": "2024-06-08T01:13:28.838Z"
   },
   {
    "duration": 54,
    "start_time": "2024-06-08T01:13:28.866Z"
   },
   {
    "duration": 6,
    "start_time": "2024-06-08T01:13:28.922Z"
   },
   {
    "duration": 6,
    "start_time": "2024-06-08T01:13:28.931Z"
   },
   {
    "duration": 4,
    "start_time": "2024-06-08T01:13:28.941Z"
   },
   {
    "duration": 4,
    "start_time": "2024-06-08T01:13:28.949Z"
   },
   {
    "duration": 47,
    "start_time": "2024-06-08T01:13:28.957Z"
   },
   {
    "duration": 4,
    "start_time": "2024-06-08T01:13:29.007Z"
   },
   {
    "duration": 4,
    "start_time": "2024-06-08T01:13:29.014Z"
   },
   {
    "duration": 3,
    "start_time": "2024-06-08T01:13:29.022Z"
   },
   {
    "duration": 1835,
    "start_time": "2024-06-08T01:18:47.417Z"
   },
   {
    "duration": 28,
    "start_time": "2024-06-08T01:19:05.541Z"
   },
   {
    "duration": 44,
    "start_time": "2024-06-08T01:19:23.959Z"
   },
   {
    "duration": 39,
    "start_time": "2024-06-08T01:19:33.371Z"
   },
   {
    "duration": 1200,
    "start_time": "2024-06-08T01:19:41.462Z"
   },
   {
    "duration": 276,
    "start_time": "2024-06-08T01:19:42.668Z"
   },
   {
    "duration": 16,
    "start_time": "2024-06-08T01:19:42.950Z"
   },
   {
    "duration": 37,
    "start_time": "2024-06-08T01:19:42.969Z"
   },
   {
    "duration": 15,
    "start_time": "2024-06-08T01:19:43.010Z"
   },
   {
    "duration": 18,
    "start_time": "2024-06-08T01:19:43.029Z"
   },
   {
    "duration": 53,
    "start_time": "2024-06-08T01:19:43.051Z"
   },
   {
    "duration": 38,
    "start_time": "2024-06-08T01:19:43.107Z"
   },
   {
    "duration": 13,
    "start_time": "2024-06-08T01:19:43.150Z"
   },
   {
    "duration": 27,
    "start_time": "2024-06-08T01:19:43.201Z"
   },
   {
    "duration": 16,
    "start_time": "2024-06-08T01:19:43.231Z"
   },
   {
    "duration": 55,
    "start_time": "2024-06-08T01:19:43.250Z"
   },
   {
    "duration": 13,
    "start_time": "2024-06-08T01:19:43.309Z"
   },
   {
    "duration": 13,
    "start_time": "2024-06-08T01:19:43.329Z"
   },
   {
    "duration": 57,
    "start_time": "2024-06-08T01:19:43.345Z"
   },
   {
    "duration": 11,
    "start_time": "2024-06-08T01:19:43.405Z"
   },
   {
    "duration": 15,
    "start_time": "2024-06-08T01:19:43.419Z"
   },
   {
    "duration": 11,
    "start_time": "2024-06-08T01:19:43.438Z"
   },
   {
    "duration": 66,
    "start_time": "2024-06-08T01:19:43.453Z"
   },
   {
    "duration": 27,
    "start_time": "2024-06-08T01:19:43.524Z"
   },
   {
    "duration": 52,
    "start_time": "2024-06-08T01:19:43.554Z"
   },
   {
    "duration": 1123,
    "start_time": "2024-06-08T01:19:43.609Z"
   },
   {
    "duration": 0,
    "start_time": "2024-06-08T01:19:44.735Z"
   },
   {
    "duration": 0,
    "start_time": "2024-06-08T01:19:44.737Z"
   },
   {
    "duration": 0,
    "start_time": "2024-06-08T01:19:44.738Z"
   },
   {
    "duration": 0,
    "start_time": "2024-06-08T01:19:44.740Z"
   },
   {
    "duration": 0,
    "start_time": "2024-06-08T01:19:44.742Z"
   },
   {
    "duration": 0,
    "start_time": "2024-06-08T01:19:44.743Z"
   },
   {
    "duration": 0,
    "start_time": "2024-06-08T01:19:44.746Z"
   },
   {
    "duration": 4,
    "start_time": "2024-06-08T01:21:39.020Z"
   },
   {
    "duration": 8,
    "start_time": "2024-06-08T01:22:32.057Z"
   },
   {
    "duration": 7,
    "start_time": "2024-06-08T01:22:43.153Z"
   },
   {
    "duration": 8,
    "start_time": "2024-06-08T01:24:01.727Z"
   },
   {
    "duration": 226,
    "start_time": "2024-06-08T01:35:32.358Z"
   },
   {
    "duration": 187,
    "start_time": "2024-06-08T01:36:00.121Z"
   },
   {
    "duration": 192,
    "start_time": "2024-06-08T01:38:04.927Z"
   },
   {
    "duration": 193,
    "start_time": "2024-06-08T01:39:19.579Z"
   },
   {
    "duration": 185,
    "start_time": "2024-06-08T01:39:38.232Z"
   },
   {
    "duration": 4820,
    "start_time": "2024-06-08T15:29:58.412Z"
   },
   {
    "duration": 399,
    "start_time": "2024-06-08T15:30:03.237Z"
   },
   {
    "duration": 17,
    "start_time": "2024-06-08T15:30:03.638Z"
   },
   {
    "duration": 16,
    "start_time": "2024-06-08T15:30:03.661Z"
   },
   {
    "duration": 14,
    "start_time": "2024-06-08T15:30:03.681Z"
   },
   {
    "duration": 15,
    "start_time": "2024-06-08T15:30:03.733Z"
   },
   {
    "duration": 15,
    "start_time": "2024-06-08T15:30:03.751Z"
   },
   {
    "duration": 24,
    "start_time": "2024-06-08T15:30:03.771Z"
   },
   {
    "duration": 45,
    "start_time": "2024-06-08T15:30:03.798Z"
   },
   {
    "duration": 23,
    "start_time": "2024-06-08T15:30:03.850Z"
   },
   {
    "duration": 10,
    "start_time": "2024-06-08T15:30:03.877Z"
   },
   {
    "duration": 59,
    "start_time": "2024-06-08T15:30:03.890Z"
   },
   {
    "duration": 11,
    "start_time": "2024-06-08T15:30:03.952Z"
   },
   {
    "duration": 12,
    "start_time": "2024-06-08T15:30:03.966Z"
   },
   {
    "duration": 55,
    "start_time": "2024-06-08T15:30:03.981Z"
   },
   {
    "duration": 12,
    "start_time": "2024-06-08T15:30:04.039Z"
   },
   {
    "duration": 10,
    "start_time": "2024-06-08T15:30:04.054Z"
   },
   {
    "duration": 9,
    "start_time": "2024-06-08T15:30:04.067Z"
   },
   {
    "duration": 65,
    "start_time": "2024-06-08T15:30:04.079Z"
   },
   {
    "duration": 23,
    "start_time": "2024-06-08T15:30:04.146Z"
   },
   {
    "duration": 21,
    "start_time": "2024-06-08T15:30:04.173Z"
   },
   {
    "duration": 257,
    "start_time": "2024-06-08T15:30:04.197Z"
   },
   {
    "duration": 4,
    "start_time": "2024-06-08T15:30:04.457Z"
   },
   {
    "duration": 4,
    "start_time": "2024-06-08T15:30:04.464Z"
   },
   {
    "duration": 3,
    "start_time": "2024-06-08T15:30:04.472Z"
   },
   {
    "duration": 8,
    "start_time": "2024-06-08T15:30:04.478Z"
   },
   {
    "duration": 4,
    "start_time": "2024-06-08T15:30:04.489Z"
   },
   {
    "duration": 4,
    "start_time": "2024-06-08T15:30:04.533Z"
   },
   {
    "duration": 5,
    "start_time": "2024-06-08T15:30:04.540Z"
   },
   {
    "duration": 8,
    "start_time": "2024-06-08T15:35:15.225Z"
   },
   {
    "duration": 9,
    "start_time": "2024-06-08T15:37:26.242Z"
   },
   {
    "duration": 10,
    "start_time": "2024-06-08T15:37:37.969Z"
   },
   {
    "duration": 4797,
    "start_time": "2024-06-08T20:40:16.746Z"
   },
   {
    "duration": 374,
    "start_time": "2024-06-08T20:40:23.027Z"
   },
   {
    "duration": 15,
    "start_time": "2024-06-08T20:40:26.075Z"
   },
   {
    "duration": 16,
    "start_time": "2024-06-08T20:40:27.297Z"
   },
   {
    "duration": 15,
    "start_time": "2024-06-08T20:40:32.536Z"
   },
   {
    "duration": 14,
    "start_time": "2024-06-08T20:40:36.738Z"
   },
   {
    "duration": 29,
    "start_time": "2024-06-08T20:48:38.128Z"
   },
   {
    "duration": 23,
    "start_time": "2024-06-08T20:49:38.668Z"
   },
   {
    "duration": 24,
    "start_time": "2024-06-08T20:50:43.539Z"
   },
   {
    "duration": 12,
    "start_time": "2024-06-08T20:50:49.953Z"
   },
   {
    "duration": 58,
    "start_time": "2024-06-08T20:53:24.200Z"
   },
   {
    "duration": 19,
    "start_time": "2024-06-08T20:53:38.029Z"
   },
   {
    "duration": 9,
    "start_time": "2024-06-08T20:53:40.057Z"
   },
   {
    "duration": 32,
    "start_time": "2024-06-08T20:56:06.331Z"
   },
   {
    "duration": 30,
    "start_time": "2024-06-08T20:56:23.586Z"
   },
   {
    "duration": 16,
    "start_time": "2024-06-08T21:03:48.200Z"
   },
   {
    "duration": 17,
    "start_time": "2024-06-08T21:04:27.261Z"
   },
   {
    "duration": 16,
    "start_time": "2024-06-08T21:04:47.862Z"
   },
   {
    "duration": 26,
    "start_time": "2024-06-08T21:05:12.454Z"
   },
   {
    "duration": 16,
    "start_time": "2024-06-08T21:07:55.443Z"
   },
   {
    "duration": 22,
    "start_time": "2024-06-08T21:12:00.643Z"
   },
   {
    "duration": 13,
    "start_time": "2024-06-08T21:12:02.890Z"
   },
   {
    "duration": 36,
    "start_time": "2024-06-08T21:14:10.503Z"
   },
   {
    "duration": 18,
    "start_time": "2024-06-08T21:22:49.066Z"
   },
   {
    "duration": 12,
    "start_time": "2024-06-08T21:23:24.671Z"
   },
   {
    "duration": 26,
    "start_time": "2024-06-08T21:42:37.993Z"
   },
   {
    "duration": 23,
    "start_time": "2024-06-08T21:45:13.997Z"
   },
   {
    "duration": 17,
    "start_time": "2024-06-08T21:45:46.645Z"
   },
   {
    "duration": 17,
    "start_time": "2024-06-08T21:47:04.357Z"
   },
   {
    "duration": 383,
    "start_time": "2024-06-08T21:50:45.806Z"
   },
   {
    "duration": 4,
    "start_time": "2024-06-08T21:51:02.116Z"
   },
   {
    "duration": 26,
    "start_time": "2024-06-08T21:51:07.516Z"
   },
   {
    "duration": 8,
    "start_time": "2024-06-08T21:51:17.110Z"
   },
   {
    "duration": 10,
    "start_time": "2024-06-08T21:51:21.360Z"
   },
   {
    "duration": 697,
    "start_time": "2024-06-08T21:52:20.394Z"
   },
   {
    "duration": 19,
    "start_time": "2024-06-08T21:55:06.237Z"
   },
   {
    "duration": 21,
    "start_time": "2024-06-08T21:57:24.979Z"
   },
   {
    "duration": 790,
    "start_time": "2024-06-08T22:07:16.215Z"
   },
   {
    "duration": 24,
    "start_time": "2024-06-08T22:08:05.706Z"
   },
   {
    "duration": 19,
    "start_time": "2024-06-08T22:08:15.995Z"
   },
   {
    "duration": 6,
    "start_time": "2024-06-08T22:16:46.067Z"
   },
   {
    "duration": 17,
    "start_time": "2024-06-08T22:16:55.038Z"
   },
   {
    "duration": 26,
    "start_time": "2024-06-08T22:27:40.940Z"
   },
   {
    "duration": 175,
    "start_time": "2024-06-08T22:28:07.666Z"
   },
   {
    "duration": 22,
    "start_time": "2024-06-08T22:28:26.322Z"
   },
   {
    "duration": 84,
    "start_time": "2024-06-08T22:28:44.698Z"
   },
   {
    "duration": 30,
    "start_time": "2024-06-08T22:28:58.378Z"
   },
   {
    "duration": 23,
    "start_time": "2024-06-08T22:29:27.008Z"
   },
   {
    "duration": 25,
    "start_time": "2024-06-08T22:29:46.592Z"
   },
   {
    "duration": 33,
    "start_time": "2024-06-08T22:29:58.432Z"
   },
   {
    "duration": 19,
    "start_time": "2024-06-08T22:30:17.544Z"
   },
   {
    "duration": 43,
    "start_time": "2024-06-08T22:31:00.270Z"
   },
   {
    "duration": 7,
    "start_time": "2024-06-08T22:31:14.894Z"
   },
   {
    "duration": 5,
    "start_time": "2024-06-08T22:31:17.921Z"
   },
   {
    "duration": 28,
    "start_time": "2024-06-08T22:31:20.903Z"
   },
   {
    "duration": 28,
    "start_time": "2024-06-08T22:31:27.757Z"
   },
   {
    "duration": 33,
    "start_time": "2024-06-08T22:31:40.278Z"
   },
   {
    "duration": 27,
    "start_time": "2024-06-08T22:31:55.799Z"
   },
   {
    "duration": 29,
    "start_time": "2024-06-08T22:32:09.399Z"
   },
   {
    "duration": 22,
    "start_time": "2024-06-08T22:32:21.493Z"
   },
   {
    "duration": 18,
    "start_time": "2024-06-08T22:32:56.044Z"
   },
   {
    "duration": 18,
    "start_time": "2024-06-08T22:33:36.651Z"
   },
   {
    "duration": 934,
    "start_time": "2024-06-08T22:39:52.977Z"
   },
   {
    "duration": 181,
    "start_time": "2024-06-08T22:40:43.568Z"
   },
   {
    "duration": 176,
    "start_time": "2024-06-08T22:40:57.768Z"
   },
   {
    "duration": 187,
    "start_time": "2024-06-08T22:43:25.899Z"
   },
   {
    "duration": 187,
    "start_time": "2024-06-08T22:43:39.791Z"
   },
   {
    "duration": 51,
    "start_time": "2024-06-08T22:44:48.073Z"
   },
   {
    "duration": 38,
    "start_time": "2024-06-08T22:45:06.089Z"
   },
   {
    "duration": 35,
    "start_time": "2024-06-08T22:46:34.543Z"
   },
   {
    "duration": 37,
    "start_time": "2024-06-08T22:47:15.542Z"
   },
   {
    "duration": 22,
    "start_time": "2024-06-08T22:47:39.798Z"
   },
   {
    "duration": 16,
    "start_time": "2024-06-08T22:50:16.010Z"
   },
   {
    "duration": 18,
    "start_time": "2024-06-08T22:51:22.977Z"
   },
   {
    "duration": 25,
    "start_time": "2024-06-08T22:51:44.419Z"
   },
   {
    "duration": 36,
    "start_time": "2024-06-08T22:52:11.526Z"
   },
   {
    "duration": 26,
    "start_time": "2024-06-08T22:55:09.282Z"
   },
   {
    "duration": 28,
    "start_time": "2024-06-08T22:55:53.521Z"
   },
   {
    "duration": 21,
    "start_time": "2024-06-08T22:56:41.177Z"
   },
   {
    "duration": 24,
    "start_time": "2024-06-08T22:57:52.110Z"
   },
   {
    "duration": 19,
    "start_time": "2024-06-08T22:59:01.126Z"
   },
   {
    "duration": 25,
    "start_time": "2024-06-08T23:01:09.777Z"
   },
   {
    "duration": 31,
    "start_time": "2024-06-08T23:01:19.662Z"
   },
   {
    "duration": 32,
    "start_time": "2024-06-08T23:02:07.408Z"
   },
   {
    "duration": 46,
    "start_time": "2024-06-08T23:03:32.325Z"
   },
   {
    "duration": 30,
    "start_time": "2024-06-08T23:06:56.480Z"
   },
   {
    "duration": 37,
    "start_time": "2024-06-08T23:07:35.343Z"
   },
   {
    "duration": 39,
    "start_time": "2024-06-08T23:08:02.561Z"
   },
   {
    "duration": 210,
    "start_time": "2024-06-08T23:09:33.485Z"
   },
   {
    "duration": 34,
    "start_time": "2024-06-08T23:09:49.222Z"
   },
   {
    "duration": 39,
    "start_time": "2024-06-08T23:09:57.804Z"
   },
   {
    "duration": 40,
    "start_time": "2024-06-08T23:31:32.001Z"
   },
   {
    "duration": 16,
    "start_time": "2024-06-08T23:32:56.805Z"
   },
   {
    "duration": 15,
    "start_time": "2024-06-08T23:33:16.177Z"
   },
   {
    "duration": 26,
    "start_time": "2024-06-08T23:33:26.373Z"
   },
   {
    "duration": 37,
    "start_time": "2024-06-08T23:34:47.895Z"
   },
   {
    "duration": 46,
    "start_time": "2024-06-08T23:36:10.676Z"
   },
   {
    "duration": 33,
    "start_time": "2024-06-08T23:37:55.146Z"
   },
   {
    "duration": 569,
    "start_time": "2024-06-08T23:40:34.054Z"
   },
   {
    "duration": 31,
    "start_time": "2024-06-08T23:41:07.622Z"
   },
   {
    "duration": 33,
    "start_time": "2024-06-08T23:42:20.314Z"
   },
   {
    "duration": 38,
    "start_time": "2024-06-08T23:49:37.841Z"
   },
   {
    "duration": 126,
    "start_time": "2024-06-08T23:53:53.306Z"
   },
   {
    "duration": 21,
    "start_time": "2024-06-08T23:54:10.674Z"
   },
   {
    "duration": 59,
    "start_time": "2024-06-09T00:02:03.463Z"
   },
   {
    "duration": 59,
    "start_time": "2024-06-09T00:03:30.140Z"
   },
   {
    "duration": 32,
    "start_time": "2024-06-09T00:04:14.867Z"
   },
   {
    "duration": 75,
    "start_time": "2024-06-09T00:04:26.074Z"
   },
   {
    "duration": 40,
    "start_time": "2024-06-09T00:04:39.122Z"
   },
   {
    "duration": 54,
    "start_time": "2024-06-09T00:05:56.207Z"
   },
   {
    "duration": 1182,
    "start_time": "2024-06-09T00:06:19.219Z"
   },
   {
    "duration": 278,
    "start_time": "2024-06-09T00:06:21.587Z"
   },
   {
    "duration": 14,
    "start_time": "2024-06-09T00:06:23.747Z"
   },
   {
    "duration": 14,
    "start_time": "2024-06-09T00:06:24.316Z"
   },
   {
    "duration": 14,
    "start_time": "2024-06-09T00:06:28.460Z"
   },
   {
    "duration": 14,
    "start_time": "2024-06-09T00:06:29.122Z"
   },
   {
    "duration": 24,
    "start_time": "2024-06-09T00:06:31.429Z"
   },
   {
    "duration": 29,
    "start_time": "2024-06-09T00:06:34.230Z"
   },
   {
    "duration": 12,
    "start_time": "2024-06-09T00:06:34.746Z"
   },
   {
    "duration": 43,
    "start_time": "2024-06-09T00:06:36.352Z"
   },
   {
    "duration": 21,
    "start_time": "2024-06-09T00:06:37.596Z"
   },
   {
    "duration": 19,
    "start_time": "2024-06-09T00:06:39.058Z"
   },
   {
    "duration": 11,
    "start_time": "2024-06-09T00:06:39.314Z"
   },
   {
    "duration": 29,
    "start_time": "2024-06-09T00:06:41.069Z"
   },
   {
    "duration": 15,
    "start_time": "2024-06-09T00:06:42.618Z"
   },
   {
    "duration": 23,
    "start_time": "2024-06-09T00:06:43.291Z"
   },
   {
    "duration": 12,
    "start_time": "2024-06-09T00:06:43.514Z"
   },
   {
    "duration": 37,
    "start_time": "2024-06-09T00:06:44.645Z"
   },
   {
    "duration": 18,
    "start_time": "2024-06-09T00:06:45.818Z"
   },
   {
    "duration": 13,
    "start_time": "2024-06-09T00:06:47.553Z"
   },
   {
    "duration": 27,
    "start_time": "2024-06-09T00:06:52.274Z"
   },
   {
    "duration": 62,
    "start_time": "2024-06-09T00:06:53.372Z"
   },
   {
    "duration": 21,
    "start_time": "2024-06-09T00:06:53.691Z"
   },
   {
    "duration": 19,
    "start_time": "2024-06-09T00:06:56.730Z"
   },
   {
    "duration": 408,
    "start_time": "2024-06-09T00:07:08.314Z"
   },
   {
    "duration": 47,
    "start_time": "2024-06-09T00:08:17.017Z"
   },
   {
    "duration": 39,
    "start_time": "2024-06-09T00:09:14.679Z"
   },
   {
    "duration": 1131,
    "start_time": "2024-06-09T00:09:39.150Z"
   },
   {
    "duration": 267,
    "start_time": "2024-06-09T00:09:40.285Z"
   },
   {
    "duration": 18,
    "start_time": "2024-06-09T00:09:40.555Z"
   },
   {
    "duration": 19,
    "start_time": "2024-06-09T00:09:40.579Z"
   },
   {
    "duration": 43,
    "start_time": "2024-06-09T00:09:40.602Z"
   },
   {
    "duration": 14,
    "start_time": "2024-06-09T00:09:40.648Z"
   },
   {
    "duration": 19,
    "start_time": "2024-06-09T00:09:40.665Z"
   },
   {
    "duration": 62,
    "start_time": "2024-06-09T00:09:40.687Z"
   },
   {
    "duration": 11,
    "start_time": "2024-06-09T00:09:40.752Z"
   },
   {
    "duration": 71,
    "start_time": "2024-06-09T00:09:40.769Z"
   },
   {
    "duration": 21,
    "start_time": "2024-06-09T00:09:40.843Z"
   },
   {
    "duration": 19,
    "start_time": "2024-06-09T00:09:40.867Z"
   },
   {
    "duration": 42,
    "start_time": "2024-06-09T00:09:40.891Z"
   },
   {
    "duration": 29,
    "start_time": "2024-06-09T00:09:40.936Z"
   },
   {
    "duration": 15,
    "start_time": "2024-06-09T00:09:40.968Z"
   },
   {
    "duration": 54,
    "start_time": "2024-06-09T00:09:40.986Z"
   },
   {
    "duration": 12,
    "start_time": "2024-06-09T00:09:41.043Z"
   },
   {
    "duration": 38,
    "start_time": "2024-06-09T00:09:41.058Z"
   },
   {
    "duration": 46,
    "start_time": "2024-06-09T00:09:41.099Z"
   },
   {
    "duration": 12,
    "start_time": "2024-06-09T00:09:41.148Z"
   },
   {
    "duration": 29,
    "start_time": "2024-06-09T00:09:41.164Z"
   },
   {
    "duration": 25,
    "start_time": "2024-06-09T00:09:41.232Z"
   },
   {
    "duration": 19,
    "start_time": "2024-06-09T00:09:41.260Z"
   },
   {
    "duration": 20,
    "start_time": "2024-06-09T00:09:41.282Z"
   },
   {
    "duration": 452,
    "start_time": "2024-06-09T00:09:41.333Z"
   },
   {
    "duration": 0,
    "start_time": "2024-06-09T00:09:41.788Z"
   },
   {
    "duration": 0,
    "start_time": "2024-06-09T00:09:41.791Z"
   },
   {
    "duration": 0,
    "start_time": "2024-06-09T00:09:41.793Z"
   },
   {
    "duration": 0,
    "start_time": "2024-06-09T00:09:41.796Z"
   },
   {
    "duration": 0,
    "start_time": "2024-06-09T00:09:41.798Z"
   },
   {
    "duration": 0,
    "start_time": "2024-06-09T00:09:41.800Z"
   },
   {
    "duration": 0,
    "start_time": "2024-06-09T00:09:41.802Z"
   },
   {
    "duration": 0,
    "start_time": "2024-06-09T00:09:41.804Z"
   },
   {
    "duration": 0,
    "start_time": "2024-06-09T00:09:41.832Z"
   },
   {
    "duration": 0,
    "start_time": "2024-06-09T00:09:41.834Z"
   },
   {
    "duration": 0,
    "start_time": "2024-06-09T00:09:41.837Z"
   },
   {
    "duration": 39,
    "start_time": "2024-06-09T00:10:12.490Z"
   },
   {
    "duration": 8,
    "start_time": "2024-06-09T00:10:43.635Z"
   },
   {
    "duration": 1184,
    "start_time": "2024-06-09T00:11:49.546Z"
   },
   {
    "duration": 292,
    "start_time": "2024-06-09T00:11:50.736Z"
   },
   {
    "duration": 17,
    "start_time": "2024-06-09T00:11:51.031Z"
   },
   {
    "duration": 17,
    "start_time": "2024-06-09T00:11:51.053Z"
   },
   {
    "duration": 15,
    "start_time": "2024-06-09T00:11:51.072Z"
   },
   {
    "duration": 54,
    "start_time": "2024-06-09T00:11:51.090Z"
   },
   {
    "duration": 20,
    "start_time": "2024-06-09T00:11:51.147Z"
   },
   {
    "duration": 26,
    "start_time": "2024-06-09T00:11:51.171Z"
   },
   {
    "duration": 12,
    "start_time": "2024-06-09T00:11:51.232Z"
   },
   {
    "duration": 44,
    "start_time": "2024-06-09T00:11:51.250Z"
   },
   {
    "duration": 54,
    "start_time": "2024-06-09T00:11:51.296Z"
   },
   {
    "duration": 24,
    "start_time": "2024-06-09T00:11:51.354Z"
   },
   {
    "duration": 14,
    "start_time": "2024-06-09T00:11:51.380Z"
   },
   {
    "duration": 68,
    "start_time": "2024-06-09T00:11:51.397Z"
   },
   {
    "duration": 16,
    "start_time": "2024-06-09T00:11:51.467Z"
   },
   {
    "duration": 53,
    "start_time": "2024-06-09T00:11:51.486Z"
   },
   {
    "duration": 12,
    "start_time": "2024-06-09T00:11:51.542Z"
   },
   {
    "duration": 36,
    "start_time": "2024-06-09T00:11:51.557Z"
   },
   {
    "duration": 57,
    "start_time": "2024-06-09T00:11:51.596Z"
   },
   {
    "duration": 12,
    "start_time": "2024-06-09T00:11:51.656Z"
   },
   {
    "duration": 28,
    "start_time": "2024-06-09T00:11:51.672Z"
   },
   {
    "duration": 53,
    "start_time": "2024-06-09T00:11:51.703Z"
   },
   {
    "duration": 20,
    "start_time": "2024-06-09T00:11:51.759Z"
   },
   {
    "duration": 51,
    "start_time": "2024-06-09T00:11:51.782Z"
   },
   {
    "duration": 426,
    "start_time": "2024-06-09T00:11:51.839Z"
   },
   {
    "duration": 0,
    "start_time": "2024-06-09T00:11:52.268Z"
   },
   {
    "duration": 0,
    "start_time": "2024-06-09T00:11:52.271Z"
   },
   {
    "duration": 0,
    "start_time": "2024-06-09T00:11:52.273Z"
   },
   {
    "duration": 0,
    "start_time": "2024-06-09T00:11:52.276Z"
   },
   {
    "duration": 0,
    "start_time": "2024-06-09T00:11:52.278Z"
   },
   {
    "duration": 0,
    "start_time": "2024-06-09T00:11:52.281Z"
   },
   {
    "duration": 0,
    "start_time": "2024-06-09T00:11:52.283Z"
   },
   {
    "duration": 0,
    "start_time": "2024-06-09T00:11:52.285Z"
   },
   {
    "duration": 0,
    "start_time": "2024-06-09T00:11:52.288Z"
   },
   {
    "duration": 0,
    "start_time": "2024-06-09T00:11:52.289Z"
   },
   {
    "duration": 0,
    "start_time": "2024-06-09T00:11:52.292Z"
   },
   {
    "duration": 0,
    "start_time": "2024-06-09T00:11:52.293Z"
   },
   {
    "duration": 70,
    "start_time": "2024-06-09T00:12:03.019Z"
   },
   {
    "duration": 21,
    "start_time": "2024-06-09T00:32:28.093Z"
   },
   {
    "duration": 17,
    "start_time": "2024-06-09T00:39:14.467Z"
   },
   {
    "duration": 9,
    "start_time": "2024-06-09T00:42:00.148Z"
   },
   {
    "duration": 306,
    "start_time": "2024-06-09T00:42:49.925Z"
   },
   {
    "duration": 62,
    "start_time": "2024-06-09T00:43:49.934Z"
   },
   {
    "duration": 45,
    "start_time": "2024-06-09T00:46:04.916Z"
   },
   {
    "duration": 1067,
    "start_time": "2024-06-09T00:46:20.805Z"
   },
   {
    "duration": 98,
    "start_time": "2024-06-09T00:47:14.614Z"
   },
   {
    "duration": 106,
    "start_time": "2024-06-09T00:47:36.998Z"
   },
   {
    "duration": 94,
    "start_time": "2024-06-09T00:47:49.103Z"
   },
   {
    "duration": 1178,
    "start_time": "2024-06-09T00:48:24.104Z"
   },
   {
    "duration": 275,
    "start_time": "2024-06-09T00:48:25.289Z"
   },
   {
    "duration": 16,
    "start_time": "2024-06-09T00:48:25.568Z"
   },
   {
    "duration": 18,
    "start_time": "2024-06-09T00:48:25.587Z"
   },
   {
    "duration": 42,
    "start_time": "2024-06-09T00:48:25.611Z"
   },
   {
    "duration": 17,
    "start_time": "2024-06-09T00:48:25.656Z"
   },
   {
    "duration": 19,
    "start_time": "2024-06-09T00:48:25.676Z"
   },
   {
    "duration": 57,
    "start_time": "2024-06-09T00:48:25.697Z"
   },
   {
    "duration": 12,
    "start_time": "2024-06-09T00:48:25.759Z"
   },
   {
    "duration": 75,
    "start_time": "2024-06-09T00:48:25.774Z"
   },
   {
    "duration": 23,
    "start_time": "2024-06-09T00:48:25.852Z"
   },
   {
    "duration": 22,
    "start_time": "2024-06-09T00:48:25.881Z"
   },
   {
    "duration": 31,
    "start_time": "2024-06-09T00:48:25.909Z"
   },
   {
    "duration": 29,
    "start_time": "2024-06-09T00:48:25.947Z"
   },
   {
    "duration": 16,
    "start_time": "2024-06-09T00:48:25.978Z"
   },
   {
    "duration": 61,
    "start_time": "2024-06-09T00:48:25.997Z"
   },
   {
    "duration": 11,
    "start_time": "2024-06-09T00:48:26.064Z"
   },
   {
    "duration": 73,
    "start_time": "2024-06-09T00:48:26.078Z"
   },
   {
    "duration": 25,
    "start_time": "2024-06-09T00:48:26.156Z"
   },
   {
    "duration": 16,
    "start_time": "2024-06-09T00:48:26.185Z"
   },
   {
    "duration": 54,
    "start_time": "2024-06-09T00:48:26.204Z"
   },
   {
    "duration": 29,
    "start_time": "2024-06-09T00:48:26.264Z"
   },
   {
    "duration": 44,
    "start_time": "2024-06-09T00:48:26.297Z"
   },
   {
    "duration": 22,
    "start_time": "2024-06-09T00:48:26.345Z"
   },
   {
    "duration": 77,
    "start_time": "2024-06-09T00:48:26.369Z"
   },
   {
    "duration": 25,
    "start_time": "2024-06-09T00:48:26.449Z"
   },
   {
    "duration": 435,
    "start_time": "2024-06-09T00:48:26.477Z"
   },
   {
    "duration": 0,
    "start_time": "2024-06-09T00:48:26.916Z"
   },
   {
    "duration": 0,
    "start_time": "2024-06-09T00:48:26.918Z"
   },
   {
    "duration": 0,
    "start_time": "2024-06-09T00:48:26.920Z"
   },
   {
    "duration": 1,
    "start_time": "2024-06-09T00:48:26.933Z"
   },
   {
    "duration": 1,
    "start_time": "2024-06-09T00:48:26.935Z"
   },
   {
    "duration": 0,
    "start_time": "2024-06-09T00:48:26.938Z"
   },
   {
    "duration": 0,
    "start_time": "2024-06-09T00:48:26.940Z"
   },
   {
    "duration": 0,
    "start_time": "2024-06-09T00:48:26.942Z"
   },
   {
    "duration": 0,
    "start_time": "2024-06-09T00:48:26.944Z"
   },
   {
    "duration": 44,
    "start_time": "2024-06-09T00:49:36.920Z"
   },
   {
    "duration": 11,
    "start_time": "2024-06-09T00:53:56.652Z"
   },
   {
    "duration": 740,
    "start_time": "2024-06-09T00:55:09.603Z"
   },
   {
    "duration": 18,
    "start_time": "2024-06-09T00:55:53.442Z"
   },
   {
    "duration": 373,
    "start_time": "2024-06-09T00:56:04.918Z"
   },
   {
    "duration": 375,
    "start_time": "2024-06-09T00:56:36.704Z"
   },
   {
    "duration": 8,
    "start_time": "2024-06-09T01:08:32.694Z"
   },
   {
    "duration": 209,
    "start_time": "2024-06-09T01:08:37.470Z"
   },
   {
    "duration": 75,
    "start_time": "2024-06-09T01:09:13.661Z"
   },
   {
    "duration": 346,
    "start_time": "2024-06-09T01:12:38.889Z"
   },
   {
    "duration": 1167,
    "start_time": "2024-06-09T01:15:43.483Z"
   },
   {
    "duration": 442,
    "start_time": "2024-06-09T01:15:55.835Z"
   },
   {
    "duration": 342,
    "start_time": "2024-06-09T01:17:03.983Z"
   },
   {
    "duration": 354,
    "start_time": "2024-06-09T01:19:14.737Z"
   },
   {
    "duration": 7,
    "start_time": "2024-06-09T01:20:20.068Z"
   },
   {
    "duration": 352,
    "start_time": "2024-06-09T01:20:25.388Z"
   },
   {
    "duration": 416,
    "start_time": "2024-06-09T01:20:44.526Z"
   },
   {
    "duration": 428,
    "start_time": "2024-06-09T01:21:06.091Z"
   },
   {
    "duration": 436,
    "start_time": "2024-06-09T01:21:21.332Z"
   },
   {
    "duration": 7,
    "start_time": "2024-06-09T01:22:59.811Z"
   },
   {
    "duration": 272,
    "start_time": "2024-06-09T01:23:03.192Z"
   },
   {
    "duration": 470,
    "start_time": "2024-06-09T01:23:18.824Z"
   },
   {
    "duration": 342,
    "start_time": "2024-06-09T01:24:26.118Z"
   },
   {
    "duration": 343,
    "start_time": "2024-06-09T01:26:23.389Z"
   },
   {
    "duration": 454,
    "start_time": "2024-06-09T01:26:56.901Z"
   },
   {
    "duration": 417,
    "start_time": "2024-06-09T01:27:37.076Z"
   },
   {
    "duration": 353,
    "start_time": "2024-06-09T01:27:59.137Z"
   },
   {
    "duration": 361,
    "start_time": "2024-06-09T01:29:02.386Z"
   },
   {
    "duration": 352,
    "start_time": "2024-06-09T01:29:10.945Z"
   },
   {
    "duration": 353,
    "start_time": "2024-06-09T01:29:17.615Z"
   },
   {
    "duration": 4905,
    "start_time": "2024-06-09T01:54:08.677Z"
   },
   {
    "duration": 355,
    "start_time": "2024-06-09T01:54:13.586Z"
   },
   {
    "duration": 16,
    "start_time": "2024-06-09T01:54:13.944Z"
   },
   {
    "duration": 17,
    "start_time": "2024-06-09T01:54:13.964Z"
   },
   {
    "duration": 16,
    "start_time": "2024-06-09T01:54:14.003Z"
   },
   {
    "duration": 15,
    "start_time": "2024-06-09T01:54:14.021Z"
   },
   {
    "duration": 20,
    "start_time": "2024-06-09T01:54:14.039Z"
   },
   {
    "duration": 61,
    "start_time": "2024-06-09T01:54:14.062Z"
   },
   {
    "duration": 11,
    "start_time": "2024-06-09T01:54:14.126Z"
   },
   {
    "duration": 75,
    "start_time": "2024-06-09T01:54:14.143Z"
   },
   {
    "duration": 22,
    "start_time": "2024-06-09T01:54:14.221Z"
   },
   {
    "duration": 21,
    "start_time": "2024-06-09T01:54:14.245Z"
   },
   {
    "duration": 39,
    "start_time": "2024-06-09T01:54:14.269Z"
   },
   {
    "duration": 28,
    "start_time": "2024-06-09T01:54:14.312Z"
   },
   {
    "duration": 15,
    "start_time": "2024-06-09T01:54:14.343Z"
   },
   {
    "duration": 56,
    "start_time": "2024-06-09T01:54:14.361Z"
   },
   {
    "duration": 16,
    "start_time": "2024-06-09T01:54:14.420Z"
   },
   {
    "duration": 69,
    "start_time": "2024-06-09T01:54:14.442Z"
   },
   {
    "duration": 18,
    "start_time": "2024-06-09T01:54:14.514Z"
   },
   {
    "duration": 12,
    "start_time": "2024-06-09T01:54:14.536Z"
   },
   {
    "duration": 65,
    "start_time": "2024-06-09T01:54:14.551Z"
   },
   {
    "duration": 25,
    "start_time": "2024-06-09T01:54:14.619Z"
   },
   {
    "duration": 19,
    "start_time": "2024-06-09T01:54:14.646Z"
   },
   {
    "duration": 46,
    "start_time": "2024-06-09T01:54:14.668Z"
   },
   {
    "duration": 56,
    "start_time": "2024-06-09T01:54:14.717Z"
   },
   {
    "duration": 44,
    "start_time": "2024-06-09T01:54:14.776Z"
   },
   {
    "duration": 26,
    "start_time": "2024-06-09T01:54:14.823Z"
   },
   {
    "duration": 47,
    "start_time": "2024-06-09T01:54:14.856Z"
   },
   {
    "duration": 18,
    "start_time": "2024-06-09T01:54:14.905Z"
   },
   {
    "duration": 410,
    "start_time": "2024-06-09T01:54:14.926Z"
   },
   {
    "duration": 4,
    "start_time": "2024-06-09T01:54:15.338Z"
   },
   {
    "duration": 4,
    "start_time": "2024-06-09T01:54:15.345Z"
   },
   {
    "duration": 4,
    "start_time": "2024-06-09T01:54:15.352Z"
   },
   {
    "duration": 4,
    "start_time": "2024-06-09T01:54:15.360Z"
   },
   {
    "duration": 3,
    "start_time": "2024-06-09T01:54:15.402Z"
   },
   {
    "duration": 3,
    "start_time": "2024-06-09T01:54:15.409Z"
   },
   {
    "duration": 4,
    "start_time": "2024-06-09T01:54:15.415Z"
   },
   {
    "duration": 329,
    "start_time": "2024-06-09T01:59:14.375Z"
   },
   {
    "duration": 243,
    "start_time": "2024-06-09T02:00:05.231Z"
   },
   {
    "duration": 282,
    "start_time": "2024-06-09T02:02:09.144Z"
   },
   {
    "duration": 342,
    "start_time": "2024-06-09T02:04:16.264Z"
   },
   {
    "duration": 368,
    "start_time": "2024-06-09T02:04:45.775Z"
   },
   {
    "duration": 216,
    "start_time": "2024-06-09T02:15:48.177Z"
   },
   {
    "duration": 367,
    "start_time": "2024-06-09T02:16:11.261Z"
   },
   {
    "duration": 338,
    "start_time": "2024-06-09T02:18:43.881Z"
   },
   {
    "duration": 333,
    "start_time": "2024-06-09T02:19:38.108Z"
   },
   {
    "duration": 316,
    "start_time": "2024-06-09T02:20:01.623Z"
   },
   {
    "duration": 7,
    "start_time": "2024-06-09T02:22:02.363Z"
   },
   {
    "duration": 9,
    "start_time": "2024-06-09T02:23:01.636Z"
   },
   {
    "duration": 625,
    "start_time": "2024-06-09T02:23:38.655Z"
   },
   {
    "duration": 339,
    "start_time": "2024-06-09T02:23:57.779Z"
   },
   {
    "duration": 10,
    "start_time": "2024-06-09T02:27:34.775Z"
   },
   {
    "duration": 15,
    "start_time": "2024-06-09T02:27:51.554Z"
   },
   {
    "duration": 268,
    "start_time": "2024-06-09T02:28:32.451Z"
   },
   {
    "duration": 281,
    "start_time": "2024-06-09T02:29:26.484Z"
   },
   {
    "duration": 1411,
    "start_time": "2024-06-09T02:30:03.378Z"
   },
   {
    "duration": 851,
    "start_time": "2024-06-09T02:30:33.523Z"
   },
   {
    "duration": 25,
    "start_time": "2024-06-09T02:31:14.376Z"
   },
   {
    "duration": 730,
    "start_time": "2024-06-09T02:31:16.583Z"
   },
   {
    "duration": 976,
    "start_time": "2024-06-09T02:31:53.814Z"
   },
   {
    "duration": 42,
    "start_time": "2024-06-09T02:32:08.262Z"
   },
   {
    "duration": 732,
    "start_time": "2024-06-09T02:32:22.469Z"
   },
   {
    "duration": 387,
    "start_time": "2024-06-09T02:32:36.444Z"
   },
   {
    "duration": 9,
    "start_time": "2024-06-09T02:33:35.275Z"
   },
   {
    "duration": 13,
    "start_time": "2024-06-09T02:33:40.234Z"
   },
   {
    "duration": 408,
    "start_time": "2024-06-09T02:34:29.658Z"
   },
   {
    "duration": 1460,
    "start_time": "2024-06-09T02:36:32.098Z"
   },
   {
    "duration": 1225,
    "start_time": "2024-06-09T02:37:18.582Z"
   },
   {
    "duration": 285,
    "start_time": "2024-06-09T02:38:45.947Z"
   },
   {
    "duration": 276,
    "start_time": "2024-06-09T02:39:08.381Z"
   },
   {
    "duration": 265,
    "start_time": "2024-06-09T02:40:31.451Z"
   },
   {
    "duration": 415,
    "start_time": "2024-06-09T02:41:42.024Z"
   },
   {
    "duration": 327,
    "start_time": "2024-06-09T02:42:18.006Z"
   },
   {
    "duration": 349,
    "start_time": "2024-06-09T02:43:56.475Z"
   },
   {
    "duration": 285,
    "start_time": "2024-06-09T02:44:33.411Z"
   },
   {
    "duration": 340,
    "start_time": "2024-06-09T03:01:53.930Z"
   },
   {
    "duration": 32,
    "start_time": "2024-06-09T03:02:05.137Z"
   },
   {
    "duration": 325,
    "start_time": "2024-06-09T03:02:44.032Z"
   },
   {
    "duration": 333,
    "start_time": "2024-06-09T03:03:07.795Z"
   },
   {
    "duration": 330,
    "start_time": "2024-06-09T03:03:16.471Z"
   },
   {
    "duration": 559,
    "start_time": "2024-06-09T03:05:39.451Z"
   },
   {
    "duration": 292,
    "start_time": "2024-06-09T03:06:03.778Z"
   },
   {
    "duration": 338,
    "start_time": "2024-06-09T03:07:27.291Z"
   },
   {
    "duration": 134,
    "start_time": "2024-06-09T03:07:43.605Z"
   },
   {
    "duration": 127,
    "start_time": "2024-06-09T03:08:22.303Z"
   },
   {
    "duration": 349,
    "start_time": "2024-06-09T03:08:28.175Z"
   },
   {
    "duration": 120,
    "start_time": "2024-06-09T03:09:11.816Z"
   },
   {
    "duration": 119,
    "start_time": "2024-06-09T03:09:36.838Z"
   },
   {
    "duration": 22,
    "start_time": "2024-06-09T03:11:03.139Z"
   },
   {
    "duration": 24,
    "start_time": "2024-06-09T03:11:06.187Z"
   },
   {
    "duration": 27,
    "start_time": "2024-06-09T03:11:38.913Z"
   },
   {
    "duration": 171,
    "start_time": "2024-06-09T03:12:39.376Z"
   },
   {
    "duration": 28,
    "start_time": "2024-06-09T03:12:49.127Z"
   },
   {
    "duration": 29,
    "start_time": "2024-06-09T03:15:46.604Z"
   },
   {
    "duration": 22,
    "start_time": "2024-06-09T03:17:34.298Z"
   },
   {
    "duration": 376,
    "start_time": "2024-06-09T03:19:33.026Z"
   },
   {
    "duration": 428,
    "start_time": "2024-06-09T03:19:56.294Z"
   },
   {
    "duration": 411,
    "start_time": "2024-06-09T03:20:45.861Z"
   },
   {
    "duration": 373,
    "start_time": "2024-06-09T03:21:00.637Z"
   },
   {
    "duration": 374,
    "start_time": "2024-06-09T03:21:50.613Z"
   },
   {
    "duration": 381,
    "start_time": "2024-06-09T03:22:01.507Z"
   },
   {
    "duration": 374,
    "start_time": "2024-06-09T03:22:08.347Z"
   },
   {
    "duration": 470,
    "start_time": "2024-06-09T03:22:46.804Z"
   },
   {
    "duration": 12,
    "start_time": "2024-06-09T03:30:49.734Z"
   },
   {
    "duration": 14,
    "start_time": "2024-06-09T03:39:09.762Z"
   },
   {
    "duration": 16,
    "start_time": "2024-06-09T03:56:58.591Z"
   },
   {
    "duration": 12,
    "start_time": "2024-06-09T03:57:54.976Z"
   },
   {
    "duration": 14,
    "start_time": "2024-06-09T04:08:19.375Z"
   },
   {
    "duration": 18,
    "start_time": "2024-06-09T04:08:33.054Z"
   },
   {
    "duration": 15,
    "start_time": "2024-06-09T04:13:16.854Z"
   },
   {
    "duration": 13,
    "start_time": "2024-06-09T04:14:34.158Z"
   },
   {
    "duration": 13,
    "start_time": "2024-06-09T04:14:42.113Z"
   },
   {
    "duration": 13,
    "start_time": "2024-06-09T04:15:19.347Z"
   },
   {
    "duration": 15,
    "start_time": "2024-06-09T04:15:58.467Z"
   },
   {
    "duration": 14,
    "start_time": "2024-06-09T04:17:06.657Z"
   },
   {
    "duration": 16,
    "start_time": "2024-06-09T04:18:36.896Z"
   },
   {
    "duration": 16,
    "start_time": "2024-06-09T04:18:50.115Z"
   },
   {
    "duration": 15,
    "start_time": "2024-06-09T04:36:22.934Z"
   },
   {
    "duration": 26,
    "start_time": "2024-06-09T04:39:28.274Z"
   },
   {
    "duration": 2316,
    "start_time": "2024-06-09T12:58:39.045Z"
   },
   {
    "duration": 772,
    "start_time": "2024-06-09T12:58:41.366Z"
   },
   {
    "duration": 21,
    "start_time": "2024-06-09T12:58:42.143Z"
   },
   {
    "duration": 83,
    "start_time": "2024-06-09T12:58:42.170Z"
   },
   {
    "duration": 79,
    "start_time": "2024-06-09T12:58:42.258Z"
   },
   {
    "duration": 20,
    "start_time": "2024-06-09T12:58:42.340Z"
   },
   {
    "duration": 85,
    "start_time": "2024-06-09T12:58:42.363Z"
   },
   {
    "duration": 82,
    "start_time": "2024-06-09T12:58:42.452Z"
   },
   {
    "duration": 14,
    "start_time": "2024-06-09T12:58:42.537Z"
   },
   {
    "duration": 107,
    "start_time": "2024-06-09T12:58:42.553Z"
   },
   {
    "duration": 73,
    "start_time": "2024-06-09T12:58:42.663Z"
   },
   {
    "duration": 21,
    "start_time": "2024-06-09T12:58:42.740Z"
   },
   {
    "duration": 75,
    "start_time": "2024-06-09T12:58:42.765Z"
   },
   {
    "duration": 90,
    "start_time": "2024-06-09T12:58:42.848Z"
   },
   {
    "duration": 15,
    "start_time": "2024-06-09T12:58:42.942Z"
   },
   {
    "duration": 91,
    "start_time": "2024-06-09T12:58:42.961Z"
   },
   {
    "duration": 77,
    "start_time": "2024-06-09T12:58:43.056Z"
   },
   {
    "duration": 38,
    "start_time": "2024-06-09T12:58:43.137Z"
   },
   {
    "duration": 26,
    "start_time": "2024-06-09T12:58:43.234Z"
   },
   {
    "duration": 72,
    "start_time": "2024-06-09T12:58:43.264Z"
   },
   {
    "duration": 98,
    "start_time": "2024-06-09T12:58:43.340Z"
   },
   {
    "duration": 90,
    "start_time": "2024-06-09T12:58:43.442Z"
   },
   {
    "duration": 21,
    "start_time": "2024-06-09T12:58:43.535Z"
   },
   {
    "duration": 80,
    "start_time": "2024-06-09T12:58:43.559Z"
   },
   {
    "duration": 131,
    "start_time": "2024-06-09T12:58:43.642Z"
   },
   {
    "duration": 74,
    "start_time": "2024-06-09T12:58:43.776Z"
   },
   {
    "duration": 86,
    "start_time": "2024-06-09T12:58:43.854Z"
   },
   {
    "duration": 14,
    "start_time": "2024-06-09T12:58:43.943Z"
   },
   {
    "duration": 78,
    "start_time": "2024-06-09T12:58:43.961Z"
   },
   {
    "duration": 890,
    "start_time": "2024-06-09T12:58:44.043Z"
   },
   {
    "duration": 997,
    "start_time": "2024-06-09T12:58:44.939Z"
   },
   {
    "duration": 19,
    "start_time": "2024-06-09T12:58:45.939Z"
   },
   {
    "duration": 1014,
    "start_time": "2024-06-09T12:58:45.961Z"
   },
   {
    "duration": 0,
    "start_time": "2024-06-09T12:58:47.036Z"
   },
   {
    "duration": 0,
    "start_time": "2024-06-09T12:58:47.038Z"
   },
   {
    "duration": 0,
    "start_time": "2024-06-09T12:58:47.039Z"
   },
   {
    "duration": 0,
    "start_time": "2024-06-09T12:58:47.041Z"
   },
   {
    "duration": 13,
    "start_time": "2024-06-09T12:59:55.890Z"
   },
   {
    "duration": 121,
    "start_time": "2024-06-09T13:00:53.961Z"
   },
   {
    "duration": 152,
    "start_time": "2024-06-09T13:01:12.281Z"
   },
   {
    "duration": 206,
    "start_time": "2024-06-09T13:01:27.129Z"
   },
   {
    "duration": 304,
    "start_time": "2024-06-09T13:01:41.273Z"
   },
   {
    "duration": 760,
    "start_time": "2024-06-09T13:02:06.905Z"
   },
   {
    "duration": 163,
    "start_time": "2024-06-09T13:03:04.183Z"
   },
   {
    "duration": 166,
    "start_time": "2024-06-09T13:04:13.294Z"
   },
   {
    "duration": 293,
    "start_time": "2024-06-09T13:04:29.423Z"
   },
   {
    "duration": 297,
    "start_time": "2024-06-09T13:05:09.592Z"
   },
   {
    "duration": 332,
    "start_time": "2024-06-09T13:05:52.765Z"
   },
   {
    "duration": 107,
    "start_time": "2024-06-09T13:06:15.950Z"
   },
   {
    "duration": 118,
    "start_time": "2024-06-09T13:07:17.139Z"
   },
   {
    "duration": 107,
    "start_time": "2024-06-09T13:07:47.988Z"
   },
   {
    "duration": 1263,
    "start_time": "2024-06-09T13:08:39.340Z"
   },
   {
    "duration": 267,
    "start_time": "2024-06-09T13:08:40.606Z"
   },
   {
    "duration": 16,
    "start_time": "2024-06-09T13:08:40.875Z"
   },
   {
    "duration": 17,
    "start_time": "2024-06-09T13:08:40.895Z"
   },
   {
    "duration": 14,
    "start_time": "2024-06-09T13:08:40.936Z"
   },
   {
    "duration": 14,
    "start_time": "2024-06-09T13:08:40.953Z"
   },
   {
    "duration": 19,
    "start_time": "2024-06-09T13:08:40.970Z"
   },
   {
    "duration": 61,
    "start_time": "2024-06-09T13:08:40.993Z"
   },
   {
    "duration": 12,
    "start_time": "2024-06-09T13:08:41.057Z"
   },
   {
    "duration": 74,
    "start_time": "2024-06-09T13:08:41.072Z"
   },
   {
    "duration": 21,
    "start_time": "2024-06-09T13:08:41.149Z"
   },
   {
    "duration": 20,
    "start_time": "2024-06-09T13:08:41.173Z"
   },
   {
    "duration": 40,
    "start_time": "2024-06-09T13:08:41.196Z"
   },
   {
    "duration": 32,
    "start_time": "2024-06-09T13:08:41.244Z"
   },
   {
    "duration": 17,
    "start_time": "2024-06-09T13:08:41.280Z"
   },
   {
    "duration": 37,
    "start_time": "2024-06-09T13:08:41.332Z"
   },
   {
    "duration": 12,
    "start_time": "2024-06-09T13:08:41.371Z"
   },
   {
    "duration": 62,
    "start_time": "2024-06-09T13:08:41.386Z"
   },
   {
    "duration": 18,
    "start_time": "2024-06-09T13:08:41.452Z"
   },
   {
    "duration": 11,
    "start_time": "2024-06-09T13:08:41.474Z"
   },
   {
    "duration": 64,
    "start_time": "2024-06-09T13:08:41.489Z"
   },
   {
    "duration": 25,
    "start_time": "2024-06-09T13:08:41.555Z"
   },
   {
    "duration": 19,
    "start_time": "2024-06-09T13:08:41.583Z"
   },
   {
    "duration": 26,
    "start_time": "2024-06-09T13:08:41.634Z"
   },
   {
    "duration": 76,
    "start_time": "2024-06-09T13:08:41.663Z"
   },
   {
    "duration": 23,
    "start_time": "2024-06-09T13:08:41.742Z"
   },
   {
    "duration": 25,
    "start_time": "2024-06-09T13:08:41.768Z"
   },
   {
    "duration": 48,
    "start_time": "2024-06-09T13:08:41.796Z"
   },
   {
    "duration": 18,
    "start_time": "2024-06-09T13:08:41.847Z"
   },
   {
    "duration": 388,
    "start_time": "2024-06-09T13:08:41.868Z"
   },
   {
    "duration": 525,
    "start_time": "2024-06-09T13:08:42.260Z"
   },
   {
    "duration": 14,
    "start_time": "2024-06-09T13:08:42.788Z"
   },
   {
    "duration": 193,
    "start_time": "2024-06-09T13:08:42.806Z"
   },
   {
    "duration": 3,
    "start_time": "2024-06-09T13:08:43.002Z"
   },
   {
    "duration": 4,
    "start_time": "2024-06-09T13:08:43.009Z"
   },
   {
    "duration": 3,
    "start_time": "2024-06-09T13:08:43.033Z"
   },
   {
    "duration": 6,
    "start_time": "2024-06-09T13:08:43.039Z"
   },
   {
    "duration": 1052,
    "start_time": "2024-06-09T13:09:04.388Z"
   },
   {
    "duration": 1256,
    "start_time": "2024-06-09T13:10:23.876Z"
   },
   {
    "duration": 293,
    "start_time": "2024-06-09T13:10:25.136Z"
   },
   {
    "duration": 16,
    "start_time": "2024-06-09T13:10:25.432Z"
   },
   {
    "duration": 16,
    "start_time": "2024-06-09T13:10:25.451Z"
   },
   {
    "duration": 14,
    "start_time": "2024-06-09T13:10:25.471Z"
   },
   {
    "duration": 54,
    "start_time": "2024-06-09T13:10:25.489Z"
   },
   {
    "duration": 20,
    "start_time": "2024-06-09T13:10:25.546Z"
   },
   {
    "duration": 24,
    "start_time": "2024-06-09T13:10:25.568Z"
   },
   {
    "duration": 49,
    "start_time": "2024-06-09T13:10:25.594Z"
   },
   {
    "duration": 47,
    "start_time": "2024-06-09T13:10:25.646Z"
   },
   {
    "duration": 49,
    "start_time": "2024-06-09T13:10:25.695Z"
   },
   {
    "duration": 19,
    "start_time": "2024-06-09T13:10:25.748Z"
   },
   {
    "duration": 10,
    "start_time": "2024-06-09T13:10:25.770Z"
   },
   {
    "duration": 62,
    "start_time": "2024-06-09T13:10:25.788Z"
   },
   {
    "duration": 16,
    "start_time": "2024-06-09T13:10:25.853Z"
   },
   {
    "duration": 22,
    "start_time": "2024-06-09T13:10:25.872Z"
   },
   {
    "duration": 43,
    "start_time": "2024-06-09T13:10:25.897Z"
   },
   {
    "duration": 36,
    "start_time": "2024-06-09T13:10:25.944Z"
   },
   {
    "duration": 49,
    "start_time": "2024-06-09T13:10:25.984Z"
   },
   {
    "duration": 15,
    "start_time": "2024-06-09T13:10:26.036Z"
   },
   {
    "duration": 33,
    "start_time": "2024-06-09T13:10:26.055Z"
   },
   {
    "duration": 60,
    "start_time": "2024-06-09T13:10:26.092Z"
   },
   {
    "duration": 21,
    "start_time": "2024-06-09T13:10:26.156Z"
   },
   {
    "duration": 19,
    "start_time": "2024-06-09T13:10:26.180Z"
   },
   {
    "duration": 55,
    "start_time": "2024-06-09T13:10:26.234Z"
   },
   {
    "duration": 44,
    "start_time": "2024-06-09T13:10:26.291Z"
   },
   {
    "duration": 26,
    "start_time": "2024-06-09T13:10:26.338Z"
   },
   {
    "duration": 14,
    "start_time": "2024-06-09T13:10:26.367Z"
   },
   {
    "duration": 59,
    "start_time": "2024-06-09T13:10:26.384Z"
   },
   {
    "duration": 392,
    "start_time": "2024-06-09T13:10:26.446Z"
   },
   {
    "duration": 558,
    "start_time": "2024-06-09T13:10:26.841Z"
   },
   {
    "duration": 16,
    "start_time": "2024-06-09T13:10:27.402Z"
   },
   {
    "duration": 332,
    "start_time": "2024-06-09T13:10:27.433Z"
   },
   {
    "duration": 3,
    "start_time": "2024-06-09T13:10:27.768Z"
   },
   {
    "duration": 4,
    "start_time": "2024-06-09T13:10:27.774Z"
   },
   {
    "duration": 4,
    "start_time": "2024-06-09T13:10:27.780Z"
   },
   {
    "duration": 4,
    "start_time": "2024-06-09T13:10:27.787Z"
   },
   {
    "duration": 303,
    "start_time": "2024-06-09T13:10:51.645Z"
   },
   {
    "duration": 310,
    "start_time": "2024-06-09T13:27:19.454Z"
   },
   {
    "duration": 18,
    "start_time": "2024-06-09T13:29:14.586Z"
   },
   {
    "duration": 13,
    "start_time": "2024-06-09T13:31:15.744Z"
   },
   {
    "duration": 321,
    "start_time": "2024-06-09T13:33:00.430Z"
   },
   {
    "duration": 309,
    "start_time": "2024-06-09T13:33:26.101Z"
   },
   {
    "duration": 308,
    "start_time": "2024-06-09T13:34:48.698Z"
   },
   {
    "duration": 324,
    "start_time": "2024-06-09T13:35:24.425Z"
   },
   {
    "duration": 408,
    "start_time": "2024-06-09T13:35:59.072Z"
   },
   {
    "duration": 394,
    "start_time": "2024-06-09T13:41:22.744Z"
   },
   {
    "duration": 489,
    "start_time": "2024-06-09T13:41:39.646Z"
   },
   {
    "duration": 452,
    "start_time": "2024-06-09T14:31:12.959Z"
   },
   {
    "duration": 452,
    "start_time": "2024-06-09T14:41:59.230Z"
   },
   {
    "duration": 317,
    "start_time": "2024-06-09T14:45:13.737Z"
   },
   {
    "duration": 330,
    "start_time": "2024-06-09T14:45:25.457Z"
   },
   {
    "duration": 328,
    "start_time": "2024-06-09T14:57:34.007Z"
   },
   {
    "duration": 300,
    "start_time": "2024-06-09T15:00:45.209Z"
   },
   {
    "duration": 360,
    "start_time": "2024-06-09T15:36:57.496Z"
   },
   {
    "duration": 485,
    "start_time": "2024-06-09T15:48:19.262Z"
   },
   {
    "duration": 307,
    "start_time": "2024-06-09T15:51:36.443Z"
   },
   {
    "duration": 485,
    "start_time": "2024-06-09T16:30:18.348Z"
   },
   {
    "duration": 1288,
    "start_time": "2024-06-09T16:33:29.112Z"
   },
   {
    "duration": 322,
    "start_time": "2024-06-09T16:33:30.403Z"
   },
   {
    "duration": 16,
    "start_time": "2024-06-09T16:33:30.728Z"
   },
   {
    "duration": 17,
    "start_time": "2024-06-09T16:33:30.748Z"
   },
   {
    "duration": 18,
    "start_time": "2024-06-09T16:33:30.768Z"
   },
   {
    "duration": 55,
    "start_time": "2024-06-09T16:33:30.789Z"
   },
   {
    "duration": 25,
    "start_time": "2024-06-09T16:33:30.847Z"
   },
   {
    "duration": 69,
    "start_time": "2024-06-09T16:33:30.875Z"
   },
   {
    "duration": 15,
    "start_time": "2024-06-09T16:33:30.947Z"
   },
   {
    "duration": 74,
    "start_time": "2024-06-09T16:33:30.972Z"
   },
   {
    "duration": 32,
    "start_time": "2024-06-09T16:33:31.053Z"
   },
   {
    "duration": 41,
    "start_time": "2024-06-09T16:33:31.093Z"
   },
   {
    "duration": 11,
    "start_time": "2024-06-09T16:33:31.137Z"
   },
   {
    "duration": 39,
    "start_time": "2024-06-09T16:33:31.152Z"
   },
   {
    "duration": 47,
    "start_time": "2024-06-09T16:33:31.194Z"
   },
   {
    "duration": 23,
    "start_time": "2024-06-09T16:33:31.243Z"
   },
   {
    "duration": 12,
    "start_time": "2024-06-09T16:33:31.269Z"
   },
   {
    "duration": 82,
    "start_time": "2024-06-09T16:33:31.284Z"
   },
   {
    "duration": 19,
    "start_time": "2024-06-09T16:33:31.369Z"
   },
   {
    "duration": 12,
    "start_time": "2024-06-09T16:33:31.392Z"
   },
   {
    "duration": 40,
    "start_time": "2024-06-09T16:33:31.432Z"
   },
   {
    "duration": 26,
    "start_time": "2024-06-09T16:33:31.477Z"
   },
   {
    "duration": 27,
    "start_time": "2024-06-09T16:33:31.536Z"
   },
   {
    "duration": 18,
    "start_time": "2024-06-09T16:33:31.566Z"
   },
   {
    "duration": 92,
    "start_time": "2024-06-09T16:33:31.587Z"
   },
   {
    "duration": 22,
    "start_time": "2024-06-09T16:33:31.682Z"
   },
   {
    "duration": 510,
    "start_time": "2024-06-09T16:33:31.707Z"
   },
   {
    "duration": 0,
    "start_time": "2024-06-09T16:33:32.221Z"
   },
   {
    "duration": 0,
    "start_time": "2024-06-09T16:33:32.233Z"
   },
   {
    "duration": 0,
    "start_time": "2024-06-09T16:33:32.234Z"
   },
   {
    "duration": 0,
    "start_time": "2024-06-09T16:33:32.239Z"
   },
   {
    "duration": 0,
    "start_time": "2024-06-09T16:33:32.242Z"
   },
   {
    "duration": 0,
    "start_time": "2024-06-09T16:33:32.244Z"
   },
   {
    "duration": 0,
    "start_time": "2024-06-09T16:33:32.246Z"
   },
   {
    "duration": 0,
    "start_time": "2024-06-09T16:33:32.248Z"
   },
   {
    "duration": 0,
    "start_time": "2024-06-09T16:33:32.250Z"
   },
   {
    "duration": 0,
    "start_time": "2024-06-09T16:33:32.252Z"
   },
   {
    "duration": 0,
    "start_time": "2024-06-09T16:33:32.255Z"
   },
   {
    "duration": 0,
    "start_time": "2024-06-09T16:33:32.257Z"
   },
   {
    "duration": 0,
    "start_time": "2024-06-09T16:33:32.260Z"
   },
   {
    "duration": 0,
    "start_time": "2024-06-09T16:33:32.262Z"
   },
   {
    "duration": 17,
    "start_time": "2024-06-09T16:35:05.947Z"
   },
   {
    "duration": 19,
    "start_time": "2024-06-09T16:35:46.818Z"
   },
   {
    "duration": 32,
    "start_time": "2024-06-09T16:37:36.176Z"
   },
   {
    "duration": 41,
    "start_time": "2024-06-09T16:38:08.575Z"
   },
   {
    "duration": 53,
    "start_time": "2024-06-09T16:41:05.778Z"
   },
   {
    "duration": 34,
    "start_time": "2024-06-09T16:41:52.041Z"
   },
   {
    "duration": 42,
    "start_time": "2024-06-09T16:45:31.749Z"
   },
   {
    "duration": 31,
    "start_time": "2024-06-09T16:46:52.085Z"
   },
   {
    "duration": 32,
    "start_time": "2024-06-09T16:48:40.151Z"
   },
   {
    "duration": 41,
    "start_time": "2024-06-09T16:48:44.967Z"
   },
   {
    "duration": 43,
    "start_time": "2024-06-09T16:49:09.566Z"
   },
   {
    "duration": 13,
    "start_time": "2024-06-09T16:49:57.979Z"
   },
   {
    "duration": 42,
    "start_time": "2024-06-09T16:50:02.070Z"
   },
   {
    "duration": 42,
    "start_time": "2024-06-09T16:50:16.026Z"
   },
   {
    "duration": 39,
    "start_time": "2024-06-09T16:58:25.847Z"
   },
   {
    "duration": 1359,
    "start_time": "2024-06-09T16:59:53.520Z"
   },
   {
    "duration": 289,
    "start_time": "2024-06-09T16:59:54.884Z"
   },
   {
    "duration": 17,
    "start_time": "2024-06-09T16:59:55.178Z"
   },
   {
    "duration": 19,
    "start_time": "2024-06-09T16:59:55.199Z"
   },
   {
    "duration": 16,
    "start_time": "2024-06-09T16:59:55.234Z"
   },
   {
    "duration": 19,
    "start_time": "2024-06-09T16:59:55.253Z"
   },
   {
    "duration": 21,
    "start_time": "2024-06-09T16:59:55.274Z"
   },
   {
    "duration": 26,
    "start_time": "2024-06-09T16:59:55.334Z"
   },
   {
    "duration": 11,
    "start_time": "2024-06-09T16:59:55.364Z"
   },
   {
    "duration": 77,
    "start_time": "2024-06-09T16:59:55.381Z"
   },
   {
    "duration": 22,
    "start_time": "2024-06-09T16:59:55.460Z"
   },
   {
    "duration": 48,
    "start_time": "2024-06-09T16:59:55.487Z"
   },
   {
    "duration": 12,
    "start_time": "2024-06-09T16:59:55.538Z"
   },
   {
    "duration": 30,
    "start_time": "2024-06-09T16:59:55.553Z"
   },
   {
    "duration": 54,
    "start_time": "2024-06-09T16:59:55.586Z"
   },
   {
    "duration": 24,
    "start_time": "2024-06-09T16:59:55.644Z"
   },
   {
    "duration": 14,
    "start_time": "2024-06-09T16:59:55.671Z"
   },
   {
    "duration": 82,
    "start_time": "2024-06-09T16:59:55.689Z"
   },
   {
    "duration": 19,
    "start_time": "2024-06-09T16:59:55.776Z"
   },
   {
    "duration": 35,
    "start_time": "2024-06-09T16:59:55.799Z"
   },
   {
    "duration": 30,
    "start_time": "2024-06-09T16:59:55.837Z"
   },
   {
    "duration": 25,
    "start_time": "2024-06-09T16:59:55.871Z"
   },
   {
    "duration": 48,
    "start_time": "2024-06-09T16:59:55.901Z"
   },
   {
    "duration": 23,
    "start_time": "2024-06-09T16:59:55.952Z"
   },
   {
    "duration": 94,
    "start_time": "2024-06-09T16:59:55.979Z"
   },
   {
    "duration": 23,
    "start_time": "2024-06-09T16:59:56.076Z"
   },
   {
    "duration": 46,
    "start_time": "2024-06-09T16:59:56.102Z"
   },
   {
    "duration": 17,
    "start_time": "2024-06-09T16:59:56.156Z"
   },
   {
    "duration": 405,
    "start_time": "2024-06-09T16:59:56.177Z"
   },
   {
    "duration": 594,
    "start_time": "2024-06-09T16:59:56.586Z"
   },
   {
    "duration": 15,
    "start_time": "2024-06-09T16:59:57.184Z"
   },
   {
    "duration": 372,
    "start_time": "2024-06-09T16:59:57.202Z"
   },
   {
    "duration": 368,
    "start_time": "2024-06-09T16:59:57.577Z"
   },
   {
    "duration": 499,
    "start_time": "2024-06-09T16:59:57.948Z"
   },
   {
    "duration": 421,
    "start_time": "2024-06-09T16:59:58.453Z"
   },
   {
    "duration": 1,
    "start_time": "2024-06-09T16:59:58.877Z"
   },
   {
    "duration": 0,
    "start_time": "2024-06-09T16:59:58.879Z"
   },
   {
    "duration": 0,
    "start_time": "2024-06-09T16:59:58.881Z"
   },
   {
    "duration": 0,
    "start_time": "2024-06-09T16:59:58.883Z"
   },
   {
    "duration": 0,
    "start_time": "2024-06-09T16:59:58.886Z"
   },
   {
    "duration": 0,
    "start_time": "2024-06-09T16:59:58.888Z"
   },
   {
    "duration": 442,
    "start_time": "2024-06-09T17:02:21.704Z"
   },
   {
    "duration": 379,
    "start_time": "2024-06-09T17:02:30.776Z"
   },
   {
    "duration": 358,
    "start_time": "2024-06-09T17:03:01.991Z"
   },
   {
    "duration": 354,
    "start_time": "2024-06-09T17:03:07.261Z"
   },
   {
    "duration": 498,
    "start_time": "2024-06-09T17:03:18.704Z"
   },
   {
    "duration": 305,
    "start_time": "2024-06-09T17:03:23.504Z"
   },
   {
    "duration": 433,
    "start_time": "2024-06-09T17:11:41.345Z"
   },
   {
    "duration": 423,
    "start_time": "2024-06-09T17:12:40.969Z"
   },
   {
    "duration": 604,
    "start_time": "2024-06-09T17:16:14.174Z"
   },
   {
    "duration": 431,
    "start_time": "2024-06-09T17:16:48.337Z"
   },
   {
    "duration": 673,
    "start_time": "2024-06-09T17:17:00.090Z"
   },
   {
    "duration": 605,
    "start_time": "2024-06-09T17:19:36.822Z"
   },
   {
    "duration": 402,
    "start_time": "2024-06-09T17:19:48.598Z"
   },
   {
    "duration": 361,
    "start_time": "2024-06-09T17:20:02.735Z"
   },
   {
    "duration": 404,
    "start_time": "2024-06-09T17:20:22.676Z"
   },
   {
    "duration": 298,
    "start_time": "2024-06-09T17:28:37.510Z"
   },
   {
    "duration": 358,
    "start_time": "2024-06-09T17:30:14.162Z"
   },
   {
    "duration": 490,
    "start_time": "2024-06-09T17:31:11.245Z"
   },
   {
    "duration": 7,
    "start_time": "2024-06-09T18:36:46.826Z"
   },
   {
    "duration": 8,
    "start_time": "2024-06-09T19:07:31.420Z"
   },
   {
    "duration": 13,
    "start_time": "2024-06-09T19:10:04.940Z"
   },
   {
    "duration": 11,
    "start_time": "2024-06-09T19:12:10.728Z"
   },
   {
    "duration": 10,
    "start_time": "2024-06-09T19:14:47.075Z"
   },
   {
    "duration": 12,
    "start_time": "2024-06-09T19:28:54.984Z"
   },
   {
    "duration": 12,
    "start_time": "2024-06-09T19:30:20.413Z"
   },
   {
    "duration": 9,
    "start_time": "2024-06-09T19:30:34.373Z"
   },
   {
    "duration": 20,
    "start_time": "2024-06-09T19:32:44.107Z"
   },
   {
    "duration": 12,
    "start_time": "2024-06-09T19:32:51.472Z"
   },
   {
    "duration": 12,
    "start_time": "2024-06-09T19:36:31.419Z"
   },
   {
    "duration": 18,
    "start_time": "2024-06-09T19:36:33.876Z"
   },
   {
    "duration": 17,
    "start_time": "2024-06-09T19:37:34.339Z"
   },
   {
    "duration": 498,
    "start_time": "2024-06-09T19:47:36.529Z"
   },
   {
    "duration": 8,
    "start_time": "2024-06-09T19:47:43.240Z"
   },
   {
    "duration": 6,
    "start_time": "2024-06-09T19:47:47.922Z"
   },
   {
    "duration": 29,
    "start_time": "2024-06-09T19:48:29.606Z"
   },
   {
    "duration": 24,
    "start_time": "2024-06-09T19:48:34.409Z"
   },
   {
    "duration": 7,
    "start_time": "2024-06-09T19:49:23.745Z"
   },
   {
    "duration": 28,
    "start_time": "2024-06-09T19:50:18.226Z"
   },
   {
    "duration": 8,
    "start_time": "2024-06-09T19:50:25.616Z"
   },
   {
    "duration": 8,
    "start_time": "2024-06-09T19:50:35.396Z"
   },
   {
    "duration": 24,
    "start_time": "2024-06-09T19:54:25.214Z"
   },
   {
    "duration": 36,
    "start_time": "2024-06-09T19:57:38.131Z"
   },
   {
    "duration": 29,
    "start_time": "2024-06-09T20:05:20.015Z"
   },
   {
    "duration": 16,
    "start_time": "2024-06-09T20:05:38.343Z"
   },
   {
    "duration": 30,
    "start_time": "2024-06-09T20:06:37.350Z"
   },
   {
    "duration": 29,
    "start_time": "2024-06-09T20:07:36.412Z"
   },
   {
    "duration": 21,
    "start_time": "2024-06-09T20:08:05.800Z"
   },
   {
    "duration": 15,
    "start_time": "2024-06-09T20:08:08.836Z"
   },
   {
    "duration": 7,
    "start_time": "2024-06-09T20:08:11.969Z"
   },
   {
    "duration": 338,
    "start_time": "2024-06-11T19:23:37.544Z"
   },
   {
    "duration": 5187,
    "start_time": "2024-06-11T19:24:37.867Z"
   },
   {
    "duration": 369,
    "start_time": "2024-06-11T19:24:43.059Z"
   },
   {
    "duration": 18,
    "start_time": "2024-06-11T19:24:43.432Z"
   },
   {
    "duration": 20,
    "start_time": "2024-06-11T19:24:43.454Z"
   },
   {
    "duration": 42,
    "start_time": "2024-06-11T19:24:43.482Z"
   },
   {
    "duration": 16,
    "start_time": "2024-06-11T19:24:43.528Z"
   },
   {
    "duration": 8,
    "start_time": "2024-06-11T19:24:43.547Z"
   },
   {
    "duration": 64,
    "start_time": "2024-06-11T19:24:43.559Z"
   },
   {
    "duration": 27,
    "start_time": "2024-06-11T19:24:43.627Z"
   },
   {
    "duration": 11,
    "start_time": "2024-06-11T19:24:43.658Z"
   },
   {
    "duration": 80,
    "start_time": "2024-06-11T19:24:43.673Z"
   },
   {
    "duration": 23,
    "start_time": "2024-06-11T19:24:43.759Z"
   },
   {
    "duration": 436,
    "start_time": "2024-06-11T19:24:43.787Z"
   },
   {
    "duration": 0,
    "start_time": "2024-06-11T19:24:44.229Z"
   },
   {
    "duration": 0,
    "start_time": "2024-06-11T19:24:44.232Z"
   },
   {
    "duration": 0,
    "start_time": "2024-06-11T19:24:44.236Z"
   },
   {
    "duration": 0,
    "start_time": "2024-06-11T19:24:44.239Z"
   },
   {
    "duration": 0,
    "start_time": "2024-06-11T19:24:44.242Z"
   },
   {
    "duration": 0,
    "start_time": "2024-06-11T19:24:44.244Z"
   },
   {
    "duration": 1,
    "start_time": "2024-06-11T19:24:44.247Z"
   },
   {
    "duration": 0,
    "start_time": "2024-06-11T19:24:44.250Z"
   },
   {
    "duration": 0,
    "start_time": "2024-06-11T19:24:44.253Z"
   },
   {
    "duration": 0,
    "start_time": "2024-06-11T19:24:44.258Z"
   },
   {
    "duration": 0,
    "start_time": "2024-06-11T19:24:44.263Z"
   },
   {
    "duration": 0,
    "start_time": "2024-06-11T19:24:44.266Z"
   },
   {
    "duration": 0,
    "start_time": "2024-06-11T19:24:44.268Z"
   },
   {
    "duration": 0,
    "start_time": "2024-06-11T19:24:44.324Z"
   },
   {
    "duration": 0,
    "start_time": "2024-06-11T19:24:44.327Z"
   },
   {
    "duration": 0,
    "start_time": "2024-06-11T19:24:44.330Z"
   },
   {
    "duration": 0,
    "start_time": "2024-06-11T19:24:44.333Z"
   },
   {
    "duration": 0,
    "start_time": "2024-06-11T19:24:44.336Z"
   },
   {
    "duration": 0,
    "start_time": "2024-06-11T19:24:44.339Z"
   },
   {
    "duration": 0,
    "start_time": "2024-06-11T19:24:44.342Z"
   },
   {
    "duration": 0,
    "start_time": "2024-06-11T19:24:44.345Z"
   },
   {
    "duration": 0,
    "start_time": "2024-06-11T19:24:44.349Z"
   },
   {
    "duration": 0,
    "start_time": "2024-06-11T19:24:44.351Z"
   },
   {
    "duration": 0,
    "start_time": "2024-06-11T19:24:44.354Z"
   },
   {
    "duration": 0,
    "start_time": "2024-06-11T19:24:44.357Z"
   },
   {
    "duration": 0,
    "start_time": "2024-06-11T19:24:44.359Z"
   },
   {
    "duration": 0,
    "start_time": "2024-06-11T19:24:44.361Z"
   },
   {
    "duration": 0,
    "start_time": "2024-06-11T19:24:44.424Z"
   },
   {
    "duration": 0,
    "start_time": "2024-06-11T19:24:44.427Z"
   },
   {
    "duration": 0,
    "start_time": "2024-06-11T19:24:44.429Z"
   },
   {
    "duration": 0,
    "start_time": "2024-06-11T19:24:44.432Z"
   },
   {
    "duration": 0,
    "start_time": "2024-06-11T19:24:44.435Z"
   },
   {
    "duration": 0,
    "start_time": "2024-06-11T19:24:44.438Z"
   },
   {
    "duration": 1,
    "start_time": "2024-06-11T19:24:44.440Z"
   },
   {
    "duration": 33,
    "start_time": "2024-06-11T19:24:56.416Z"
   },
   {
    "duration": 18,
    "start_time": "2024-06-11T19:34:34.339Z"
   },
   {
    "duration": 14,
    "start_time": "2024-06-11T19:35:08.181Z"
   },
   {
    "duration": 23,
    "start_time": "2024-06-11T19:41:42.880Z"
   },
   {
    "duration": 24,
    "start_time": "2024-06-11T19:41:58.624Z"
   },
   {
    "duration": 24,
    "start_time": "2024-06-11T19:42:20.478Z"
   },
   {
    "duration": 39,
    "start_time": "2024-06-11T19:42:46.949Z"
   },
   {
    "duration": 39,
    "start_time": "2024-06-11T19:43:21.790Z"
   },
   {
    "duration": 46,
    "start_time": "2024-06-11T19:43:41.314Z"
   },
   {
    "duration": 46,
    "start_time": "2024-06-11T19:44:46.905Z"
   },
   {
    "duration": 28,
    "start_time": "2024-06-11T19:45:51.210Z"
   },
   {
    "duration": 22,
    "start_time": "2024-06-11T19:46:01.751Z"
   },
   {
    "duration": 19,
    "start_time": "2024-06-11T19:46:19.576Z"
   },
   {
    "duration": 876,
    "start_time": "2024-06-11T19:46:48.488Z"
   },
   {
    "duration": 615,
    "start_time": "2024-06-11T19:46:53.031Z"
   },
   {
    "duration": 909,
    "start_time": "2024-06-11T19:47:14.534Z"
   },
   {
    "duration": 1045,
    "start_time": "2024-06-11T19:47:37.789Z"
   },
   {
    "duration": 915,
    "start_time": "2024-06-11T19:47:42.109Z"
   },
   {
    "duration": 1398,
    "start_time": "2024-06-11T19:48:09.030Z"
   },
   {
    "duration": 329,
    "start_time": "2024-06-11T19:48:10.432Z"
   },
   {
    "duration": 20,
    "start_time": "2024-06-11T19:48:10.764Z"
   },
   {
    "duration": 36,
    "start_time": "2024-06-11T19:48:10.789Z"
   },
   {
    "duration": 16,
    "start_time": "2024-06-11T19:48:10.830Z"
   },
   {
    "duration": 16,
    "start_time": "2024-06-11T19:48:10.851Z"
   },
   {
    "duration": 53,
    "start_time": "2024-06-11T19:48:10.871Z"
   },
   {
    "duration": 20,
    "start_time": "2024-06-11T19:48:10.930Z"
   },
   {
    "duration": 28,
    "start_time": "2024-06-11T19:48:10.954Z"
   },
   {
    "duration": 41,
    "start_time": "2024-06-11T19:48:10.987Z"
   },
   {
    "duration": 48,
    "start_time": "2024-06-11T19:48:11.031Z"
   },
   {
    "duration": 52,
    "start_time": "2024-06-11T19:48:11.082Z"
   },
   {
    "duration": 526,
    "start_time": "2024-06-11T19:48:11.138Z"
   },
   {
    "duration": 0,
    "start_time": "2024-06-11T19:48:11.669Z"
   },
   {
    "duration": 0,
    "start_time": "2024-06-11T19:48:11.671Z"
   },
   {
    "duration": 0,
    "start_time": "2024-06-11T19:48:11.674Z"
   },
   {
    "duration": 0,
    "start_time": "2024-06-11T19:48:11.676Z"
   },
   {
    "duration": 0,
    "start_time": "2024-06-11T19:48:11.680Z"
   },
   {
    "duration": 0,
    "start_time": "2024-06-11T19:48:11.682Z"
   },
   {
    "duration": 0,
    "start_time": "2024-06-11T19:48:11.684Z"
   },
   {
    "duration": 0,
    "start_time": "2024-06-11T19:48:11.686Z"
   },
   {
    "duration": 0,
    "start_time": "2024-06-11T19:48:11.689Z"
   },
   {
    "duration": 0,
    "start_time": "2024-06-11T19:48:11.691Z"
   },
   {
    "duration": 0,
    "start_time": "2024-06-11T19:48:11.692Z"
   },
   {
    "duration": 0,
    "start_time": "2024-06-11T19:48:11.722Z"
   },
   {
    "duration": 0,
    "start_time": "2024-06-11T19:48:11.724Z"
   },
   {
    "duration": 0,
    "start_time": "2024-06-11T19:48:11.726Z"
   },
   {
    "duration": 0,
    "start_time": "2024-06-11T19:48:11.729Z"
   },
   {
    "duration": 0,
    "start_time": "2024-06-11T19:48:11.732Z"
   },
   {
    "duration": 1,
    "start_time": "2024-06-11T19:48:11.734Z"
   },
   {
    "duration": 0,
    "start_time": "2024-06-11T19:48:11.737Z"
   },
   {
    "duration": 0,
    "start_time": "2024-06-11T19:48:11.740Z"
   },
   {
    "duration": 0,
    "start_time": "2024-06-11T19:48:11.742Z"
   },
   {
    "duration": 0,
    "start_time": "2024-06-11T19:48:11.743Z"
   },
   {
    "duration": 0,
    "start_time": "2024-06-11T19:48:11.746Z"
   },
   {
    "duration": 0,
    "start_time": "2024-06-11T19:48:11.749Z"
   },
   {
    "duration": 0,
    "start_time": "2024-06-11T19:48:11.755Z"
   },
   {
    "duration": 0,
    "start_time": "2024-06-11T19:48:11.758Z"
   },
   {
    "duration": 0,
    "start_time": "2024-06-11T19:48:11.760Z"
   },
   {
    "duration": 0,
    "start_time": "2024-06-11T19:48:11.824Z"
   },
   {
    "duration": 0,
    "start_time": "2024-06-11T19:48:11.826Z"
   },
   {
    "duration": 0,
    "start_time": "2024-06-11T19:48:11.829Z"
   },
   {
    "duration": 0,
    "start_time": "2024-06-11T19:48:11.831Z"
   },
   {
    "duration": 0,
    "start_time": "2024-06-11T19:48:11.834Z"
   },
   {
    "duration": 0,
    "start_time": "2024-06-11T19:48:11.836Z"
   },
   {
    "duration": 0,
    "start_time": "2024-06-11T19:48:11.839Z"
   },
   {
    "duration": 0,
    "start_time": "2024-06-11T19:48:11.841Z"
   },
   {
    "duration": 29,
    "start_time": "2024-06-11T19:56:28.377Z"
   },
   {
    "duration": 20,
    "start_time": "2024-06-11T19:57:05.327Z"
   },
   {
    "duration": 29,
    "start_time": "2024-06-11T19:57:13.695Z"
   },
   {
    "duration": 1472,
    "start_time": "2024-06-11T19:57:54.506Z"
   },
   {
    "duration": 336,
    "start_time": "2024-06-11T19:57:55.982Z"
   },
   {
    "duration": 17,
    "start_time": "2024-06-11T19:57:56.322Z"
   },
   {
    "duration": 18,
    "start_time": "2024-06-11T19:57:56.343Z"
   },
   {
    "duration": 18,
    "start_time": "2024-06-11T19:57:56.366Z"
   },
   {
    "duration": 21,
    "start_time": "2024-06-11T19:57:56.426Z"
   },
   {
    "duration": 7,
    "start_time": "2024-06-11T19:57:56.454Z"
   },
   {
    "duration": 22,
    "start_time": "2024-06-11T19:57:56.464Z"
   },
   {
    "duration": 57,
    "start_time": "2024-06-11T19:57:56.489Z"
   },
   {
    "duration": 13,
    "start_time": "2024-06-11T19:57:56.550Z"
   },
   {
    "duration": 89,
    "start_time": "2024-06-11T19:57:56.567Z"
   },
   {
    "duration": 66,
    "start_time": "2024-06-11T19:57:56.670Z"
   },
   {
    "duration": 518,
    "start_time": "2024-06-11T19:57:56.740Z"
   },
   {
    "duration": 0,
    "start_time": "2024-06-11T19:57:57.264Z"
   },
   {
    "duration": 0,
    "start_time": "2024-06-11T19:57:57.267Z"
   },
   {
    "duration": 0,
    "start_time": "2024-06-11T19:57:57.269Z"
   },
   {
    "duration": 0,
    "start_time": "2024-06-11T19:57:57.271Z"
   },
   {
    "duration": 0,
    "start_time": "2024-06-11T19:57:57.273Z"
   },
   {
    "duration": 0,
    "start_time": "2024-06-11T19:57:57.275Z"
   },
   {
    "duration": 0,
    "start_time": "2024-06-11T19:57:57.277Z"
   },
   {
    "duration": 0,
    "start_time": "2024-06-11T19:57:57.280Z"
   },
   {
    "duration": 0,
    "start_time": "2024-06-11T19:57:57.282Z"
   },
   {
    "duration": 0,
    "start_time": "2024-06-11T19:57:57.285Z"
   },
   {
    "duration": 0,
    "start_time": "2024-06-11T19:57:57.287Z"
   },
   {
    "duration": 0,
    "start_time": "2024-06-11T19:57:57.289Z"
   },
   {
    "duration": 0,
    "start_time": "2024-06-11T19:57:57.325Z"
   },
   {
    "duration": 0,
    "start_time": "2024-06-11T19:57:57.327Z"
   },
   {
    "duration": 0,
    "start_time": "2024-06-11T19:57:57.329Z"
   },
   {
    "duration": 0,
    "start_time": "2024-06-11T19:57:57.336Z"
   },
   {
    "duration": 0,
    "start_time": "2024-06-11T19:57:57.338Z"
   },
   {
    "duration": 0,
    "start_time": "2024-06-11T19:57:57.339Z"
   },
   {
    "duration": 0,
    "start_time": "2024-06-11T19:57:57.341Z"
   },
   {
    "duration": 0,
    "start_time": "2024-06-11T19:57:57.348Z"
   },
   {
    "duration": 0,
    "start_time": "2024-06-11T19:57:57.351Z"
   },
   {
    "duration": 0,
    "start_time": "2024-06-11T19:57:57.354Z"
   },
   {
    "duration": 0,
    "start_time": "2024-06-11T19:57:57.356Z"
   },
   {
    "duration": 0,
    "start_time": "2024-06-11T19:57:57.359Z"
   },
   {
    "duration": 0,
    "start_time": "2024-06-11T19:57:57.362Z"
   },
   {
    "duration": 0,
    "start_time": "2024-06-11T19:57:57.363Z"
   },
   {
    "duration": 0,
    "start_time": "2024-06-11T19:57:57.365Z"
   },
   {
    "duration": 0,
    "start_time": "2024-06-11T19:57:57.367Z"
   },
   {
    "duration": 0,
    "start_time": "2024-06-11T19:57:57.368Z"
   },
   {
    "duration": 0,
    "start_time": "2024-06-11T19:57:57.424Z"
   },
   {
    "duration": 0,
    "start_time": "2024-06-11T19:57:57.426Z"
   },
   {
    "duration": 0,
    "start_time": "2024-06-11T19:57:57.428Z"
   },
   {
    "duration": 0,
    "start_time": "2024-06-11T19:57:57.430Z"
   },
   {
    "duration": 0,
    "start_time": "2024-06-11T19:57:57.432Z"
   },
   {
    "duration": 26,
    "start_time": "2024-06-11T19:58:08.442Z"
   },
   {
    "duration": 18,
    "start_time": "2024-06-11T19:58:42.659Z"
   },
   {
    "duration": 26,
    "start_time": "2024-06-11T19:59:12.158Z"
   },
   {
    "duration": 22,
    "start_time": "2024-06-11T19:59:41.635Z"
   },
   {
    "duration": 4997,
    "start_time": "2024-06-11T21:33:10.379Z"
   },
   {
    "duration": 387,
    "start_time": "2024-06-11T21:33:15.380Z"
   },
   {
    "duration": 17,
    "start_time": "2024-06-11T21:33:15.771Z"
   },
   {
    "duration": 17,
    "start_time": "2024-06-11T21:33:15.791Z"
   },
   {
    "duration": 16,
    "start_time": "2024-06-11T21:33:15.812Z"
   },
   {
    "duration": 18,
    "start_time": "2024-06-11T21:33:15.831Z"
   },
   {
    "duration": 7,
    "start_time": "2024-06-11T21:33:15.853Z"
   },
   {
    "duration": 21,
    "start_time": "2024-06-11T21:33:15.906Z"
   },
   {
    "duration": 30,
    "start_time": "2024-06-11T21:33:15.931Z"
   },
   {
    "duration": 44,
    "start_time": "2024-06-11T21:33:15.964Z"
   },
   {
    "duration": 46,
    "start_time": "2024-06-11T21:33:16.013Z"
   },
   {
    "duration": 56,
    "start_time": "2024-06-11T21:33:16.062Z"
   },
   {
    "duration": 24,
    "start_time": "2024-06-11T21:33:16.121Z"
   },
   {
    "duration": 22,
    "start_time": "2024-06-11T21:33:16.151Z"
   },
   {
    "duration": 13,
    "start_time": "2024-06-11T21:33:16.202Z"
   },
   {
    "duration": 31,
    "start_time": "2024-06-11T21:33:16.218Z"
   },
   {
    "duration": 52,
    "start_time": "2024-06-11T21:33:16.252Z"
   },
   {
    "duration": 25,
    "start_time": "2024-06-11T21:33:16.308Z"
   },
   {
    "duration": 11,
    "start_time": "2024-06-11T21:33:16.336Z"
   },
   {
    "duration": 72,
    "start_time": "2024-06-11T21:33:16.351Z"
   },
   {
    "duration": 437,
    "start_time": "2024-06-11T21:33:16.426Z"
   },
   {
    "duration": 0,
    "start_time": "2024-06-11T21:33:16.867Z"
   },
   {
    "duration": 0,
    "start_time": "2024-06-11T21:33:16.872Z"
   },
   {
    "duration": 0,
    "start_time": "2024-06-11T21:33:16.875Z"
   },
   {
    "duration": 0,
    "start_time": "2024-06-11T21:33:16.877Z"
   },
   {
    "duration": 0,
    "start_time": "2024-06-11T21:33:16.879Z"
   },
   {
    "duration": 0,
    "start_time": "2024-06-11T21:33:16.884Z"
   },
   {
    "duration": 0,
    "start_time": "2024-06-11T21:33:16.904Z"
   },
   {
    "duration": 0,
    "start_time": "2024-06-11T21:33:16.906Z"
   },
   {
    "duration": 0,
    "start_time": "2024-06-11T21:33:16.909Z"
   },
   {
    "duration": 0,
    "start_time": "2024-06-11T21:33:16.911Z"
   },
   {
    "duration": 0,
    "start_time": "2024-06-11T21:33:16.913Z"
   },
   {
    "duration": 0,
    "start_time": "2024-06-11T21:33:16.916Z"
   },
   {
    "duration": 0,
    "start_time": "2024-06-11T21:33:16.919Z"
   },
   {
    "duration": 0,
    "start_time": "2024-06-11T21:33:16.921Z"
   },
   {
    "duration": 0,
    "start_time": "2024-06-11T21:33:16.924Z"
   },
   {
    "duration": 0,
    "start_time": "2024-06-11T21:33:16.926Z"
   },
   {
    "duration": 0,
    "start_time": "2024-06-11T21:33:16.928Z"
   },
   {
    "duration": 0,
    "start_time": "2024-06-11T21:33:16.930Z"
   },
   {
    "duration": 0,
    "start_time": "2024-06-11T21:33:16.932Z"
   },
   {
    "duration": 0,
    "start_time": "2024-06-11T21:33:16.934Z"
   },
   {
    "duration": 0,
    "start_time": "2024-06-11T21:33:16.936Z"
   },
   {
    "duration": 0,
    "start_time": "2024-06-11T21:33:16.939Z"
   },
   {
    "duration": 0,
    "start_time": "2024-06-11T21:33:16.941Z"
   },
   {
    "duration": 0,
    "start_time": "2024-06-11T21:33:17.005Z"
   },
   {
    "duration": 0,
    "start_time": "2024-06-11T21:33:17.008Z"
   },
   {
    "duration": 0,
    "start_time": "2024-06-11T21:33:17.010Z"
   },
   {
    "duration": 19,
    "start_time": "2024-06-11T21:33:27.372Z"
   },
   {
    "duration": 15,
    "start_time": "2024-06-11T21:44:11.099Z"
   },
   {
    "duration": 25,
    "start_time": "2024-06-11T21:45:08.322Z"
   },
   {
    "duration": 52,
    "start_time": "2024-06-11T21:45:19.200Z"
   },
   {
    "duration": 27,
    "start_time": "2024-06-11T21:45:49.306Z"
   },
   {
    "duration": 21,
    "start_time": "2024-06-11T21:49:36.083Z"
   },
   {
    "duration": 15,
    "start_time": "2024-06-11T21:55:45.773Z"
   },
   {
    "duration": 1278,
    "start_time": "2024-06-11T21:56:10.903Z"
   },
   {
    "duration": 5,
    "start_time": "2024-06-11T21:56:13.909Z"
   },
   {
    "duration": 301,
    "start_time": "2024-06-11T21:56:15.908Z"
   },
   {
    "duration": 16,
    "start_time": "2024-06-11T21:56:18.932Z"
   },
   {
    "duration": 16,
    "start_time": "2024-06-11T21:56:20.901Z"
   },
   {
    "duration": 27,
    "start_time": "2024-06-11T21:57:43.882Z"
   },
   {
    "duration": 14,
    "start_time": "2024-06-11T21:58:04.657Z"
   },
   {
    "duration": 14,
    "start_time": "2024-06-11T21:58:07.336Z"
   },
   {
    "duration": 5,
    "start_time": "2024-06-11T21:58:30.617Z"
   },
   {
    "duration": 21,
    "start_time": "2024-06-11T21:58:37.754Z"
   },
   {
    "duration": 28,
    "start_time": "2024-06-11T21:58:48.672Z"
   },
   {
    "duration": 12,
    "start_time": "2024-06-11T21:58:50.568Z"
   },
   {
    "duration": 43,
    "start_time": "2024-06-11T21:58:53.488Z"
   },
   {
    "duration": 22,
    "start_time": "2024-06-11T21:59:00.129Z"
   },
   {
    "duration": 22,
    "start_time": "2024-06-11T22:00:02.754Z"
   },
   {
    "duration": 21,
    "start_time": "2024-06-11T22:00:05.417Z"
   },
   {
    "duration": 10,
    "start_time": "2024-06-11T22:00:07.593Z"
   },
   {
    "duration": 29,
    "start_time": "2024-06-11T22:00:19.591Z"
   },
   {
    "duration": 15,
    "start_time": "2024-06-11T22:00:21.277Z"
   },
   {
    "duration": 23,
    "start_time": "2024-06-11T22:00:24.741Z"
   },
   {
    "duration": 11,
    "start_time": "2024-06-11T22:00:25.309Z"
   },
   {
    "duration": 37,
    "start_time": "2024-06-11T22:00:29.258Z"
   },
   {
    "duration": 27,
    "start_time": "2024-06-11T22:00:34.985Z"
   },
   {
    "duration": 54,
    "start_time": "2024-06-11T22:05:27.923Z"
   },
   {
    "duration": 1235,
    "start_time": "2024-06-11T22:06:13.452Z"
   },
   {
    "duration": 275,
    "start_time": "2024-06-11T22:06:14.691Z"
   },
   {
    "duration": 17,
    "start_time": "2024-06-11T22:06:14.968Z"
   },
   {
    "duration": 16,
    "start_time": "2024-06-11T22:06:15.002Z"
   },
   {
    "duration": 15,
    "start_time": "2024-06-11T22:06:15.021Z"
   },
   {
    "duration": 15,
    "start_time": "2024-06-11T22:06:15.040Z"
   },
   {
    "duration": 48,
    "start_time": "2024-06-11T22:06:15.059Z"
   },
   {
    "duration": 10,
    "start_time": "2024-06-11T22:06:15.111Z"
   },
   {
    "duration": 78,
    "start_time": "2024-06-11T22:06:15.124Z"
   },
   {
    "duration": 26,
    "start_time": "2024-06-11T22:06:15.207Z"
   },
   {
    "duration": 67,
    "start_time": "2024-06-11T22:06:15.236Z"
   },
   {
    "duration": 98,
    "start_time": "2024-06-11T22:06:15.306Z"
   },
   {
    "duration": 22,
    "start_time": "2024-06-11T22:06:15.407Z"
   },
   {
    "duration": 75,
    "start_time": "2024-06-11T22:06:15.431Z"
   },
   {
    "duration": 22,
    "start_time": "2024-06-11T22:06:15.509Z"
   },
   {
    "duration": 11,
    "start_time": "2024-06-11T22:06:15.533Z"
   },
   {
    "duration": 29,
    "start_time": "2024-06-11T22:06:15.603Z"
   },
   {
    "duration": 72,
    "start_time": "2024-06-11T22:06:15.635Z"
   },
   {
    "duration": 24,
    "start_time": "2024-06-11T22:06:15.710Z"
   },
   {
    "duration": 66,
    "start_time": "2024-06-11T22:06:15.737Z"
   },
   {
    "duration": 101,
    "start_time": "2024-06-11T22:06:15.806Z"
   },
   {
    "duration": 21,
    "start_time": "2024-06-11T22:06:15.910Z"
   },
   {
    "duration": 1092,
    "start_time": "2024-06-11T22:06:15.933Z"
   },
   {
    "duration": 0,
    "start_time": "2024-06-11T22:06:17.030Z"
   },
   {
    "duration": 0,
    "start_time": "2024-06-11T22:06:17.033Z"
   },
   {
    "duration": 0,
    "start_time": "2024-06-11T22:06:17.036Z"
   },
   {
    "duration": 0,
    "start_time": "2024-06-11T22:06:17.038Z"
   },
   {
    "duration": 0,
    "start_time": "2024-06-11T22:06:17.040Z"
   },
   {
    "duration": 0,
    "start_time": "2024-06-11T22:06:17.043Z"
   },
   {
    "duration": 0,
    "start_time": "2024-06-11T22:06:17.044Z"
   },
   {
    "duration": 0,
    "start_time": "2024-06-11T22:06:17.046Z"
   },
   {
    "duration": 0,
    "start_time": "2024-06-11T22:06:17.048Z"
   },
   {
    "duration": 0,
    "start_time": "2024-06-11T22:06:17.050Z"
   },
   {
    "duration": 0,
    "start_time": "2024-06-11T22:06:17.053Z"
   },
   {
    "duration": 0,
    "start_time": "2024-06-11T22:06:17.055Z"
   },
   {
    "duration": 0,
    "start_time": "2024-06-11T22:06:17.056Z"
   },
   {
    "duration": 0,
    "start_time": "2024-06-11T22:06:17.102Z"
   },
   {
    "duration": 0,
    "start_time": "2024-06-11T22:06:17.103Z"
   },
   {
    "duration": 0,
    "start_time": "2024-06-11T22:06:17.106Z"
   },
   {
    "duration": 0,
    "start_time": "2024-06-11T22:06:17.112Z"
   },
   {
    "duration": 0,
    "start_time": "2024-06-11T22:06:17.114Z"
   },
   {
    "duration": 0,
    "start_time": "2024-06-11T22:06:17.116Z"
   },
   {
    "duration": 0,
    "start_time": "2024-06-11T22:06:17.123Z"
   },
   {
    "duration": 0,
    "start_time": "2024-06-11T22:06:17.125Z"
   },
   {
    "duration": 0,
    "start_time": "2024-06-11T22:06:17.127Z"
   },
   {
    "duration": 0,
    "start_time": "2024-06-11T22:06:17.128Z"
   },
   {
    "duration": 0,
    "start_time": "2024-06-11T22:06:17.131Z"
   },
   {
    "duration": 0,
    "start_time": "2024-06-11T22:06:17.133Z"
   },
   {
    "duration": 0,
    "start_time": "2024-06-11T22:06:17.134Z"
   },
   {
    "duration": 34,
    "start_time": "2024-06-11T22:06:27.795Z"
   },
   {
    "duration": 1267,
    "start_time": "2024-06-11T22:07:52.009Z"
   },
   {
    "duration": 269,
    "start_time": "2024-06-11T22:07:53.280Z"
   },
   {
    "duration": 16,
    "start_time": "2024-06-11T22:07:53.552Z"
   },
   {
    "duration": 32,
    "start_time": "2024-06-11T22:07:53.572Z"
   },
   {
    "duration": 17,
    "start_time": "2024-06-11T22:07:53.606Z"
   },
   {
    "duration": 14,
    "start_time": "2024-06-11T22:07:53.626Z"
   },
   {
    "duration": 14,
    "start_time": "2024-06-11T22:07:53.643Z"
   },
   {
    "duration": 8,
    "start_time": "2024-06-11T22:07:53.702Z"
   },
   {
    "duration": 22,
    "start_time": "2024-06-11T22:07:53.714Z"
   },
   {
    "duration": 63,
    "start_time": "2024-06-11T22:07:53.743Z"
   },
   {
    "duration": 11,
    "start_time": "2024-06-11T22:07:53.810Z"
   },
   {
    "duration": 43,
    "start_time": "2024-06-11T22:07:53.825Z"
   },
   {
    "duration": 46,
    "start_time": "2024-06-11T22:07:53.871Z"
   },
   {
    "duration": 21,
    "start_time": "2024-06-11T22:07:53.920Z"
   },
   {
    "duration": 20,
    "start_time": "2024-06-11T22:07:53.944Z"
   },
   {
    "duration": 11,
    "start_time": "2024-06-11T22:07:54.003Z"
   },
   {
    "duration": 29,
    "start_time": "2024-06-11T22:07:54.017Z"
   },
   {
    "duration": 15,
    "start_time": "2024-06-11T22:07:54.049Z"
   },
   {
    "duration": 22,
    "start_time": "2024-06-11T22:07:54.101Z"
   },
   {
    "duration": 12,
    "start_time": "2024-06-11T22:07:54.126Z"
   },
   {
    "duration": 70,
    "start_time": "2024-06-11T22:07:54.141Z"
   },
   {
    "duration": 18,
    "start_time": "2024-06-11T22:07:54.213Z"
   },
   {
    "duration": 482,
    "start_time": "2024-06-11T22:07:54.235Z"
   },
   {
    "duration": 1,
    "start_time": "2024-06-11T22:07:54.721Z"
   },
   {
    "duration": 0,
    "start_time": "2024-06-11T22:07:54.724Z"
   },
   {
    "duration": 0,
    "start_time": "2024-06-11T22:07:54.726Z"
   },
   {
    "duration": 0,
    "start_time": "2024-06-11T22:07:54.728Z"
   },
   {
    "duration": 0,
    "start_time": "2024-06-11T22:07:54.730Z"
   },
   {
    "duration": 0,
    "start_time": "2024-06-11T22:07:54.732Z"
   },
   {
    "duration": 0,
    "start_time": "2024-06-11T22:07:54.737Z"
   },
   {
    "duration": 0,
    "start_time": "2024-06-11T22:07:54.739Z"
   },
   {
    "duration": 0,
    "start_time": "2024-06-11T22:07:54.741Z"
   },
   {
    "duration": 0,
    "start_time": "2024-06-11T22:07:54.744Z"
   },
   {
    "duration": 0,
    "start_time": "2024-06-11T22:07:54.748Z"
   },
   {
    "duration": 0,
    "start_time": "2024-06-11T22:07:54.750Z"
   },
   {
    "duration": 0,
    "start_time": "2024-06-11T22:07:54.753Z"
   },
   {
    "duration": 0,
    "start_time": "2024-06-11T22:07:54.755Z"
   },
   {
    "duration": 0,
    "start_time": "2024-06-11T22:07:54.802Z"
   },
   {
    "duration": 0,
    "start_time": "2024-06-11T22:07:54.804Z"
   },
   {
    "duration": 0,
    "start_time": "2024-06-11T22:07:54.807Z"
   },
   {
    "duration": 0,
    "start_time": "2024-06-11T22:07:54.808Z"
   },
   {
    "duration": 0,
    "start_time": "2024-06-11T22:07:54.810Z"
   },
   {
    "duration": 0,
    "start_time": "2024-06-11T22:07:54.812Z"
   },
   {
    "duration": 0,
    "start_time": "2024-06-11T22:07:54.816Z"
   },
   {
    "duration": 0,
    "start_time": "2024-06-11T22:07:54.817Z"
   },
   {
    "duration": 0,
    "start_time": "2024-06-11T22:07:54.819Z"
   },
   {
    "duration": 0,
    "start_time": "2024-06-11T22:07:54.821Z"
   },
   {
    "duration": 0,
    "start_time": "2024-06-11T22:07:54.823Z"
   },
   {
    "duration": 0,
    "start_time": "2024-06-11T22:07:54.825Z"
   },
   {
    "duration": 57,
    "start_time": "2024-06-11T22:08:36.134Z"
   },
   {
    "duration": 889,
    "start_time": "2024-06-11T22:09:03.982Z"
   },
   {
    "duration": 21,
    "start_time": "2024-06-11T22:09:13.771Z"
   },
   {
    "duration": 10,
    "start_time": "2024-06-11T22:09:20.382Z"
   },
   {
    "duration": 20,
    "start_time": "2024-06-11T22:10:08.140Z"
   },
   {
    "duration": 10,
    "start_time": "2024-06-11T22:11:04.419Z"
   },
   {
    "duration": 26,
    "start_time": "2024-06-11T22:11:34.964Z"
   },
   {
    "duration": 1251,
    "start_time": "2024-06-11T22:11:41.838Z"
   },
   {
    "duration": 275,
    "start_time": "2024-06-11T22:11:43.092Z"
   },
   {
    "duration": 17,
    "start_time": "2024-06-11T22:11:43.370Z"
   },
   {
    "duration": 23,
    "start_time": "2024-06-11T22:11:43.390Z"
   },
   {
    "duration": 16,
    "start_time": "2024-06-11T22:11:43.419Z"
   },
   {
    "duration": 18,
    "start_time": "2024-06-11T22:11:43.439Z"
   },
   {
    "duration": 53,
    "start_time": "2024-06-11T22:11:43.461Z"
   },
   {
    "duration": 9,
    "start_time": "2024-06-11T22:11:43.517Z"
   },
   {
    "duration": 25,
    "start_time": "2024-06-11T22:11:43.529Z"
   },
   {
    "duration": 66,
    "start_time": "2024-06-11T22:11:43.558Z"
   },
   {
    "duration": 11,
    "start_time": "2024-06-11T22:11:43.627Z"
   },
   {
    "duration": 74,
    "start_time": "2024-06-11T22:11:43.642Z"
   },
   {
    "duration": 21,
    "start_time": "2024-06-11T22:11:43.719Z"
   },
   {
    "duration": 22,
    "start_time": "2024-06-11T22:11:43.748Z"
   },
   {
    "duration": 21,
    "start_time": "2024-06-11T22:11:43.801Z"
   },
   {
    "duration": 10,
    "start_time": "2024-06-11T22:11:43.825Z"
   },
   {
    "duration": 62,
    "start_time": "2024-06-11T22:11:43.839Z"
   },
   {
    "duration": 16,
    "start_time": "2024-06-11T22:11:43.904Z"
   },
   {
    "duration": 23,
    "start_time": "2024-06-11T22:11:43.923Z"
   },
   {
    "duration": 11,
    "start_time": "2024-06-11T22:11:43.949Z"
   },
   {
    "duration": 37,
    "start_time": "2024-06-11T22:11:44.002Z"
   },
   {
    "duration": 18,
    "start_time": "2024-06-11T22:11:44.042Z"
   },
   {
    "duration": 505,
    "start_time": "2024-06-11T22:11:44.063Z"
   },
   {
    "duration": 0,
    "start_time": "2024-06-11T22:11:44.573Z"
   },
   {
    "duration": 0,
    "start_time": "2024-06-11T22:11:44.577Z"
   },
   {
    "duration": 0,
    "start_time": "2024-06-11T22:11:44.578Z"
   },
   {
    "duration": 0,
    "start_time": "2024-06-11T22:11:44.580Z"
   },
   {
    "duration": 0,
    "start_time": "2024-06-11T22:11:44.582Z"
   },
   {
    "duration": 0,
    "start_time": "2024-06-11T22:11:44.603Z"
   },
   {
    "duration": 0,
    "start_time": "2024-06-11T22:11:44.605Z"
   },
   {
    "duration": 0,
    "start_time": "2024-06-11T22:11:44.608Z"
   },
   {
    "duration": 0,
    "start_time": "2024-06-11T22:11:44.611Z"
   },
   {
    "duration": 0,
    "start_time": "2024-06-11T22:11:44.614Z"
   },
   {
    "duration": 0,
    "start_time": "2024-06-11T22:11:44.618Z"
   },
   {
    "duration": 0,
    "start_time": "2024-06-11T22:11:44.620Z"
   },
   {
    "duration": 0,
    "start_time": "2024-06-11T22:11:44.622Z"
   },
   {
    "duration": 0,
    "start_time": "2024-06-11T22:11:44.625Z"
   },
   {
    "duration": 0,
    "start_time": "2024-06-11T22:11:44.627Z"
   },
   {
    "duration": 0,
    "start_time": "2024-06-11T22:11:44.629Z"
   },
   {
    "duration": 0,
    "start_time": "2024-06-11T22:11:44.631Z"
   },
   {
    "duration": 0,
    "start_time": "2024-06-11T22:11:44.634Z"
   },
   {
    "duration": 0,
    "start_time": "2024-06-11T22:11:44.636Z"
   },
   {
    "duration": 0,
    "start_time": "2024-06-11T22:11:44.639Z"
   },
   {
    "duration": 0,
    "start_time": "2024-06-11T22:11:44.641Z"
   },
   {
    "duration": 0,
    "start_time": "2024-06-11T22:11:44.642Z"
   },
   {
    "duration": 0,
    "start_time": "2024-06-11T22:11:44.701Z"
   },
   {
    "duration": 0,
    "start_time": "2024-06-11T22:11:44.703Z"
   },
   {
    "duration": 0,
    "start_time": "2024-06-11T22:11:44.705Z"
   },
   {
    "duration": 0,
    "start_time": "2024-06-11T22:11:44.707Z"
   },
   {
    "duration": 0,
    "start_time": "2024-06-11T22:11:44.708Z"
   },
   {
    "duration": 30,
    "start_time": "2024-06-11T22:12:03.228Z"
   },
   {
    "duration": 53,
    "start_time": "2024-06-11T22:14:14.355Z"
   },
   {
    "duration": 13,
    "start_time": "2024-06-11T22:14:20.027Z"
   },
   {
    "duration": 1285,
    "start_time": "2024-06-11T22:15:56.211Z"
   },
   {
    "duration": 279,
    "start_time": "2024-06-11T22:15:57.501Z"
   },
   {
    "duration": 20,
    "start_time": "2024-06-11T22:15:57.782Z"
   },
   {
    "duration": 16,
    "start_time": "2024-06-11T22:15:57.805Z"
   },
   {
    "duration": 15,
    "start_time": "2024-06-11T22:15:57.826Z"
   },
   {
    "duration": 16,
    "start_time": "2024-06-11T22:15:57.844Z"
   },
   {
    "duration": 50,
    "start_time": "2024-06-11T22:15:57.863Z"
   },
   {
    "duration": 7,
    "start_time": "2024-06-11T22:15:57.916Z"
   },
   {
    "duration": 19,
    "start_time": "2024-06-11T22:15:57.926Z"
   },
   {
    "duration": 65,
    "start_time": "2024-06-11T22:15:57.948Z"
   },
   {
    "duration": 12,
    "start_time": "2024-06-11T22:15:58.016Z"
   },
   {
    "duration": 44,
    "start_time": "2024-06-11T22:15:58.031Z"
   },
   {
    "duration": 21,
    "start_time": "2024-06-11T22:15:58.101Z"
   },
   {
    "duration": 24,
    "start_time": "2024-06-11T22:15:58.130Z"
   },
   {
    "duration": 54,
    "start_time": "2024-06-11T22:15:58.157Z"
   },
   {
    "duration": 16,
    "start_time": "2024-06-11T22:15:58.215Z"
   },
   {
    "duration": 29,
    "start_time": "2024-06-11T22:15:58.236Z"
   },
   {
    "duration": 43,
    "start_time": "2024-06-11T22:15:58.268Z"
   },
   {
    "duration": 23,
    "start_time": "2024-06-11T22:15:58.314Z"
   },
   {
    "duration": 11,
    "start_time": "2024-06-11T22:15:58.340Z"
   },
   {
    "duration": 79,
    "start_time": "2024-06-11T22:15:58.354Z"
   },
   {
    "duration": 19,
    "start_time": "2024-06-11T22:15:58.439Z"
   },
   {
    "duration": 58,
    "start_time": "2024-06-11T22:15:58.461Z"
   },
   {
    "duration": 466,
    "start_time": "2024-06-11T22:15:58.522Z"
   },
   {
    "duration": 0,
    "start_time": "2024-06-11T22:15:58.991Z"
   },
   {
    "duration": 0,
    "start_time": "2024-06-11T22:15:58.993Z"
   },
   {
    "duration": 0,
    "start_time": "2024-06-11T22:15:59.003Z"
   },
   {
    "duration": 0,
    "start_time": "2024-06-11T22:15:59.004Z"
   },
   {
    "duration": 0,
    "start_time": "2024-06-11T22:15:59.008Z"
   },
   {
    "duration": 0,
    "start_time": "2024-06-11T22:15:59.010Z"
   },
   {
    "duration": 0,
    "start_time": "2024-06-11T22:15:59.012Z"
   },
   {
    "duration": 0,
    "start_time": "2024-06-11T22:15:59.014Z"
   },
   {
    "duration": 0,
    "start_time": "2024-06-11T22:15:59.017Z"
   },
   {
    "duration": 0,
    "start_time": "2024-06-11T22:15:59.019Z"
   },
   {
    "duration": 0,
    "start_time": "2024-06-11T22:15:59.023Z"
   },
   {
    "duration": 0,
    "start_time": "2024-06-11T22:15:59.025Z"
   },
   {
    "duration": 0,
    "start_time": "2024-06-11T22:15:59.027Z"
   },
   {
    "duration": 0,
    "start_time": "2024-06-11T22:15:59.029Z"
   },
   {
    "duration": 0,
    "start_time": "2024-06-11T22:15:59.031Z"
   },
   {
    "duration": 0,
    "start_time": "2024-06-11T22:15:59.033Z"
   },
   {
    "duration": 0,
    "start_time": "2024-06-11T22:15:59.035Z"
   },
   {
    "duration": 0,
    "start_time": "2024-06-11T22:15:59.037Z"
   },
   {
    "duration": 0,
    "start_time": "2024-06-11T22:15:59.038Z"
   },
   {
    "duration": 0,
    "start_time": "2024-06-11T22:15:59.102Z"
   },
   {
    "duration": 0,
    "start_time": "2024-06-11T22:15:59.104Z"
   },
   {
    "duration": 0,
    "start_time": "2024-06-11T22:15:59.106Z"
   },
   {
    "duration": 0,
    "start_time": "2024-06-11T22:15:59.107Z"
   },
   {
    "duration": 0,
    "start_time": "2024-06-11T22:15:59.110Z"
   },
   {
    "duration": 0,
    "start_time": "2024-06-11T22:15:59.113Z"
   },
   {
    "duration": 0,
    "start_time": "2024-06-11T22:15:59.114Z"
   },
   {
    "duration": 0,
    "start_time": "2024-06-11T22:15:59.117Z"
   },
   {
    "duration": 13,
    "start_time": "2024-06-11T22:17:50.735Z"
   },
   {
    "duration": 22,
    "start_time": "2024-06-11T22:19:48.276Z"
   },
   {
    "duration": 22,
    "start_time": "2024-06-11T22:19:59.126Z"
   },
   {
    "duration": 26,
    "start_time": "2024-06-11T22:20:07.606Z"
   },
   {
    "duration": 23,
    "start_time": "2024-06-11T22:20:31.405Z"
   },
   {
    "duration": 17,
    "start_time": "2024-06-11T22:22:48.555Z"
   },
   {
    "duration": 741,
    "start_time": "2024-06-11T22:26:06.151Z"
   },
   {
    "duration": 31,
    "start_time": "2024-06-11T22:26:22.786Z"
   },
   {
    "duration": 71,
    "start_time": "2024-06-11T22:28:47.436Z"
   },
   {
    "duration": 152,
    "start_time": "2024-06-11T22:29:55.094Z"
   },
   {
    "duration": 1237,
    "start_time": "2024-06-11T22:30:52.847Z"
   },
   {
    "duration": 284,
    "start_time": "2024-06-11T22:30:54.088Z"
   },
   {
    "duration": 16,
    "start_time": "2024-06-11T22:30:54.375Z"
   },
   {
    "duration": 20,
    "start_time": "2024-06-11T22:30:54.394Z"
   },
   {
    "duration": 17,
    "start_time": "2024-06-11T22:30:54.419Z"
   },
   {
    "duration": 15,
    "start_time": "2024-06-11T22:30:54.439Z"
   },
   {
    "duration": 55,
    "start_time": "2024-06-11T22:30:54.457Z"
   },
   {
    "duration": 6,
    "start_time": "2024-06-11T22:30:54.516Z"
   },
   {
    "duration": 20,
    "start_time": "2024-06-11T22:30:54.525Z"
   },
   {
    "duration": 65,
    "start_time": "2024-06-11T22:30:54.550Z"
   },
   {
    "duration": 14,
    "start_time": "2024-06-11T22:30:54.618Z"
   },
   {
    "duration": 78,
    "start_time": "2024-06-11T22:30:54.636Z"
   },
   {
    "duration": 21,
    "start_time": "2024-06-11T22:30:54.716Z"
   },
   {
    "duration": 22,
    "start_time": "2024-06-11T22:30:54.744Z"
   },
   {
    "duration": 45,
    "start_time": "2024-06-11T22:30:54.769Z"
   },
   {
    "duration": 10,
    "start_time": "2024-06-11T22:30:54.817Z"
   },
   {
    "duration": 30,
    "start_time": "2024-06-11T22:30:54.831Z"
   },
   {
    "duration": 48,
    "start_time": "2024-06-11T22:30:54.864Z"
   },
   {
    "duration": 22,
    "start_time": "2024-06-11T22:30:54.915Z"
   },
   {
    "duration": 11,
    "start_time": "2024-06-11T22:30:54.939Z"
   },
   {
    "duration": 71,
    "start_time": "2024-06-11T22:30:54.954Z"
   },
   {
    "duration": 19,
    "start_time": "2024-06-11T22:30:55.029Z"
   },
   {
    "duration": 14,
    "start_time": "2024-06-11T22:30:55.051Z"
   },
   {
    "duration": 24,
    "start_time": "2024-06-11T22:30:55.102Z"
   },
   {
    "duration": 21,
    "start_time": "2024-06-11T22:30:55.129Z"
   },
   {
    "duration": 52,
    "start_time": "2024-06-11T22:30:55.153Z"
   },
   {
    "duration": 19,
    "start_time": "2024-06-11T22:30:55.208Z"
   },
   {
    "duration": 12,
    "start_time": "2024-06-11T22:30:55.230Z"
   },
   {
    "duration": 69,
    "start_time": "2024-06-11T22:30:55.245Z"
   },
   {
    "duration": 498,
    "start_time": "2024-06-11T22:30:55.316Z"
   },
   {
    "duration": 0,
    "start_time": "2024-06-11T22:30:55.818Z"
   },
   {
    "duration": 0,
    "start_time": "2024-06-11T22:30:55.820Z"
   },
   {
    "duration": 0,
    "start_time": "2024-06-11T22:30:55.822Z"
   },
   {
    "duration": 0,
    "start_time": "2024-06-11T22:30:55.824Z"
   },
   {
    "duration": 0,
    "start_time": "2024-06-11T22:30:55.827Z"
   },
   {
    "duration": 0,
    "start_time": "2024-06-11T22:30:55.829Z"
   },
   {
    "duration": 0,
    "start_time": "2024-06-11T22:30:55.831Z"
   },
   {
    "duration": 0,
    "start_time": "2024-06-11T22:30:55.834Z"
   },
   {
    "duration": 0,
    "start_time": "2024-06-11T22:30:55.837Z"
   },
   {
    "duration": 0,
    "start_time": "2024-06-11T22:30:55.839Z"
   },
   {
    "duration": 0,
    "start_time": "2024-06-11T22:30:55.841Z"
   },
   {
    "duration": 0,
    "start_time": "2024-06-11T22:30:55.844Z"
   },
   {
    "duration": 0,
    "start_time": "2024-06-11T22:30:55.846Z"
   },
   {
    "duration": 0,
    "start_time": "2024-06-11T22:30:55.848Z"
   },
   {
    "duration": 0,
    "start_time": "2024-06-11T22:30:55.851Z"
   },
   {
    "duration": 0,
    "start_time": "2024-06-11T22:30:55.853Z"
   },
   {
    "duration": 0,
    "start_time": "2024-06-11T22:30:55.908Z"
   },
   {
    "duration": 0,
    "start_time": "2024-06-11T22:30:55.916Z"
   },
   {
    "duration": 0,
    "start_time": "2024-06-11T22:30:55.922Z"
   },
   {
    "duration": 0,
    "start_time": "2024-06-11T22:30:55.924Z"
   },
   {
    "duration": 0,
    "start_time": "2024-06-11T22:30:55.926Z"
   },
   {
    "duration": 21,
    "start_time": "2024-06-11T22:31:55.581Z"
   },
   {
    "duration": 1283,
    "start_time": "2024-06-11T22:34:18.183Z"
   },
   {
    "duration": 273,
    "start_time": "2024-06-11T22:34:19.470Z"
   },
   {
    "duration": 16,
    "start_time": "2024-06-11T22:34:19.747Z"
   },
   {
    "duration": 41,
    "start_time": "2024-06-11T22:34:19.767Z"
   },
   {
    "duration": 18,
    "start_time": "2024-06-11T22:34:19.813Z"
   },
   {
    "duration": 18,
    "start_time": "2024-06-11T22:34:19.835Z"
   },
   {
    "duration": 48,
    "start_time": "2024-06-11T22:34:19.856Z"
   },
   {
    "duration": 6,
    "start_time": "2024-06-11T22:34:19.907Z"
   },
   {
    "duration": 20,
    "start_time": "2024-06-11T22:34:19.917Z"
   },
   {
    "duration": 64,
    "start_time": "2024-06-11T22:34:19.940Z"
   },
   {
    "duration": 11,
    "start_time": "2024-06-11T22:34:20.007Z"
   },
   {
    "duration": 43,
    "start_time": "2024-06-11T22:34:20.021Z"
   },
   {
    "duration": 49,
    "start_time": "2024-06-11T22:34:20.069Z"
   },
   {
    "duration": 21,
    "start_time": "2024-06-11T22:34:20.125Z"
   },
   {
    "duration": 20,
    "start_time": "2024-06-11T22:34:20.149Z"
   },
   {
    "duration": 36,
    "start_time": "2024-06-11T22:34:20.172Z"
   },
   {
    "duration": 30,
    "start_time": "2024-06-11T22:34:20.211Z"
   },
   {
    "duration": 15,
    "start_time": "2024-06-11T22:34:20.244Z"
   },
   {
    "duration": 22,
    "start_time": "2024-06-11T22:34:20.301Z"
   },
   {
    "duration": 11,
    "start_time": "2024-06-11T22:34:20.326Z"
   },
   {
    "duration": 64,
    "start_time": "2024-06-11T22:34:20.341Z"
   },
   {
    "duration": 18,
    "start_time": "2024-06-11T22:34:20.408Z"
   },
   {
    "duration": 14,
    "start_time": "2024-06-11T22:34:20.429Z"
   },
   {
    "duration": 56,
    "start_time": "2024-06-11T22:34:20.446Z"
   },
   {
    "duration": 21,
    "start_time": "2024-06-11T22:34:20.505Z"
   },
   {
    "duration": 19,
    "start_time": "2024-06-11T22:34:20.529Z"
   },
   {
    "duration": 50,
    "start_time": "2024-06-11T22:34:20.551Z"
   },
   {
    "duration": 14,
    "start_time": "2024-06-11T22:34:20.604Z"
   },
   {
    "duration": 31,
    "start_time": "2024-06-11T22:34:20.620Z"
   },
   {
    "duration": 55,
    "start_time": "2024-06-11T22:34:20.654Z"
   },
   {
    "duration": 482,
    "start_time": "2024-06-11T22:34:20.711Z"
   },
   {
    "duration": 0,
    "start_time": "2024-06-11T22:34:21.202Z"
   },
   {
    "duration": 0,
    "start_time": "2024-06-11T22:34:21.204Z"
   },
   {
    "duration": 0,
    "start_time": "2024-06-11T22:34:21.206Z"
   },
   {
    "duration": 0,
    "start_time": "2024-06-11T22:34:21.208Z"
   },
   {
    "duration": 0,
    "start_time": "2024-06-11T22:34:21.210Z"
   },
   {
    "duration": 0,
    "start_time": "2024-06-11T22:34:21.212Z"
   },
   {
    "duration": 0,
    "start_time": "2024-06-11T22:34:21.213Z"
   },
   {
    "duration": 0,
    "start_time": "2024-06-11T22:34:21.215Z"
   },
   {
    "duration": 0,
    "start_time": "2024-06-11T22:34:21.217Z"
   },
   {
    "duration": 0,
    "start_time": "2024-06-11T22:34:21.219Z"
   },
   {
    "duration": 0,
    "start_time": "2024-06-11T22:34:21.221Z"
   },
   {
    "duration": 0,
    "start_time": "2024-06-11T22:34:21.223Z"
   },
   {
    "duration": 1,
    "start_time": "2024-06-11T22:34:21.225Z"
   },
   {
    "duration": 0,
    "start_time": "2024-06-11T22:34:21.228Z"
   },
   {
    "duration": 0,
    "start_time": "2024-06-11T22:34:21.230Z"
   },
   {
    "duration": 0,
    "start_time": "2024-06-11T22:34:21.233Z"
   },
   {
    "duration": 0,
    "start_time": "2024-06-11T22:34:21.235Z"
   },
   {
    "duration": 0,
    "start_time": "2024-06-11T22:34:21.237Z"
   },
   {
    "duration": 0,
    "start_time": "2024-06-11T22:34:21.240Z"
   },
   {
    "duration": 0,
    "start_time": "2024-06-11T22:34:21.242Z"
   },
   {
    "duration": 0,
    "start_time": "2024-06-11T22:34:21.303Z"
   },
   {
    "duration": 26,
    "start_time": "2024-06-11T22:35:26.688Z"
   },
   {
    "duration": 619,
    "start_time": "2024-06-11T22:40:17.071Z"
   },
   {
    "duration": 22,
    "start_time": "2024-06-11T22:40:27.889Z"
   },
   {
    "duration": 17,
    "start_time": "2024-06-11T22:42:02.511Z"
   },
   {
    "duration": 362,
    "start_time": "2024-06-11T22:42:24.959Z"
   },
   {
    "duration": 534,
    "start_time": "2024-06-11T22:43:01.629Z"
   },
   {
    "duration": 17,
    "start_time": "2024-06-11T22:43:17.046Z"
   },
   {
    "duration": 324,
    "start_time": "2024-06-11T22:43:39.492Z"
   },
   {
    "duration": 321,
    "start_time": "2024-06-11T22:43:45.028Z"
   },
   {
    "duration": 472,
    "start_time": "2024-06-11T22:43:49.404Z"
   },
   {
    "duration": 303,
    "start_time": "2024-06-11T22:43:52.292Z"
   },
   {
    "duration": 392,
    "start_time": "2024-06-11T22:45:01.841Z"
   },
   {
    "duration": 35,
    "start_time": "2024-06-11T22:46:43.601Z"
   },
   {
    "duration": 447,
    "start_time": "2024-06-11T22:46:57.214Z"
   },
   {
    "duration": 404,
    "start_time": "2024-06-11T22:49:59.514Z"
   },
   {
    "duration": 334,
    "start_time": "2024-06-11T22:54:33.747Z"
   },
   {
    "duration": 370,
    "start_time": "2024-06-11T22:55:31.329Z"
   },
   {
    "duration": 313,
    "start_time": "2024-06-11T22:55:58.609Z"
   },
   {
    "duration": 7,
    "start_time": "2024-06-11T22:58:50.983Z"
   },
   {
    "duration": 22,
    "start_time": "2024-06-11T23:03:19.317Z"
   },
   {
    "duration": 25,
    "start_time": "2024-06-11T23:03:24.268Z"
   },
   {
    "duration": 20,
    "start_time": "2024-06-11T23:03:45.349Z"
   },
   {
    "duration": 6,
    "start_time": "2024-06-11T23:03:53.597Z"
   },
   {
    "duration": 8,
    "start_time": "2024-06-11T23:04:24.818Z"
   },
   {
    "duration": 8,
    "start_time": "2024-06-11T23:04:30.419Z"
   },
   {
    "duration": 8,
    "start_time": "2024-06-11T23:04:38.741Z"
   },
   {
    "duration": 8,
    "start_time": "2024-06-11T23:04:46.212Z"
   },
   {
    "duration": 473,
    "start_time": "2024-06-12T04:02:27.231Z"
   },
   {
    "duration": 5112,
    "start_time": "2024-06-28T00:17:31.238Z"
   },
   {
    "duration": 1320,
    "start_time": "2024-06-28T00:17:43.985Z"
   },
   {
    "duration": 356,
    "start_time": "2024-06-28T00:17:45.308Z"
   },
   {
    "duration": 16,
    "start_time": "2024-06-28T00:17:45.666Z"
   },
   {
    "duration": 25,
    "start_time": "2024-06-28T00:17:45.689Z"
   },
   {
    "duration": 16,
    "start_time": "2024-06-28T00:17:45.716Z"
   },
   {
    "duration": 16,
    "start_time": "2024-06-28T00:17:45.735Z"
   },
   {
    "duration": 50,
    "start_time": "2024-06-28T00:17:45.754Z"
   },
   {
    "duration": 7,
    "start_time": "2024-06-28T00:17:45.807Z"
   },
   {
    "duration": 20,
    "start_time": "2024-06-28T00:17:45.817Z"
   },
   {
    "duration": 61,
    "start_time": "2024-06-28T00:17:45.843Z"
   },
   {
    "duration": 11,
    "start_time": "2024-06-28T00:17:45.908Z"
   },
   {
    "duration": 79,
    "start_time": "2024-06-28T00:17:45.922Z"
   },
   {
    "duration": 23,
    "start_time": "2024-06-28T00:17:46.005Z"
   },
   {
    "duration": 25,
    "start_time": "2024-06-28T00:17:46.032Z"
   },
   {
    "duration": 55,
    "start_time": "2024-06-28T00:17:46.060Z"
   },
   {
    "duration": 12,
    "start_time": "2024-06-28T00:17:46.119Z"
   },
   {
    "duration": 30,
    "start_time": "2024-06-28T00:17:46.134Z"
   },
   {
    "duration": 56,
    "start_time": "2024-06-28T00:17:46.166Z"
   },
   {
    "duration": 23,
    "start_time": "2024-06-28T00:17:46.225Z"
   },
   {
    "duration": 11,
    "start_time": "2024-06-28T00:17:46.251Z"
   },
   {
    "duration": 38,
    "start_time": "2024-06-28T00:17:46.302Z"
   },
   {
    "duration": 20,
    "start_time": "2024-06-28T00:17:46.343Z"
   },
   {
    "duration": 38,
    "start_time": "2024-06-28T00:17:46.366Z"
   },
   {
    "duration": 23,
    "start_time": "2024-06-28T00:17:46.410Z"
   },
   {
    "duration": 22,
    "start_time": "2024-06-28T00:17:46.436Z"
   },
   {
    "duration": 58,
    "start_time": "2024-06-28T00:17:46.461Z"
   },
   {
    "duration": 19,
    "start_time": "2024-06-28T00:17:46.522Z"
   },
   {
    "duration": 12,
    "start_time": "2024-06-28T00:17:46.548Z"
   },
   {
    "duration": 65,
    "start_time": "2024-06-28T00:17:46.564Z"
   },
   {
    "duration": 24,
    "start_time": "2024-06-28T00:17:46.632Z"
   },
   {
    "duration": 43,
    "start_time": "2024-06-28T00:17:46.659Z"
   },
   {
    "duration": 29,
    "start_time": "2024-06-28T00:17:46.706Z"
   },
   {
    "duration": 23,
    "start_time": "2024-06-28T00:17:46.737Z"
   },
   {
    "duration": 53,
    "start_time": "2024-06-28T00:17:46.764Z"
   },
   {
    "duration": 394,
    "start_time": "2024-06-28T00:17:46.820Z"
   },
   {
    "duration": 532,
    "start_time": "2024-06-28T00:17:47.217Z"
   },
   {
    "duration": 14,
    "start_time": "2024-06-28T00:17:47.753Z"
   },
   {
    "duration": 352,
    "start_time": "2024-06-28T00:17:47.771Z"
   },
   {
    "duration": 354,
    "start_time": "2024-06-28T00:17:48.126Z"
   },
   {
    "duration": 449,
    "start_time": "2024-06-28T00:17:48.483Z"
   },
   {
    "duration": 329,
    "start_time": "2024-06-28T00:17:48.935Z"
   },
   {
    "duration": 391,
    "start_time": "2024-06-28T00:17:49.267Z"
   },
   {
    "duration": 460,
    "start_time": "2024-06-28T00:17:49.661Z"
   },
   {
    "duration": 397,
    "start_time": "2024-06-28T00:17:50.124Z"
   },
   {
    "duration": 363,
    "start_time": "2024-06-28T00:17:50.524Z"
   },
   {
    "duration": 392,
    "start_time": "2024-06-28T00:17:50.890Z"
   },
   {
    "duration": 329,
    "start_time": "2024-06-28T00:17:51.285Z"
   },
   {
    "duration": 8,
    "start_time": "2024-06-28T00:17:51.617Z"
   },
   {
    "duration": 6,
    "start_time": "2024-06-28T00:17:51.629Z"
   },
   {
    "duration": 67,
    "start_time": "2024-06-28T00:17:51.639Z"
   },
   {
    "duration": 22,
    "start_time": "2024-06-28T00:17:51.709Z"
   },
   {
    "duration": 7,
    "start_time": "2024-06-28T00:17:51.734Z"
   },
   {
    "duration": 5149,
    "start_time": "2024-06-28T22:23:47.970Z"
   },
   {
    "duration": 464,
    "start_time": "2024-06-28T22:23:53.125Z"
   },
   {
    "duration": 17,
    "start_time": "2024-06-28T22:23:53.596Z"
   },
   {
    "duration": 24,
    "start_time": "2024-06-28T22:23:53.620Z"
   },
   {
    "duration": 25,
    "start_time": "2024-06-28T22:23:53.648Z"
   },
   {
    "duration": 48,
    "start_time": "2024-06-28T22:23:53.677Z"
   },
   {
    "duration": 16,
    "start_time": "2024-06-28T22:23:53.728Z"
   },
   {
    "duration": 7,
    "start_time": "2024-06-28T22:23:53.748Z"
   },
   {
    "duration": 64,
    "start_time": "2024-06-28T22:23:53.759Z"
   },
   {
    "duration": 34,
    "start_time": "2024-06-28T22:23:53.831Z"
   },
   {
    "duration": 43,
    "start_time": "2024-06-28T22:23:53.869Z"
   },
   {
    "duration": 59,
    "start_time": "2024-06-28T22:23:53.917Z"
   },
   {
    "duration": 47,
    "start_time": "2024-06-28T22:23:53.980Z"
   },
   {
    "duration": 26,
    "start_time": "2024-06-28T22:23:54.030Z"
   },
   {
    "duration": 53,
    "start_time": "2024-06-28T22:23:54.060Z"
   },
   {
    "duration": 14,
    "start_time": "2024-06-28T22:23:54.117Z"
   },
   {
    "duration": 31,
    "start_time": "2024-06-28T22:23:54.135Z"
   },
   {
    "duration": 52,
    "start_time": "2024-06-28T22:23:54.169Z"
   },
   {
    "duration": 31,
    "start_time": "2024-06-28T22:23:54.226Z"
   },
   {
    "duration": 16,
    "start_time": "2024-06-28T22:23:54.260Z"
   },
   {
    "duration": 73,
    "start_time": "2024-06-28T22:23:54.280Z"
   },
   {
    "duration": 20,
    "start_time": "2024-06-28T22:23:54.357Z"
   },
   {
    "duration": 46,
    "start_time": "2024-06-28T22:23:54.380Z"
   },
   {
    "duration": 31,
    "start_time": "2024-06-28T22:23:54.430Z"
   },
   {
    "duration": 57,
    "start_time": "2024-06-28T22:23:54.464Z"
   },
   {
    "duration": 33,
    "start_time": "2024-06-28T22:23:54.525Z"
   },
   {
    "duration": 63,
    "start_time": "2024-06-28T22:23:54.563Z"
   },
   {
    "duration": 13,
    "start_time": "2024-06-28T22:23:54.635Z"
   },
   {
    "duration": 63,
    "start_time": "2024-06-28T22:23:54.652Z"
   },
   {
    "duration": 30,
    "start_time": "2024-06-28T22:23:54.719Z"
   },
   {
    "duration": 9,
    "start_time": "2024-06-28T22:23:54.756Z"
   },
   {
    "duration": 65,
    "start_time": "2024-06-28T22:23:54.770Z"
   },
   {
    "duration": 27,
    "start_time": "2024-06-28T22:23:54.837Z"
   },
   {
    "duration": 53,
    "start_time": "2024-06-28T22:23:54.868Z"
   },
   {
    "duration": 431,
    "start_time": "2024-06-28T22:23:54.925Z"
   },
   {
    "duration": 494,
    "start_time": "2024-06-28T22:23:55.360Z"
   },
   {
    "duration": 16,
    "start_time": "2024-06-28T22:23:55.857Z"
   },
   {
    "duration": 450,
    "start_time": "2024-06-28T22:23:55.876Z"
   },
   {
    "duration": 353,
    "start_time": "2024-06-28T22:23:56.328Z"
   },
   {
    "duration": 464,
    "start_time": "2024-06-28T22:23:56.684Z"
   },
   {
    "duration": 331,
    "start_time": "2024-06-28T22:23:57.152Z"
   },
   {
    "duration": 383,
    "start_time": "2024-06-28T22:23:57.486Z"
   },
   {
    "duration": 457,
    "start_time": "2024-06-28T22:23:57.872Z"
   },
   {
    "duration": 321,
    "start_time": "2024-06-28T22:23:58.332Z"
   },
   {
    "duration": 446,
    "start_time": "2024-06-28T22:23:58.657Z"
   },
   {
    "duration": 379,
    "start_time": "2024-06-28T22:23:59.111Z"
   },
   {
    "duration": 343,
    "start_time": "2024-06-28T22:23:59.493Z"
   },
   {
    "duration": 7,
    "start_time": "2024-06-28T22:23:59.839Z"
   },
   {
    "duration": 8,
    "start_time": "2024-06-28T22:23:59.849Z"
   },
   {
    "duration": 54,
    "start_time": "2024-06-28T22:23:59.860Z"
   },
   {
    "duration": 19,
    "start_time": "2024-06-28T22:23:59.918Z"
   },
   {
    "duration": 6,
    "start_time": "2024-06-28T22:23:59.941Z"
   },
   {
    "duration": 10,
    "start_time": "2024-06-28T22:46:08.147Z"
   },
   {
    "duration": 14,
    "start_time": "2024-06-28T22:46:25.477Z"
   },
   {
    "duration": 425,
    "start_time": "2024-06-28T22:47:12.602Z"
   },
   {
    "duration": 324,
    "start_time": "2024-06-28T22:50:27.062Z"
   },
   {
    "duration": 33,
    "start_time": "2024-06-28T22:50:54.971Z"
   },
   {
    "duration": 570,
    "start_time": "2024-06-28T22:51:40.692Z"
   },
   {
    "duration": 322,
    "start_time": "2024-06-28T22:52:44.073Z"
   },
   {
    "duration": 350,
    "start_time": "2024-06-28T23:13:11.970Z"
   },
   {
    "duration": 784,
    "start_time": "2024-06-28T23:14:34.291Z"
   },
   {
    "duration": 497,
    "start_time": "2024-06-28T23:14:39.484Z"
   },
   {
    "duration": 477,
    "start_time": "2024-06-28T23:15:14.345Z"
   }
  ],
  "colab": {
   "provenance": []
  },
  "kernelspec": {
   "display_name": "Python 3",
   "language": "python",
   "name": "python3"
  },
  "language_info": {
   "codemirror_mode": {
    "name": "ipython",
    "version": 3
   },
   "file_extension": ".py",
   "mimetype": "text/x-python",
   "name": "python",
   "nbconvert_exporter": "python",
   "pygments_lexer": "ipython3",
   "version": "3.11.3"
  },
  "toc": {
   "base_numbering": 1,
   "nav_menu": {},
   "number_sections": true,
   "sideBar": true,
   "skip_h1_title": false,
   "title_cell": "Table of Contents",
   "title_sidebar": "Contents",
   "toc_cell": false,
   "toc_position": {
    "height": "calc(100% - 180px)",
    "left": "10px",
    "top": "150px",
    "width": "413.179px"
   },
   "toc_section_display": true,
   "toc_window_display": true
  }
 },
 "nbformat": 4,
 "nbformat_minor": 1
}
